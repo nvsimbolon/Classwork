{
 "cells": [
  {
   "cell_type": "code",
   "execution_count": 33,
   "id": "5ce29aef",
   "metadata": {},
   "outputs": [],
   "source": [
    "import pandas as pd\n",
    "import numpy as np\n",
    "import seaborn as sns\n",
    "import matplotlib.pyplot as plt\n",
    "from sklearn.metrics import mean_squared_error\n",
    "from sklearn.model_selection import cross_val_score,train_test_split\n",
    "from sklearn.metrics import roc_curve, precision_recall_curve, auc, make_scorer, recall_score, accuracy_score, precision_score, confusion_matrix\n",
    "from sklearn.model_selection import StratifiedKFold, KFold\n",
    "from sklearn.tree import DecisionTreeClassifier, DecisionTreeRegressor\n",
    "from sklearn.model_selection import GridSearchCV\n",
    "from sklearn.ensemble import BaggingRegressor,BaggingClassifier,RandomForestRegressor,RandomForestClassifier\n",
    "from sklearn.linear_model import LinearRegression,LogisticRegression\n",
    "from sklearn.neighbors import KNeighborsRegressor\n",
    "import itertools as it\n",
    "import warnings\n",
    "warnings.filterwarnings('ignore')"
   ]
  },
  {
   "cell_type": "code",
   "execution_count": 2,
   "id": "b36af0b0",
   "metadata": {},
   "outputs": [],
   "source": [
    "price_train = pd.read_csv(\"house_price_train.csv\")\n",
    "price_test = pd.read_csv(\"house_price_test.csv\")\n",
    "feature_train = pd.read_csv(\"house_feature_train.csv\")\n",
    "feature_test = pd.read_csv(\"house_feature_test.csv\")\n",
    "\n",
    "train = pd.merge(price_train, feature_train)\n",
    "test = pd.merge(price_test, feature_test)"
   ]
  },
  {
   "cell_type": "markdown",
   "id": "864ded58",
   "metadata": {},
   "source": [
    "# Q1a {-}\n",
    "Develop a bagged decision tree model on the data *house_feature_train.csv* to predict *house_price*. Use all the predictors except *house_id*. Follow the steps below:\n",
    "\n",
    "(i) Make a plot of out-of-bag RMSE (Root mean squared error) vs number of trees. *(3 points for code, 1 point for plot)* \\\n",
    "(ii) Based on the plot in (i), develop a bagged tree model with an appropriate number of trees. *(2 points for code)* \\\n",
    "(iii) Use the model developed in (ii) to predict house prices in *house_feature_test.csv*. Report the RMSE (should be less than 350). *(1 point for code, 1 point for answer)*\n",
    "\n"
   ]
  },
  {
   "cell_type": "code",
   "execution_count": 3,
   "id": "3a7620ef",
   "metadata": {},
   "outputs": [],
   "source": [
    "X = train.drop(columns = ['house_price', 'house_id'])\n",
    "Xtest = test.drop(columns =  ['house_price', 'house_id'])\n",
    "y = train['house_price']\n",
    "ytest = test['house_price']"
   ]
  },
  {
   "cell_type": "code",
   "execution_count": 4,
   "id": "323d8c92",
   "metadata": {},
   "outputs": [],
   "source": [
    "#Bagging the results of 10 decision trees to predict house price\n",
    "model = BaggingRegressor(base_estimator=DecisionTreeRegressor(), n_estimators=10, random_state=1, n_jobs=-1).fit(X, y)"
   ]
  },
  {
   "cell_type": "code",
   "execution_count": 5,
   "id": "13ba76a7",
   "metadata": {},
   "outputs": [
    {
     "data": {
      "text/plain": [
       "358.7351329853139"
      ]
     },
     "execution_count": 5,
     "metadata": {},
     "output_type": "execute_result"
    }
   ],
   "source": [
    "np.sqrt(mean_squared_error(test.house_price, model.predict(Xtest)))"
   ]
  },
  {
   "cell_type": "code",
   "execution_count": 6,
   "id": "97fe345f",
   "metadata": {},
   "outputs": [
    {
     "name": "stderr",
     "output_type": "stream",
     "text": [
      "C:\\Users\\nvsim\\anaconda3\\lib\\site-packages\\sklearn\\ensemble\\_bagging.py:1069: UserWarning: Some inputs do not have OOB scores. This probably means too few estimators were used to compute any reliable oob estimates.\n",
      "  warn(\"Some inputs do not have OOB scores. \"\n"
     ]
    }
   ],
   "source": [
    "oob_rsquared={};test_rsquared={};oob_rmse={};test_rmse = {}\n",
    "\n",
    "#Finding model accuracy vs number of trees\n",
    "for i in np.linspace(10,400,40,dtype=int):\n",
    "        model = BaggingRegressor(base_estimator=DecisionTreeRegressor(), \n",
    "                                 n_estimators=i, random_state=1, n_jobs=-1,oob_score=True).fit(X, y)\n",
    "        oob_rsquared[i]=model.oob_score_  #Returns the out-of_bag R-squared of the model\n",
    "        test_rsquared[i]=model.score(Xtest,ytest) #Returns the test R-squared of the model\n",
    "        oob_rmse[i]=np.sqrt(mean_squared_error(y,model.oob_prediction_))\n",
    "        test_rmse[i]=np.sqrt(mean_squared_error(ytest,model.predict(Xtest)))"
   ]
  },
  {
   "cell_type": "code",
   "execution_count": 7,
   "id": "33169b43",
   "metadata": {},
   "outputs": [
    {
     "data": {
      "text/plain": [
       "<matplotlib.legend.Legend at 0x1eefe9f0cd0>"
      ]
     },
     "execution_count": 7,
     "metadata": {},
     "output_type": "execute_result"
    },
    {
     "data": {
      "image/png": "[encoded data removed]",
      "text/plain": [
       "<Figure size 640x480 with 1 Axes>"
      ]
     },
     "metadata": {
      "needs_background": "light"
     },
     "output_type": "display_data"
    }
   ],
   "source": [
    "plt.rcParams.update({'font.size': 15})\n",
    "plt.figure(figsize=(8, 6), dpi=80)\n",
    "plt.plot(oob_rmse.keys(),oob_rmse.values(),label = 'Out of bag RMSE')\n",
    "plt.plot(oob_rmse.keys(),oob_rmse.values(),'o',color = 'blue')\n",
    "plt.xlabel('Number of trees')\n",
    "plt.ylabel('RMSE')\n",
    "plt.legend()"
   ]
  },
  {
   "cell_type": "code",
   "execution_count": 8,
   "id": "2fd7e0fb",
   "metadata": {},
   "outputs": [],
   "source": [
    "#Bagging with 300 trees\n",
    "model = BaggingRegressor(base_estimator=DecisionTreeRegressor(), n_estimators=300, random_state=1,\n",
    "                        oob_score=True,n_jobs=-1).fit(X, y)"
   ]
  },
  {
   "cell_type": "code",
   "execution_count": 9,
   "id": "a8e952a1",
   "metadata": {},
   "outputs": [
    {
     "data": {
      "text/plain": [
       "341.0988435793935"
      ]
     },
     "execution_count": 9,
     "metadata": {},
     "output_type": "execute_result"
    }
   ],
   "source": [
    "#RMSE on test data\n",
    "pred = model.predict(Xtest)\n",
    "np.sqrt(mean_squared_error(test.house_price, pred))"
   ]
  },
  {
   "cell_type": "markdown",
   "id": "51b62741",
   "metadata": {},
   "source": [
    "**The RMSE is 341.098.**"
   ]
  },
  {
   "cell_type": "markdown",
   "id": "e9a701cf",
   "metadata": {},
   "source": [
    "# Q1b {-}\n",
    "Develop a random forest model on the data *house_feature_train.csv* to predict *house_price*. Use all the predictors except *house_id*. For tuning the model, compute the out-of-bag scores (OOB R-squared) for the following set of parameter values:\n",
    "\n",
    "(i) Number of trees = \\[75,100,125\\] \\\n",
    "(ii) Number of predictors considered at each split: \\[1,2,3,4,5\\], \\\n",
    "(iii) Minimum number of observations required in a non-terminal node to split it: \\[2,3,4,5,6\\], \\\n",
    "(iv) Minimum number of observations required in a leaf: \\[1,2,3\\]\n",
    "\n",
    "\n",
    "Use the parameter values corresponding to the highest OOB score to develop the model. Use the developed model to predict house prices in *house_feature_test.csv*. Report the RMSE (should be less than the RMSE in *Q1a*).\n",
    "\n",
    "*(7 points for code, 1 point for answer)*"
   ]
  },
  {
   "cell_type": "code",
   "execution_count": 10,
   "id": "5c0faadd",
   "metadata": {},
   "outputs": [
    {
     "name": "stdout",
     "output_type": "stream",
     "text": [
      "Best params =  (100, 3, 6, 4)\n",
      "Best score (R-squared) =  0.7051914872582905\n"
     ]
    }
   ],
   "source": [
    "#Optimizing with OOB score takes half the time as compared to cross validation. \n",
    "#The number of models developed with OOB score tuning is one-fifth of the number of models developed with\n",
    "#5-fold cross validation\n",
    "\n",
    "n_samples = train.shape[0]\n",
    "n_features = train.shape[1]\n",
    "\n",
    "params = {'n_estimators': [75,100,125],\n",
    "          'min_samples_leaf': [1,2,3],\n",
    "          'min_samples_split':[2,3,4,5,6],\n",
    "          'max_features': [1,2,3,4,5]}\n",
    "\n",
    "param_list=list(it.product(*(params[Name] for Name in params)))\n",
    "\n",
    "oob_score = [0]*len(param_list)\n",
    "i=0\n",
    "for pr in param_list:\n",
    "    model = RandomForestRegressor(random_state=1,oob_score=True,verbose=False,n_estimators = pr[0],\n",
    "                                 max_depth=pr[1],\n",
    "                                  max_leaf_nodes=pr[2],max_features=pr[3],\n",
    "                                  n_jobs=-1).fit(X,y)\n",
    "    oob_score[i] = model.oob_score_\n",
    "    i=i+1\n",
    "\n",
    "print(\"Best params = \", param_list[np.argmax(oob_score)])\n",
    "print(\"Best score (R-squared) = \", np.max(oob_score))"
   ]
  },
  {
   "cell_type": "code",
   "execution_count": 21,
   "id": "ca0b9489",
   "metadata": {},
   "outputs": [],
   "source": [
    "model = BaggingRegressor(base_estimator=DecisionTreeRegressor(min_samples_leaf=3, min_samples_split=6), n_estimators=100, max_features=4, random_state=1,oob_score=True,n_jobs=-1).fit(X, y)"
   ]
  },
  {
   "cell_type": "code",
   "execution_count": 22,
   "id": "55b315c5",
   "metadata": {},
   "outputs": [
    {
     "data": {
      "text/plain": [
       "331.27164312689786"
      ]
     },
     "execution_count": 22,
     "metadata": {},
     "output_type": "execute_result"
    }
   ],
   "source": [
    "#RMSE on test data\n",
    "pred = model.predict(Xtest)\n",
    "np.sqrt(mean_squared_error(test.house_price, pred))"
   ]
  },
  {
   "cell_type": "markdown",
   "id": "f148d509",
   "metadata": {},
   "source": [
    "**The RMSE is 331.27.**"
   ]
  },
  {
   "cell_type": "markdown",
   "id": "e717ae03",
   "metadata": {},
   "source": [
    "# Q2 {-}\n",
    "Refer to *Q2a of assignment 2*. Make an attempt to tune a random forest model (instead of a single decision tree model as in *Q2a of assignment 2* ) that has both **precision and recall higher than 40%** on *train.csv*, *test1.csv* and *test2.csv*. Attempt to tune the number of trees (`n_estimators`), and the number of predictors to consider at each split (`max_features`) to achieve the objective, but do not tune any parameters that prune trees (i.e., do not tune `max_depth`, `max_leaf_nodes`, `min_samples_split`, and `min_samples_leaf`, etc.).\n",
    "\n",
    "Tune the parameters as follows. Compute the out-of-bag (OOB) precision for different parameter values of `n_estimators`, `max_features` and/or any other parameters that do not prune the tree, and choose the parameter values corresponing to the maximum OOB precision. Show that tuned model fails to meet the objective. You can show that by making a precision-recall plot for the tuned model, where both precision and recall are never simultaneously greater than 40%.\n",
    "\n",
    "**Purpose of this exercise:** This exercise shows that pruning a single decision tree model may sometimes (though not usually) lead to a higher reduction in prediction variance (or a more accurate model), as compared to a random forest with unpruned trees. Thus,\n",
    "\n",
    "(i) A random forest model can sometimes be further improved by pruning individual trees. \\\n",
    "(ii) A pruned tree may lead to enough reduction in prediction variance, so that developing a random forest with such pruned trees leads to negligible value addition (this can be shown by a similar exercise).\n",
    "\n",
    "*(7 points for code, 1 point for the precision-recall plot of the optimized random forest model)*"
   ]
  },
  {
   "cell_type": "code",
   "execution_count": 36,
   "id": "1fa2db3d",
   "metadata": {},
   "outputs": [],
   "source": [
    "def plot_precision_recall_vs_threshold(precisions, recalls, thresholds):\n",
    "    plt.figure(figsize=(8, 8))\n",
    "    plt.title(\"Precision and Recall Scores as a function of the decision threshold\")\n",
    "    plt.plot(thresholds, precisions[:-1], \"b--\", label=\"Precision\")\n",
    "    plt.plot(thresholds, recalls[:-1], \"g-\", label=\"Recall\")\n",
    "    plt.ylabel(\"Score\")\n",
    "    plt.xlabel(\"Decision Threshold\")\n",
    "    plt.legend(loc='best')"
   ]
  },
  {
   "cell_type": "code",
   "execution_count": 30,
   "id": "901a0480",
   "metadata": {},
   "outputs": [],
   "source": [
    "train = pd.read_csv('train.csv')\n",
    "test1 = pd.read_csv('test1.csv')\n",
    "test2 = pd.read_csv('test2.csv')\n",
    "X = train.drop(columns=['duration', 'y'])\n",
    "X = pd.get_dummies(X)\n",
    "y = pd.get_dummies(train['y'], drop_first=True)['yes']\n",
    "X_test1 = test1.drop(columns=['duration', 'y', 'default'])\n",
    "X_test1 = pd.get_dummies(X_test1)\n",
    "y_test1 = pd.get_dummies(test1['y'], drop_first=True)['yes']\n",
    "X_test2 = test2.drop(columns=['duration', 'y'])\n",
    "X_test2 = pd.get_dummies(X_test2)\n",
    "y_test2 = pd.get_dummies(test2['y'], drop_first=True)['yes']"
   ]
  },
  {
   "cell_type": "code",
   "execution_count": 31,
   "id": "11f314bb",
   "metadata": {},
   "outputs": [
    {
     "name": "stdout",
     "output_type": "stream",
     "text": [
      "time taken =  1.5109307686487834  minutes\n",
      "max precision =  39.33243121335138\n",
      "params=  (350, 4)\n"
     ]
    }
   ],
   "source": [
    "start_time = time.time()\n",
    "\n",
    "params = {'n_estimators': [325, 350, 375],\n",
    "'max_features': range(1,6),\n",
    "}\n",
    "param_list=list(it.product(*(params[Name] for Name in list(params.keys()))))\n",
    "precision = [0]*len(param_list)\n",
    "i=0\n",
    "for pr in param_list:\n",
    "    model =RandomForestClassifier(random_state=1,oob_score=True,verbose=False,n_estimators= pr[0],\n",
    "    max_features=pr[1], n_jobs=-1).fit(X,y)\n",
    "    oob_pred = model.oob_decision_function_[:,1]\n",
    "    bins=np.array([0,0.5,1])\n",
    "    cm = np.histogram2d(y, oob_pred, bins=bins)[0]\n",
    "    precision[i] = 100*(cm[1,1])/(cm[0,1]+cm[1,1])\n",
    "    i=i+1\n",
    "end_time = time.time()\n",
    "print(\"time taken = \", (end_time-start_time)/60, \" minutes\")\n",
    "print(\"max precision = \", np.max(precision))\n",
    "print(\"params= \", param_list[np.argmax(precision)])"
   ]
  },
  {
   "cell_type": "code",
   "execution_count": 37,
   "id": "8765e6f9",
   "metadata": {},
   "outputs": [
    {
     "data": {
      "image/png": "[encoded data removed]",
      "text/plain": [
       "<Figure size 576x576 with 1 Axes>"
      ]
     },
     "metadata": {
      "needs_background": "light"
     },
     "output_type": "display_data"
    }
   ],
   "source": [
    "model = RandomForestClassifier(random_state=1, oob_score=True, n_estimators=350, max_features=4, verbose=False, n_jobs=-1).fit(X,y)\n",
    "ypred = model.predict_proba(X_test1)[:, 1]\n",
    "p, r, thresholds = precision_recall_curve(y_test1, ypred)\n",
    "plot_precision_recall_vs_threshold(p, r, thresholds)"
   ]
  },
  {
   "cell_type": "markdown",
   "id": "94a79065",
   "metadata": {},
   "source": [
    "# Q3 {-}\n",
    "We aim to classify stars as Galaxies or Quasars *(Quasars are extremely luminous active galactic nucleus, powered by a supermassive black hole)* based on their spectral characteristics. \n",
    "The data [(reference)](https://www.kaggle.com/datasets/fedesoriano/stellar-classification-dataset-sdss17) consists of observations of space taken by the SDSS (Sloan Digital Sky Survey). Every observation is described by 9 feature columns and 1 class column which identifies it to be either a galaxy or quasar:\n",
    "\n",
    "`alpha` = Right Ascension angle (at J2000 epoch) \\\n",
    "`delta` = Declination angle (at J2000 epoch) \\\n",
    "`u` = Ultraviolet filter in the photometric system \\\n",
    "`g` = Green filter in the photometric system \\\n",
    "`r` = Red filter in the photometric system \\\n",
    "`i` = Near Infrared filter in the photometric system \\\n",
    "`z` = Infrared filter in the photometric system \\\n",
    "`cam_col` = Camera column to identify the scanline within the run \\\n",
    "`class` = object class (galaxy or quasar object) \\\n",
    "`redshift` = redshift value based on the increase in wavelength\n",
    "\n",
    "Develop and tune a random forest model using *Stellar_Classification_train.csv* to classify an observations as a Galaxy (*y=0*) or Quasar (*y=1*). The model must have a ROC-AUC of at least  99% on both  *Stellar_Classification_train.csv* and *Stellar_Classification_test.csv*. Print the ROC-AUC for both the datasets.\n",
    "\n",
    "**Hint:** Consider 500 trees, and find the value of `max_features` that maximizes the out-of-bag (OOB) ROC-AUC.\n",
    "\n",
    "*(7 points for code, 1 point for answer)*"
   ]
  },
  {
   "cell_type": "code",
   "execution_count": 40,
   "id": "94aaa9ae",
   "metadata": {},
   "outputs": [],
   "source": [
    "train = pd.read_csv(\"Stellar_Classification_train.csv\")\n",
    "test = pd.read_csv(\"Stellar_Classification_test.csv\")"
   ]
  },
  {
   "cell_type": "code",
   "execution_count": 43,
   "id": "fbc35544",
   "metadata": {},
   "outputs": [
    {
     "name": "stdout",
     "output_type": "stream",
     "text": [
      "time taken =  1.3694956342379252  minutes\n",
      "max roc_auc =  0.9885955918265144\n",
      "params=  (3,)\n"
     ]
    }
   ],
   "source": [
    "X = train.drop(columns = 'class')\n",
    "Xtest = test.drop(columns = 'class')\n",
    "y = pd.get_dummies(train['class'])['QSO']\n",
    "ytest = pd.get_dummies(test['class'])['QSO']\n",
    "\n",
    "# Parameter Tuning\n",
    "start_time = time.time()\n",
    "\n",
    "params = {'max_features': range(1, 6)}\n",
    "param_list=list(it.product(*(params[Name] for Name in list(params.keys()))))\n",
    "roc_auc = [0]*len(param_list)\n",
    "i=0\n",
    "for pr in param_list:\n",
    "    model =RandomForestClassifier(random_state=1,oob_score=True,verbose=False,n_estimators= 500,\n",
    "    max_features=pr[0], n_jobs=-1).fit(X,y)\n",
    "    oob_pred = model.oob_decision_function_[:,1]\n",
    "    bins=np.array([0,0.5,1])\n",
    "    cm = np.histogram2d(y, oob_pred, bins=bins)[0]\n",
    "    fpr, tpr, auc_thresholds = roc_curve(y, oob_pred)\n",
    "    roc_auc[i] = auc(fpr, tpr)\n",
    "    i=i+1\n",
    "    \n",
    "end_time = time.time()\n",
    "print(\"time taken = \", (end_time-start_time)/60, \" minutes\")\n",
    "print(\"max roc_auc = \", np.max(roc_auc))\n",
    "print(\"params= \", param_list[np.argmax(roc_auc)])"
   ]
  },
  {
   "cell_type": "code",
   "execution_count": 46,
   "id": "ded74e3a",
   "metadata": {},
   "outputs": [],
   "source": [
    "model =RandomForestClassifier(random_state=1,oob_score=True,verbose=False,n_estimators= 500,max_features=3, n_jobs=-1).fit(X,y)"
   ]
  },
  {
   "cell_type": "code",
   "execution_count": 48,
   "id": "86a5a2fb",
   "metadata": {},
   "outputs": [
    {
     "data": {
      "text/plain": [
       "1.0"
      ]
     },
     "execution_count": 48,
     "metadata": {},
     "output_type": "execute_result"
    }
   ],
   "source": [
    "fpr, tpr, auc_thresholds = roc_curve(y, model.predict_proba(X)[:,1])\n",
    "auc(fpr, tpr)"
   ]
  },
  {
   "cell_type": "code",
   "execution_count": 49,
   "id": "8d580c46",
   "metadata": {},
   "outputs": [
    {
     "data": {
      "text/plain": [
       "0.990037663113758"
      ]
     },
     "execution_count": 49,
     "metadata": {},
     "output_type": "execute_result"
    }
   ],
   "source": [
    "fpr, tpr, auc_thresholds = roc_curve(ytest, model.predict_proba(Xtest)[:,1])\n",
    "auc(fpr, tpr)"
   ]
  },
  {
   "cell_type": "markdown",
   "id": "cabe1849",
   "metadata": {},
   "source": [
    "**The ROC-AUC on the train data is 1.0. The ROC-AUC on the test data is 0.990037663113758.**"
   ]
  },
  {
   "cell_type": "markdown",
   "id": "94f87c9e",
   "metadata": {},
   "source": [
    "# Q4 {-}\n",
    "Can a non-linear monotonic transformation of predictors (such as *log(), sqrt()* etc.) be useful in improving the accuracy of decision tree models?\n",
    "\n",
    "*(3 points for answer)*"
   ]
  },
  {
   "cell_type": "markdown",
   "id": "1191190c",
   "metadata": {},
   "source": [
    "**No, non-linear monotonic transformation of predictors are not useful in improving the accuracy of decision models.**"
   ]
  }
 ],
 "metadata": {
  "kernelspec": {
   "display_name": "Python 3",
   "language": "python",
   "name": "python3"
  },
  "language_info": {
   "codemirror_mode": {
    "name": "ipython",
    "version": 3
   },
   "file_extension": ".py",
   "mimetype": "text/x-python",
   "name": "python",
   "nbconvert_exporter": "python",
   "pygments_lexer": "ipython3",
   "version": "3.8.8"
  }
 },
 "nbformat": 4,
 "nbformat_minor": 5
}
