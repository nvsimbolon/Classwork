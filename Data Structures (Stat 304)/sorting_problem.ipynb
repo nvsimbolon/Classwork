{
 "cells": [
  {
   "cell_type": "markdown",
   "metadata": {
    "id": "5hNfwr_mr_LX"
   },
   "source": [
    "# Problem: Find $k$ Closest Points to the Origin\n",
    "Given an array of points where $points[i] = [x_i, y_i]$ represents a point on the X-Y plane and an integer $k$, find the $k$ closest points to the origin $[0, 0]$.\n",
    "\n",
    "The distance between two points on the X-Y plane is the Euclidean distance (i.e., $\\sqrt{(x_1 - x_2)^2 + (y_1 - y_2)^2)}$.\n",
    "\n",
    "$x_i$ and $y_i$ are integers. **The answer can be in any order**.  \n",
    "\n",
    "The problem can be solved in many ways, but in this excercise we practice sorting algorithms.\n",
    " "
   ]
  },
  {
   "cell_type": "code",
   "execution_count": 1,
   "metadata": {
    "colab": {
     "base_uri": "https://localhost:8080/"
    },
    "id": "b8EBRX6dCdph",
    "outputId": "0d3c27f3-35b2-4635-8356-5fb0fbb232f5"
   },
   "outputs": [
    {
     "name": "stdout",
     "output_type": "stream",
     "text": [
      "Test using function:<function <lambda> at 0x00000105D1D8FE50>\n"
     ]
    },
    {
     "name": "stderr",
     "output_type": "stream",
     "text": [
      "test_empty_points (__main__.TestNotebook) ... ok\n",
      "test_hundred_points (__main__.TestNotebook) ... ok\n",
      "test_million_points (__main__.TestNotebook) ... ok\n",
      "\n",
      "----------------------------------------------------------------------\n",
      "Ran 3 tests in 13.081s\n",
      "\n",
      "OK\n"
     ]
    },
    {
     "data": {
      "text/plain": [
       "<unittest.main.TestProgram at 0x105d5aa78b0>"
      ]
     },
     "execution_count": 1,
     "metadata": {},
     "output_type": "execute_result"
    }
   ],
   "source": [
    "#TEST CODE\n",
    "#DO NOT MODIFY\n",
    "import unittest\n",
    "import random\n",
    "\n",
    "class TestNotebook(unittest.TestCase):\n",
    "    \n",
    "    @classmethod\n",
    "    def setUpClass(cls):\n",
    "      print(\"Test using function:\" + str(cls.user_function), flush=True)\n",
    "    \n",
    "    def buildin_sorting__(self,points,k):\n",
    "      if not points: return [] \n",
    "      points.sort(key=lambda v: v[0]**2+v[1]**2)\n",
    "      return points[:k]\n",
    "      \n",
    "    def __generate_points(self, n, MAX=10000):\n",
    "      ans =[]\n",
    "      for _ in range(n):\n",
    "        x=random.randint(-MAX,MAX)\n",
    "        y=random.randint(-MAX,MAX)\n",
    "        ans.append([x,y])\n",
    "      return ans \n",
    "    def check_ans(self,points,k):\n",
    "      points_copy1=[v.copy() for v in points]\n",
    "      points_copy2=[v.copy() for v in points]\n",
    "      ans1=self.buildin_sorting__(points_copy1,k)\n",
    "      ans2=TestNotebook.user_function(points_copy2, k)\n",
    "      self.assertEqual(len(ans1), len(ans2))\n",
    "      for v in ans2:\n",
    "        self.assertEqual(len(v),2)\n",
    "      f=lambda x,y: x**2+y**2\n",
    "      d1=[f(*v) for v in ans1]\n",
    "      d2=[f(*v) for v in ans2]\n",
    "      d1.sort()\n",
    "      d2.sort()\n",
    "      self.assertEqual(d1,d2)\n",
    "      \n",
    "    def test_empty_points(self):\n",
    "      points=[]\n",
    "      ans=TestNotebook.user_function(points,1)\n",
    "      assert not ans\n",
    "            \n",
    "    def test_hundred_points(self):\n",
    "      for _ in range(1000):\n",
    "        points=self.__generate_points(100)\n",
    "        self.check_ans(points,5)\n",
    "        self.check_ans(points,500)\n",
    "    def test_million_points(self):\n",
    "      points=self.__generate_points(1000000)\n",
    "      self.check_ans(points,500)\n",
    "        \n",
    "TestNotebook.user_function=lambda seq,k: sorted(seq,key=lambda v: v[0]**2+v[1]**2)[:k]\n",
    "unittest.main(argv=[''], verbosity=2, exit=False)"
   ]
  },
  {
   "cell_type": "markdown",
   "metadata": {
    "id": "OPILWXwftQZw"
   },
   "source": [
    "## Method1: Sorting (50 points)\n",
    "\n",
    "Sort the points then take the closest $k$. \n",
    "\n",
    "You are required to implement the **merge sort** algorithm. Do not use build-in sorting functions.\n",
    "\n",
    "Test cases are provided to verify your algorithm.\n"
   ]
  },
  {
   "cell_type": "code",
   "execution_count": 2,
   "metadata": {},
   "outputs": [],
   "source": [
    "### fix the function by writing code in the blocks between START and END. \n",
    "### You are freely to change anything in the blocks\n",
    "### You are freely add new functions.\n",
    "### EXCEPT: do not change the existing function interfaces (which are used by test cases).\n",
    "\n",
    "def mergesort(points):\n",
    "  ### START CODE HERE\n",
    "    n = len(points)\n",
    "    if n < 2:\n",
    "        return points\n",
    "    else:\n",
    "        mid = n //2\n",
    "        points1 = points[0:mid]\n",
    "        points2 = points[mid:n]\n",
    "        left=mergesort(points1)\n",
    "        right=mergesort(points2)\n",
    "        return merge(right,left)  \n",
    "\n",
    "def merge(points1, points2):\n",
    "    points1.reverse()\n",
    "    points2.reverse()\n",
    "    points=[]\n",
    "    while points1 and points2:\n",
    "        x1 = points1[len(points1) - 1][0]\n",
    "        y1 = points1[len(points1) - 1][1]\n",
    "        x2 = points2[len(points2) -1][0]\n",
    "        y2 = points2[len(points2) - 1][1]\n",
    "        distance1 = (x1 **2) + (y1 ** 2)\n",
    "        distance2 = (x2 ** 2) + (y2 ** 2)\n",
    "        if distance1 <= distance2:\n",
    "            points.append(points1.pop())\n",
    "        else:\n",
    "            points.append(points2.pop())\n",
    "    while points1:\n",
    "        points.append(points1.pop())\n",
    "    while points2:\n",
    "        points.append(points2.pop())\n",
    "        \n",
    "    return points\n",
    "\n",
    "def k_closest_mergesort(points, k):\n",
    "  ### START CODE HERE\n",
    "    sorted_points=mergesort(points)\n",
    "    if k >= len(points):\n",
    "        return sorted_points\n",
    "    elif len(points) == 0:\n",
    "        return sorted_points\n",
    "    else:   \n",
    "        return sorted_points[0:k]"
   ]
  },
  {
   "cell_type": "code",
   "execution_count": 3,
   "metadata": {
    "colab": {
     "base_uri": "https://localhost:8080/"
    },
    "id": "GYOKpAXK2yNB",
    "outputId": "b94db015-7921-4d19-d1f4-62796ed1f036"
   },
   "outputs": [
    {
     "name": "stdout",
     "output_type": "stream",
     "text": [
      "Test using function:<function k_closest_mergesort at 0x00000105D5B438B0>\n"
     ]
    },
    {
     "name": "stderr",
     "output_type": "stream",
     "text": [
      "test_empty_points (__main__.TestNotebook) ... ok\n",
      "test_hundred_points (__main__.TestNotebook) ... ok\n",
      "test_million_points (__main__.TestNotebook) ... ok\n",
      "\n",
      "----------------------------------------------------------------------\n",
      "Ran 3 tests in 75.411s\n",
      "\n",
      "OK\n"
     ]
    },
    {
     "data": {
      "text/plain": [
       "<unittest.main.TestProgram at 0x105d5ab6af0>"
      ]
     },
     "execution_count": 3,
     "metadata": {},
     "output_type": "execute_result"
    }
   ],
   "source": [
    "#TEST BLOCK, DO NOT MODIFY\n",
    "#Your code needs to pass the unittests\n",
    "\n",
    "TestNotebook.user_function=k_closest_mergesort\n",
    "unittest.main(argv=[''], verbosity=2, exit=False)"
   ]
  },
  {
   "cell_type": "markdown",
   "metadata": {
    "id": "ZW--Gr6tDSFJ"
   },
   "source": [
    "## Method2: quick select (50 points)\n",
    "\n",
    "Merge sort has a time complexity of $O(n*log(n))$, which is acceptable but not optimal for this problem. \n",
    "\n",
    "*(Another method is heapsort and the time complexity is  $O(n*log(k))$, but it is beyond the scope of this exercise.)*\n",
    "\n",
    "Since we do not care the order of return points, there is a faster method [quickselect](https://en.wikipedia.org/wiki/Quickselect) whose average time complexity is $O(n)$.\n",
    "\n",
    "Quickselect uses the same overall approach as quicksort, choosing one element as a pivot and partitioning the data in two based on the pivot, accordingly as less than or greater than the pivot. However, instead of recursing into both sides, as in quicksort, quickselect only recurses into one side – the side with the element it is searching for. This reduces the average complexity from $O(n*log(n))$ to $O(n)$, with a worst case of  $O(n^2)$.\n",
    "\n",
    "So if the pivot index happens to be $k$, then elements on its left side are the ones we are looking for in this problem. \n",
    "\n",
    "In this exercise you will be asked to implement quickselect to solve the problem (the pseudo code at wikipedia might help).\n"
   ]
  },
  {
   "cell_type": "code",
   "execution_count": 4,
   "metadata": {},
   "outputs": [],
   "source": [
    "### fix the function by writing code in the blocks between START and END. \n",
    "### You are freely to change anything in the blocks\n",
    "### You are freely add new functions.\n",
    "### EXCEPT: do not change the existing function interfaces (which are used by test cases).\n",
    "\n",
    "def k_closest_quickselect(points, k):\n",
    "        def partition(p, q, pivotIndex):\n",
    "            pivot = points[pivotIndex][0] ** 2 + points[pivotIndex][1] ** 2\n",
    "            points[pivotIndex], points[q] = points[q], points[pivotIndex]\n",
    "            storedIndex = p\n",
    "            for i in range(p, q):\n",
    "                if (points[i][0] ** 2 + points[i][1] ** 2) < pivot:\n",
    "                    points[storedIndex], points[i] = points[i], points[storedIndex]\n",
    "                    storedIndex += 1\n",
    "            points[storedIndex], points[q] = points[q], points[storedIndex]\n",
    "            return storedIndex\n",
    "\n",
    "        def quick_select(p, q, k):\n",
    "            if p < q:\n",
    "                pivotIndex = random.randint(p, q)\n",
    "                pivotIndex = partition(p, q, pivotIndex)\n",
    "                if pivotIndex == k:\n",
    "                    return \n",
    "                if pivotIndex < k:\n",
    "                    quick_select(pivotIndex+1, q, k)\n",
    "                else:\n",
    "                    quick_select(p, pivotIndex-1, k)\n",
    "\n",
    "        quick_select(0, len(points)-1, k)\n",
    "        return points[0:k]"
   ]
  },
  {
   "cell_type": "code",
   "execution_count": 5,
   "metadata": {
    "colab": {
     "base_uri": "https://localhost:8080/"
    },
    "id": "yeqBMyqhHA_T",
    "outputId": "75c9e2b2-4345-4e37-c534-56e88f770c41"
   },
   "outputs": [
    {
     "name": "stdout",
     "output_type": "stream",
     "text": [
      "Test using function:<function k_closest_quickselect at 0x00000105D5AABD30>\n"
     ]
    },
    {
     "name": "stderr",
     "output_type": "stream",
     "text": [
      "test_empty_points (__main__.TestNotebook) ... ok\n",
      "test_hundred_points (__main__.TestNotebook) ... ok\n",
      "test_million_points (__main__.TestNotebook) ... ok\n",
      "\n",
      "----------------------------------------------------------------------\n",
      "Ran 3 tests in 19.433s\n",
      "\n",
      "OK\n"
     ]
    },
    {
     "data": {
      "text/plain": [
       "<unittest.main.TestProgram at 0x105d5b493a0>"
      ]
     },
     "execution_count": 5,
     "metadata": {},
     "output_type": "execute_result"
    }
   ],
   "source": [
    "#TEST BLOCK, DO NOT MODIFY\n",
    "#Your code needs to pass the unittests\n",
    "\n",
    "TestNotebook.user_function=k_closest_quickselect\n",
    "unittest.main(argv=[''], verbosity=2, exit=False)"
   ]
  }
 ],
 "metadata": {
  "colab": {
   "collapsed_sections": [],
   "provenance": []
  },
  "kernelspec": {
   "display_name": "Python 3",
   "language": "python",
   "name": "python3"
  },
  "language_info": {
   "codemirror_mode": {
    "name": "ipython",
    "version": 3
   },
   "file_extension": ".py",
   "mimetype": "text/x-python",
   "name": "python",
   "nbconvert_exporter": "python",
   "pygments_lexer": "ipython3",
   "version": "3.8.8"
  }
 },
 "nbformat": 4,
 "nbformat_minor": 1
}
