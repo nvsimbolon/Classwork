{
 "cells": [
  {
   "cell_type": "markdown",
   "metadata": {
    "id": "SqesiDQzJtlf"
   },
   "source": [
    "# HW4 (Due date: Nov 17th)\n",
    "\n",
    "This assignment is mainly to practice the implementation and application of singly linked list , stack, and queue."
   ]
  },
  {
   "cell_type": "code",
   "execution_count": 1,
   "metadata": {
    "id": "BH-nV83aTe9R"
   },
   "outputs": [],
   "source": [
    "#Here is the definition of Node class for singly linked list\n",
    "class Node:\n",
    "  \"\"\"\n",
    "  Node for singly linked list\n",
    "  val: value for the node\n",
    "  next: reference to the next node \n",
    "  \"\"\"\n",
    "  def __init__(self, val, next=None):\n",
    "    self.val=val\n",
    "    self.next=next \n"
   ]
  },
  {
   "cell_type": "markdown",
   "metadata": {
    "id": "vzDOm-JOLoeQ"
   },
   "source": [
    "# Problem 1: implement stack (20 points)\n",
    "\n",
    "Requirement:\n",
    "* implement `Stack` class using singly linked list\n",
    "* do not use built-in `list` and `deque` class in Python\n",
    "* O(1) time complexity for both `push` and `pop` methods \n"
   ]
  },
  {
   "cell_type": "code",
   "execution_count": 2,
   "metadata": {
    "id": "1vlOziq4PQWB"
   },
   "outputs": [],
   "source": [
    "#implement using this signature. Add anything else necessary.\n",
    "class Stack(object):\n",
    "  \n",
    "  def __init__(self):\n",
    "    self._size = 0\n",
    "    self._top = Node(\"top\") \n",
    "  \n",
    "  def push(self, val:int) -> None:\n",
    "    \"\"\"\n",
    "    push operation\n",
    "    \"\"\"\n",
    "    newest = Node(val, None)\n",
    "    if self.is_empty():\n",
    "        self._top = newest\n",
    "    else:\n",
    "        newest.next = self._top\n",
    "        self._top = newest\n",
    "    self._size += 1\n",
    "    pass\n",
    "\n",
    "  def pop(self) -> int:\n",
    "    \"\"\"\n",
    "    remove and return the value of top element in the stack\n",
    "    \"\"\"\n",
    "    if self.is_empty():\n",
    "        print('Stack is empty')\n",
    "        return\n",
    "    e = self._top.val\n",
    "    self._top = self._top.next\n",
    "    self._size -= 1\n",
    "    return e\n",
    "    pass\n",
    "\n",
    "  def peek(self) -> int:\n",
    "    \"\"\"\n",
    "    return the value of top element\n",
    "    \"\"\"\n",
    "    if self.is_empty():\n",
    "        print('Stack is empty')\n",
    "        return\n",
    "    e = self._top.val\n",
    "    return e\n",
    "    pass\n",
    "\n",
    "  def is_empty(self) -> bool:\n",
    "    \"\"\"\n",
    "    return True if the stack is empty, otherwise return False\n",
    "    \"\"\"\n",
    "    if self._size == 0:\n",
    "        return True\n",
    "    else:\n",
    "        return False"
   ]
  },
  {
   "cell_type": "code",
   "execution_count": 3,
   "metadata": {
    "colab": {
     "base_uri": "https://localhost:8080/"
    },
    "id": "6kaBi0AAHRJd",
    "outputId": "f6c39e9a-0cab-4329-919f-a60a6edebca5"
   },
   "outputs": [
    {
     "name": "stdout",
     "output_type": "stream",
     "text": [
      "Test using class:<class '__main__.ListStack'>\n"
     ]
    },
    {
     "name": "stderr",
     "output_type": "stream",
     "text": [
      ".\n",
      "----------------------------------------------------------------------\n",
      "Ran 1 test in 2.474s\n",
      "\n",
      "OK\n"
     ]
    },
    {
     "data": {
      "text/plain": [
       "<unittest.runner.TextTestResult run=1 errors=0 failures=0>"
      ]
     },
     "execution_count": 3,
     "metadata": {},
     "output_type": "execute_result"
    }
   ],
   "source": [
    "#TEST CODE\n",
    "#DO NOT MODIFY\n",
    "import unittest\n",
    "import random\n",
    "class ListStack:\n",
    "  def __init__(self):\n",
    "    self.data=[]\n",
    "  \n",
    "  def push(self, val: int):\n",
    "    self.data.append(val)\n",
    "\n",
    "\n",
    "  def pop(self)->int :\n",
    "    if self.is_empty():\n",
    "      return None \n",
    "    return self.data.pop()\n",
    "\n",
    "  def is_empty(self):\n",
    "    return not self.data \n",
    "\n",
    "  def peek(self):\n",
    "    if self.is_empty():\n",
    "      return None \n",
    "    else:\n",
    "      return self.data[-1]\n",
    "\n",
    "class TestStack(unittest.TestCase):\n",
    "    \n",
    "    @classmethod\n",
    "    def setUpClass(cls):\n",
    "      print(\"Test using class:\" + str(cls.stack_class), flush=True)\n",
    "    \n",
    "    def test_push_and_pop(self):\n",
    "      stack1=ListStack()\n",
    "      stack2=TestStack.stack_class()\n",
    "      MAX=10000\n",
    "      for _ in range(10**6):\n",
    "        if stack1.is_empty() or random.random()>0.5:\n",
    "          self.assertEqual(stack1.is_empty(), stack2.is_empty())\n",
    "          x=random.randint(-MAX,MAX)\n",
    "          stack1.push(x)\n",
    "          stack2.push(x) \n",
    "        else:\n",
    "          if random.random()>0.5:\n",
    "            self.assertEqual(stack1.pop(),stack2.pop())\n",
    "          else:\n",
    "            self.assertEqual(stack1.peek(),stack2.peek())\n",
    "\n",
    "        \n",
    "      \n",
    "        \n",
    "TestStack.stack_class=ListStack\n",
    "suite = unittest.TestSuite([TestStack('test_push_and_pop')])\n",
    "unittest.TextTestRunner().run(suite)"
   ]
  },
  {
   "cell_type": "code",
   "execution_count": 4,
   "metadata": {
    "colab": {
     "base_uri": "https://localhost:8080/"
    },
    "id": "z4_-eJcvcAvC",
    "outputId": "c1a53173-d881-49b0-d230-44ce03e7921e"
   },
   "outputs": [
    {
     "name": "stdout",
     "output_type": "stream",
     "text": [
      "Test using class:<class '__main__.Stack'>\n"
     ]
    },
    {
     "name": "stderr",
     "output_type": "stream",
     "text": [
      ".\n",
      "----------------------------------------------------------------------\n",
      "Ran 1 test in 3.441s\n",
      "\n",
      "OK\n"
     ]
    },
    {
     "data": {
      "text/plain": [
       "<unittest.runner.TextTestResult run=1 errors=0 failures=0>"
      ]
     },
     "execution_count": 4,
     "metadata": {},
     "output_type": "execute_result"
    }
   ],
   "source": [
    "#TEST BLOCK, DO NOT MODIFY\n",
    "#Your code needs to pass the unittests\n",
    "TestStack.stack_class=Stack\n",
    "suite = unittest.TestSuite([TestStack('test_push_and_pop')])\n",
    "unittest.TextTestRunner().run(suite)"
   ]
  },
  {
   "cell_type": "markdown",
   "metadata": {
    "id": "fc6rjsQwdN41"
   },
   "source": [
    "# Problem 2: implement FIFO queue (20 points)\n",
    "\n",
    "Requirement:\n",
    "* implement FIFO Queue class using singly linked list\n",
    "* do not use built-in `deque` class in Python\n",
    "* O(1) time complexity for both `enqueue` and `dequeue` methods\n"
   ]
  },
  {
   "cell_type": "code",
   "execution_count": 5,
   "metadata": {
    "id": "ud6BdknxdN4_"
   },
   "outputs": [],
   "source": [
    "#implement using this signature. Add anything else necessary.\n",
    "class Queue(object):\n",
    "  \n",
    "  def __init__(self):\n",
    "    self._size = 0\n",
    "    self._head = Node(\"head\")\n",
    "    self._tail = self._head\n",
    "    pass\n",
    "\n",
    "  def enqueue(self, val:int) -> None:\n",
    "    \"\"\"\n",
    "    insert val to the queue\n",
    "    \"\"\"\n",
    "    newest = Node(val, None)\n",
    "    if self.is_empty():\n",
    "        self._tail.next = newest\n",
    "        self._tail = self._tail.next\n",
    "        self._size += 1\n",
    "    else:\n",
    "        self._tail.next = newest\n",
    "        self._tail = self._tail.next\n",
    "        self._size += 1\n",
    "        pass \n",
    "  \n",
    "  def dequeue(self) -> int :\n",
    "    \"\"\"\n",
    "    remove and return the value from the queue\n",
    "    \"\"\"\n",
    "    if self.is_empty():\n",
    "        print(\"Queue is empty\")\n",
    "        return\n",
    "    e = self._head.next.val\n",
    "    self._head = self._head.next\n",
    "    self._size -= 1\n",
    "    return e\n",
    "    pass \n",
    "\n",
    "  def is_empty(self):\n",
    "    \"\"\"\n",
    "    return True if the queue is empty, otherwise return False\n",
    "    \"\"\"\n",
    "    if self._size == 0:\n",
    "        return True\n",
    "    else:\n",
    "        return False  \n"
   ]
  },
  {
   "cell_type": "code",
   "execution_count": 6,
   "metadata": {
    "colab": {
     "base_uri": "https://localhost:8080/"
    },
    "id": "OZnym4AQdN5A",
    "outputId": "6e643c05-8d9e-4ae1-d8d1-8d04ea6f88df"
   },
   "outputs": [
    {
     "name": "stdout",
     "output_type": "stream",
     "text": [
      "Test using class:<class '__main__.PythonBuiltinQueue'>\n"
     ]
    },
    {
     "name": "stderr",
     "output_type": "stream",
     "text": [
      ".\n",
      "----------------------------------------------------------------------\n",
      "Ran 1 test in 2.875s\n",
      "\n",
      "OK\n"
     ]
    },
    {
     "data": {
      "text/plain": [
       "<unittest.runner.TextTestResult run=1 errors=0 failures=0>"
      ]
     },
     "execution_count": 6,
     "metadata": {},
     "output_type": "execute_result"
    }
   ],
   "source": [
    "#TEST CODE\n",
    "#DO NOT MODIFY\n",
    "import unittest\n",
    "import random\n",
    "from collections import deque \n",
    "class PythonBuiltinQueue:\n",
    "  def __init__(self):\n",
    "    self.q=deque()\n",
    "\n",
    "  def enqueue(self, val:int):\n",
    "    self.q.appendleft(val) \n",
    "    \n",
    "  def dequeue(self) -> int :\n",
    "    return self.q.pop()\n",
    "\n",
    "  def is_empty(self):\n",
    "    return not self.q \n",
    "\n",
    "class TestQueue(unittest.TestCase):\n",
    "    \n",
    "    @classmethod\n",
    "    def setUpClass(cls):\n",
    "      print(\"Test using class:\" + str(cls.user_class), flush=True)\n",
    "    \n",
    "    def test_push_and_pop(self):\n",
    "      obj1=PythonBuiltinQueue()\n",
    "      obj2=self.user_class()\n",
    "      MAX=10000\n",
    "      for _ in range(10**6):\n",
    "        self.assertEqual(obj1.is_empty(), obj2.is_empty())\n",
    "        if obj1.is_empty() or random.random()>0.5:\n",
    "          x=random.randint(-MAX,MAX)\n",
    "          obj1.enqueue(x)\n",
    "          obj2.enqueue(x) \n",
    "        else:\n",
    "          a,b=obj1.dequeue(),obj2.dequeue()\n",
    "          self.assertEqual(a,b)\n",
    "\n",
    "        \n",
    "TestQueue.user_class=PythonBuiltinQueue    \n",
    "suite = unittest.TestSuite([TestQueue('test_push_and_pop')])\n",
    "unittest.TextTestRunner().run(suite)"
   ]
  },
  {
   "cell_type": "code",
   "execution_count": 7,
   "metadata": {
    "colab": {
     "base_uri": "https://localhost:8080/"
    },
    "id": "TU_fS5dvdN5B",
    "outputId": "7d375c05-b702-4711-ce40-2457fd694cd7"
   },
   "outputs": [
    {
     "name": "stdout",
     "output_type": "stream",
     "text": [
      "Test using class:<class '__main__.Queue'>\n"
     ]
    },
    {
     "name": "stderr",
     "output_type": "stream",
     "text": [
      ".\n",
      "----------------------------------------------------------------------\n",
      "Ran 1 test in 3.597s\n",
      "\n",
      "OK\n"
     ]
    },
    {
     "data": {
      "text/plain": [
       "<unittest.runner.TextTestResult run=1 errors=0 failures=0>"
      ]
     },
     "execution_count": 7,
     "metadata": {},
     "output_type": "execute_result"
    }
   ],
   "source": [
    "#TEST BLOCK, DO NOT MODIFY\n",
    "#Your code needs to pass the unittests\n",
    "TestQueue.user_class=Queue       \n",
    "suite = unittest.TestSuite([TestQueue('test_push_and_pop')])\n",
    "unittest.TextTestRunner().run(suite)"
   ]
  },
  {
   "cell_type": "markdown",
   "metadata": {
    "id": "5GtteJyLmt0c"
   },
   "source": [
    "# Problem 3: reverse a singly linked list (20 points)\n",
    "\n",
    "Given the head of a singly linked list, reverse the list, and return the reversed list. \n",
    "\n",
    "Example:\n",
    "\n",
    "![image.png](data:image/png;base64,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)\n",
    "\n",
    "Questions:\n",
    "* what is the time and space complexity?\n"
   ]
  },
  {
   "cell_type": "code",
   "execution_count": 8,
   "metadata": {
    "id": "XHZAkkfilfd3"
   },
   "outputs": [],
   "source": [
    "#implement using this signature. Add anything else necessary.\n",
    "def reverseList(self, head: Node) -> Node:\n",
    "    previous = None\n",
    "    current = head\n",
    "    while current:\n",
    "        next = current.next\n",
    "        current. next = previous\n",
    "        previous = current\n",
    "        current = next\n",
    "    return previous\n",
    "    pass"
   ]
  },
  {
   "cell_type": "code",
   "execution_count": 9,
   "metadata": {
    "id": "RLZJ3IeBl-V3"
   },
   "outputs": [],
   "source": [
    "#TEST CODE\n",
    "#DO NOT MODIFY\n",
    "import unittest\n",
    "import random\n",
    "from collections import deque \n",
    "\n",
    "class TestReverseList(unittest.TestCase):\n",
    "    \n",
    "    @classmethod\n",
    "    def setUpClass(cls):\n",
    "      print(\"Test using class:\" + str(cls.user_class), flush=True)\n",
    "    \n",
    "    def create_list(self,seq):\n",
    "        head=None\n",
    "        prev=None \n",
    "        for x in seq:\n",
    "          curr=Node(x)\n",
    "          if not head: head=curr \n",
    "          if prev: prev.next=curr \n",
    "          prev=curr \n",
    "        return head\n",
    "\n",
    "    def test_method(self):\n",
    "      fun=self.user_class\n",
    "      MAX=10000\n",
    "      for _ in range(10**3):\n",
    "        size=random.randint(1,1000)\n",
    "        seq=[random.randint(-MAX,MAX) for _ in range(size)]\n",
    "        head=self.create_list(seq) \n",
    "        revhead=fun(head) \n",
    "        node=revhead \n",
    "        while node and seq:\n",
    "          self.assertEqual(node.val,seq.pop()) \n",
    "          node=node.next \n",
    "        \n",
    "        self.assertTrue(not seq)\n",
    "        self.assertTrue(not node)\n",
    "        \n",
    "      "
   ]
  },
  {
   "cell_type": "code",
   "execution_count": 10,
   "metadata": {
    "colab": {
     "base_uri": "https://localhost:8080/"
    },
    "id": "8jS0K8ntopCm",
    "outputId": "1f8b2e7c-d223-418f-a73a-ad863ec895b4"
   },
   "outputs": [
    {
     "name": "stdout",
     "output_type": "stream",
     "text": [
      "Test using class:<function reverseList at 0x0000015EB2E7CEE0>\n"
     ]
    },
    {
     "name": "stderr",
     "output_type": "stream",
     "text": [
      ".\n",
      "----------------------------------------------------------------------\n",
      "Ran 1 test in 1.564s\n",
      "\n",
      "OK\n"
     ]
    },
    {
     "data": {
      "text/plain": [
       "<unittest.runner.TextTestResult run=1 errors=0 failures=0>"
      ]
     },
     "execution_count": 10,
     "metadata": {},
     "output_type": "execute_result"
    }
   ],
   "source": [
    "#TEST BLOCK, DO NOT MODIFY\n",
    "#Your code needs to pass the unittests\n",
    "TestReverseList.user_class=reverseList       \n",
    "suite = unittest.TestSuite([TestReverseList('test_method')])\n",
    "unittest.TextTestRunner().run(suite)"
   ]
  },
  {
   "cell_type": "markdown",
   "metadata": {
    "id": "EtkacfGRq1Am"
   },
   "source": [
    "# Problem 4: Find the middle of a given singly linked list (20 points)\n",
    "\n",
    "Given the head of a singly linked list, return the **value of middle node** of the linked list.\n",
    "\n",
    "If there are two middle nodes, return the **value of first middle node**.\n",
    "\n",
    "Example 1:\n",
    "\n",
    "![image.png](data:image/png;base64,iVBORw0KGgoAAAANSUhEUgAAAiAAAABBCAIAAABn3IidAAAgAElEQVR4nO19eZhcVbXvb+29Tw09d1XPSSfpzgAZgABCQMIsCIgIMgrIIBeuxiA+r1xUBhNQHlfRi8MHCkbwAkHkwgOVQcYwRiKBMAXI1J10ekh30p2k0111hr3X+2NXHYqERFJpGir2+vqrr/rUOfvs86tVe+01EzPjw0hrLaXMPWKMEUJs9d5eTkT2eHt7+7Jly7q7u7u7u/v6+gBIKYuLi6urq8eMGdPc3FxXV2eHteMHQaCUCv9lZiLyPC8SiQAIP92NaQTnIaSQlYkB+0cABSAGpKuNksoADAhAwBcAAgPlgJmJAOEGvqMcwxAEbXhDd8/y5ctbW1t7e3u3pAYHXE8VFRfFSxoqKpvHNE5oHl8/upoBDRYwBiAwAwZMYIcBJgiptYYkDS8CCQCsdEBSCBBYuBqBARxEyVVgwAHkdh/w008j/Dw8VCg40/YEjJ2lnZznedFo1B4MZxw+w5IlS5544onnnntu8eLFXV1ddlp26lprovdvQUS1tbUHH3zwjBkzTjjhhL322svehYiIaFvIAPi+7zjOjp+h0GkE5yEkC0FGwMAKGAMYQDCEATzfOI6QAAU+hASBA0OOYhjPD6KOWvLK4pcWLHj6scdXLX17bWenBCRAgAYY0AByjiTLK/Y/dOZnZh585HGf32uffTTIsJEkBYzRLKUEC5Ax0BrGgfB8P6KKwrkx+RrGAA4cCgQYkID4ZKAbKhrh5+GhgsB5RwJmW/I8j4gcx2Hm1tbW+fPn33333e+8804kEgmCwBiTTCYnTpw4bty4urq60tJSIYTv+4ODgz09PS0tLStWrOju7gaglAqCYO+99z7zzDPPP//8UaNGhRMNHyN36v8K7JJLIzjnT++zswFZeSAAGN93HMf+ogQJnfalzD6pAhNWta6aP/+uP99337LX3yoHKoAYUAnUAgnAAZwIolGYACkf/QF6gQ3AJqAfSAHdQOMezed/7aLzzr6gsaEBgLGKEtvfuUl7rorECZBWTEkDAgANwZlZGGRnu5vRCD8PD30acebtk+/7xpjwjdaamYMgWLx48UUXXQRACEFE9fX1559//h/+8Ifly5fbc5jZGOO6rn2jtQ6CwL62trbefvvtF154YXV1tZTS6m5f+9rXXnvtNXuO7/v2Kma2o4Vj7q40gvNQkmHWzEYz+z77LmufOWBmZt/1mDWzz0azZvaYXeaAlyx65evnnlsJ1AHjgQOArwDXVZX+fkz1I5Man51Y/0JT4qWxpQvHFL80KrpoVOTlcfFnJ5Y/tkfiz1Ma/rBHw9XVRWcKHAiMA2qBcuDfzzx76eI32LDP7BnWJjMv17CnmX1mzXYmhtn+Bcwup30eNFzw38IIPw8PFQTO2xUw4WWe59k3QRCsWbPm61//up26EOK0007761//ap8wvDB81HAeuR+FxMyPPvroySefbIcCcNFFF61du3ar87eaw+5HIzgPJVnpoplZ++yn2Xft8m7YQuXrtGaP2U+lUj5za1fPhRf/WxwYBewHXAj8uqL46QkNi8dXvTamZMlo57V6er2e3h4VWT66qLWhtG1U2aqa6LJa560G+Xqjenms8+JY5+VxxS+Pr17QNOq2yrKvAdOBGiAKfO2rF7Z39LjMgyYj4YydW8BBSjNzwDpgNmwnzClOD/BgUOACZoSfh4cKBeePpMHY62+88caSkhI7+29+85vLli1j5nQ6HZ5vRaK9sed5dqJWMIZT0VqH74MgYObW1tZvfvObVp2KRqM/+9nPdgDBbkkjOA8ZZdQXDli7rK36whxKHXvc9dk17P/iVzdFgBpgEvDVOG5uqnt2z+a3x9Qsr5TtCXTVYG0tVtehpR6ratCSoDXlqr0y0l1TtCYpV1fR6nqsbMCyWrRWob1WtJTLZaOSz05ovGVc3VdK1DRgFFBDuOnGnwXMvq/DuWVes7pLZnqs0+yl2Ct0AcMj/DxcVBA4b1fA2NHt67p160488UTrRzr99NNXrFgRznJ7t9n2SK4mlftpKpVi5nffffeMM84AQESnnnpqV1eXlboWFDuN3ZJGcB5S0lZNCJh9u3znLOt+Kh0wp1kv6155/JeOLAOmABcA/zux/Jk9ky83VyypViurVFe16kxgbSXW1mB1LVpqsbqW2uuczupIW7lsK1drE05blVqdxNokOqvRWY21CXRUoyVBy6tjbzVWP95Y84emmvOAvYEa4PxTT+1t7zKuZmZXBwFzYHLkTcZWpv1wzoVMI/w8PFQoOP9zDebJJ58cPXo0ESUSiT/96U+coxDlyk87v1zhxh+Uh+El4ZFQcQtF6Pz582trawGMHj36mWee2cHcdicawXnoyLo4Mr6N9y1mmtkN2LDre08t+Nu4MZVVwAzg2irnhYnlbzTg3Tpa3SBbKrGuhjoS6EyivQqrq9FSjZZatFSjJYG1CeqsjrQn7Z9qr0JnMvPXnkRHFdZVo7MM3VXxFYnYa6NKF0ytvj6JI4FmYGoy+cITT2o2PvMguz77GcdLkFFfTNaUtxvQCD8PDxUEzth23FAcua577733WgPc8ccf397ePgyKZ0dHxwknnGA1snvuuYdznjNU97bFpVBoBOePnzSzdlNpNhx4OiNd0j4HzIbv/J/flwCTgK8Q7hpV+cq4quW10bZqtFehIystOqrQXo22GrTWoqUWrTVYUy3aqlRHItKRUG3VsOe//5cU7UnRmRDrKsW6StGZEO1J0VojVtSJVxvjD42pOhdoAmLA/PnzfeY0ey6nDft+Ks0+s88mYG0KUrqM8PPwUOHijHC69mioeWmt77jjDjvQ5Zdf/nHPOyQ73csuu8ze+vbbbw/nwx8UqlxQTrwRnIeHXN/zfZ8Naz9gZt/3vcGUdXf8/te/Kgf2BGYpPDCmZsWEhpZK1ZFQnQl0Jt5XRzqq0F4FK0jW1GBNtRUhqiOhOpIiV8C0VaOtSrRVKftpZ0J1JEVHEla56U6gvQpLR5Us2Gv8VxXGAaXAr2/+hc9eitMeu8zMqYxdzA+YjY1zKwwa4efhoULH+X0TWShz0um07/t33XWXtbhde+21vu9bLWl45H86nfY87/rrr7fPcOedd+Y+Wxgqx4UZiTiC88dH1uxkmFkbz015QcpGavk6uPuuOyqBacB/FEVeGDdmZV2iPRmx2kZbVebP6iIdSdGRFJ0J0ZlA9hWdCXQkYYVHe44EaqvOHO9IZhSXlhrRWiPWVIvOhOhIilXV9I8q9fc9xl5V7IwFFHDPH++0trF0oNmwDjjtW4Oe5sDlQnPyj/Dz8FCB4gw79VwvTRAEzz//vA2C/uEPf5grQodh9iFGxpg5c+bYJNKnn346nIN1K2mtC2gbYmkE54+bDLNv2MuYm3xm32V3i04//tQjZcAk4D+KIn8dVbOyLrGuMtJTJTqTaKvGmmphjWBtVao9GelIRDoSkc6EWlep1lWqjIzJSJGMpGmrxppqrMkRMFbktNSIVbUZGWMlVlcttSSwoiq6oLHq4mKMB0qBpx9/gm3ui+EBz/jMgWbtDrLxCkjAjPDz8FBB44xQ7oVip7Ozs6amxmpedvbbxlx/rA8QeqWCIPjWt74FoL6+vqWlZSv9iwtqJzKC8zBQxnFuo7Ncl4027Lf2rm4ek9gD+FZUPNs4avXomra6+PIyrKnD6qy9y6ogHQnVkbC+lqwnP6nak8KqLNZJsy6BzgTaqtFaY90zGR+M1YSs1LEftdRiTTXaKtBTK9oSeKchumBC3X9E0AzsUV/XvqLF9zjNnGJ2M6mYfgFpMCP8PDxU6DhvHUWmtT7ppJMikcgXv/jF8NRP9vs47rjjAJxyyim5YrzgtiFb0QjOHwe97yn3mAP2Bz1m/wtfOrIKOB34y7j6VbWJtUVoTWLtaLGqBq21uTYudGTtY6HAyPzlyKHOrIBZk6PEfMDnX5Vx3ljxs7Ycmxpiq0uxtg5La6JPTqg/Q6ARuOCEE9kzLnPaKl6ZKgMFs/BtRSP8PDxUcDhvHUV24403xmKx8vLytra2rQYanqDy3PBt3/dd1+3u7raxcTfccEN4nD9pWPOjEZw/ZtKGPfY9dpld9g3/8pc32Yjk+8fXv1lX3lNbvKFKrqlBSy3aqrE2ubVs2PYv9LVYYbPmA0rP++fYN5lIgcT7Qqu7JramHO0VWJvEmlGRRaNidzcljgdGAT//8fVs2DAHHrPhwOiCi3Aa4efhocLFmYIgCOszr1+/fty4cel0+r777jv11FNtIRrOqbXJzGHl54+VcqunGWPuvffe8847j4jeeeed8ePH2+Naa1tsZxjms+sUFokbwfnjJAPWYIkUIUIt67r2bq5v9HFOTfQYJz7ac4WXYgntwDeIMgSImZiM+bCHE5kRs8SKCVoExIhoSM58ygTOXk7ZQs4iU0QZvoFSjiBmMmltgiKnT8UX9G6+axPagdfeW9U4ocleGRiGhERhAD3Cz8NDhY5zps6M1pqIrr76atd1zzrrrNNOOy2cKGUJOX0Ftkdaa2TrSOe+WsmGHDh2TLm1OYUQX/nKV0477TTf9//zP/8zd4RC4RIAQ4tziKr9NxcTu9lBDuY7oN0OZ5GRC4ogMHfOlTEfM4HDSiOJIEXaZyVYQGjYxzZMxIKMEkaABUMwFEwEJgIWgQELSAUvgJRSGgktSAjfQCIe4RIOHMERSRETwBCMABMMgUkYEoYAgpJg+PZLUQKO65ent+xfUzYJqASu/PalMJlOAFJSpvpzIdBQ8bNdMQDYGvIhWR62By0rhmfugHY7fh4ynMPHtzDa19wFJHd9/qdQf3ScyWo0Sqk33nhj+vTpQohly5aNGzdu29L//5Ry5afOaR7guq4tYxAezEPSLl26dOrUqUT0yCOPHHfccXaowirHPbQ4W54TQpicRkPI9hra6uBHp8LH2YAFGC+/+OKxRx3WEJirx8Sms1+WYmUQCAEYAUOcUTvIKABMxggDFkwCLAFIwTBeECAagyaYAEEa0aJoil1BiKcj5DMcCoxHSqqo8gPXCIhMozMFABQQMu0DGAJZPYmBnnj8jdLiX7y9vgO44/89evyJx0EAwniBG1HRQqnYP1T8nMurdnkyxtj2VshZNPPbnhc+Pw8NztZSZQG0jcKsUMldK+zxsJ/YTtH2cBYAbJ+MX/3qV0qpb3zjG01NTXlwCXJko+d5oSAxxljp4vu+Pei6bh6MMmXKlMsuu4yZb7755sHBQYtIYfWtGyqc7bZASimEsHooAJuHhey3YD/KY/BCx1lrDQIE7px3W2lgDoijJhJ1NARs2zHDBMrusQyByTAZkBEMAQMKtPAN6SDlRRGNEowH44EEnGIEwpUGxcJxhJYRHStmEwFHdH/KJYbSUCbT3UULaEIgsmIMAAt7kFgU+ahP6YNjkMBv5v3GaHAAABFVMKsehnTdsKyL7H7cjmPfW6M/sk20dnbwQudnDBHOSqkQZ/vebk+3NXLktzHdHs7keZ7jOB0dHaNGjQLw3nvvTZw40Uq2nbqBnb3dF9i9hlVcwn1H7t4kjwcAsGLFij333FNr/cILLxx00EF25LxHG2aym6Zdxxk5Oz47Zu4GMGxiuit6TEHjbBt9tbSu3repeQJwcXP9geQmBvqiPhMQkACE5IykMQTBWXlDYMr4VIgR1VKSSpsgcERaskvGKGGMiYuY1zdYWxL3B1OQYAXfoKhIBalAmoxjRpPQJLQwgo3MjC8Y8JUBw9ERTzgbI/ReccmcZV2rgGcWvPDZww4BwByQKIy1bwj5OdRUtmcCMTkNgPPYmxY0Pw8VzvqD/Sjtv3bx3xbSIVw3hF2hfve73xHRWWedNWnSJN/38xhdSuk4jq2/Zvca0Wg0CAIiSqVSyO5HkLWu7iz5vj9hwoTTTz8dwO23355KpZRShcIlAIYKZwDhvkMpFQoSZJubIuteQ16bkULHmSEGU4Pz599VBnwGmGBEdHCQ0xk3fKZ5JGdgsdJFGqEMpIEBQHAMohpk9KDvDkL0qVhXUbKjoqG9vLElXrsqVpYa1dAtnS0SIgIpoaLo2xL4QnhSaAEAko1kY1tWGspIrPBHTEbGfCRTbl3anRxFMXD7Hbdt3jIArYkUPpKP8pOnoeJnk+3IC8Aafq3pJjSBWGa2kUt5SJdC5+chXJ9z3Vq2X3IkEiEiWwUAgFUWXdcdwnUjY2O57777pJRnnnlmEAR5GOBCCi2bQoje3t5Zs2YRUWlp6d13320nYfWy/EZOpVI2VuHZZ59ta2sLcSkIGiqcfd8HYIzp7e297bbbvvjFL5aWlkopx48ff8UVV7z88suhjqi1zsNKVtA428W5OF50//z5cWBqaawucBPKieasSyIjXUImFICwXhPr5XcMBKAV+qNqU21t9THHH/brWz7/1ydOeOiJLz+76IQ/Pzbjuh9Fpu+7saxiUAnPAwyKogqswBn5RQzJRmwjKuz4BEg25YJL3IF9k+U1wPPPPLV2XSekhC4MnDF0/LzVptMKm02bNp1yyinxeNy2NrEm9/w88wXNzxg6nK1NbPny5fvtt58FUyll0Y5EIkopIcQpp5wyMDAQjUbzwGe7OBtj3nzzTSllQ0PDtnUxPzrZ5SwMfw6C4J577ikpKbEWmzvuuCM8MwiCPEK2w61NIpEAcNddd6VSqeGpvTMkNFQ4M7PneYsWLZo6darF1oYChnvAH/zgB319fXkH+xc0zjbR8s3XXi0DDgSe3aNxWYVYXYYNNaKjCh1VNl0/0pGIdCRFJn8lmS0PkxS2QuX6BDqTWFEbeWFCjXfz/+XuFk5tYtfllOYBl1ObeHMXv/f6xssvfXlsReuo4mUl6KqJtyXjbcmITYVZl8C6xPsZl23VmfRMW3q5szLeXRHdUIEVo50H92z4LFAE3HzH7W4qHfYi+/TTEPIz56wezJxKpW699dZwGf23f/u3VCq1VS3FnRrZvilEfuYhxTkIggULFlhUrVxBVsDb16OOOmrDhg355aJuD2dh/f4Ajj766DC0wLrld4rsMmctNsz87LPPfv/739+yZYv1CjiOE+IlhMhDRQ1dfCeddBKA5557rrOzs4DCDYcKZwDvvvvueeed9/bbb1tALDKcddZdf/31t912G7aJ+/zo8yxonAE88fDDCWACIZraXB6hWESkPMP0AeNT+N5k/C42BCDjhnGl6IsW7fWlU5wvnYJElR+LsV3vhEQkjngpGsaWf/XCUQcdtkGLeHGZdgNlIBmGMn8AiPG+EpM5IogFYJjYB8j3a/z0PoQo8Oqrr3Z0dAwPPkNCQ8XPlm9Dq4YxZsWKFTfddFMYKBSJREKjUB7O+ULn5yHEWUrZ2tpq5Qoze563ld8rEomEfvQ85vmhOAtmfvHFF5n5c5/7HLKijD9atspWFASBEGJwcHDevHmnn376mjVrwuP2MfK2jyGrOzPzkUceGY1GX3/99Q0bNuQ31FBRmG4SLuUWN/tv+Kk1ammtX375Za31McccYwWtfZydvWkqlZo3b967776L7M+SPxh4rpSaN2/em2++adlxZ8cvdJwBvLTg2RJgcrI0LtjztRcY4WTWfWKEAcqZociADCEAIZBwJXyBARVfFysp+/wXUFkLCIeJBjdjSx+2bIIHiDjipRjXPOqLJ28pKUsLIaWUrAmGCb7M3EsyBEMaCAbbfEwIJsHEWgRaAgZlfmpiKRUDb762ZMOGDfhE171PhJ/DhUkI4ft+KpX6yU9+snTp0vC47/t2TcwvKrLQ+XkIcdZat7S05Jq/OJv7YtdnG6Bs/81jfKtgHHHEEUqppUuXrl+/HoAgosWLFxtjZs6ciaypLj8JL6V87rnnzjrrrEsuuWRgYGBoDZ2hiDrooINc112xYkV/f/+mTZtMDuWh2eVNVhWzIddKqd/97nfd3d0WN7uyE5H1OVk3nZTypZdeAnDQQQfZIJbQJ79T1NbWtnDhQvu+trb20UcftQaEv//974cccogxJgiCFStWvPnmm8grnqKgcWZjALz3+utxoC7qkHHhgBWMhM4incnPfz/33tiEFWIwoAk+qYCc6QfMwOixcD34HjrbNz34wN/O+NJbV/4nViwHE0sBx8GEiYNSbvFSTAwYINBZDcb+QDNOF85k+xsIAzAFTMYIxKJCpVINxbEosPLtpQP9/YP9/VwIOA8hP1sfg11bHce566677rzzTmRXPestCP3SOzt4ofPz0OKcTqe7urosmNdff73JqYvMzFrrp556qrS0NL/xOauJHnLIIUEQvPPOOwMDA4ODg6Kjo6Ojo6OysrKpqQk5EUo7S8aYu++++/DDD//LX/7CzK7rjhkz5uNQRSdNmlReXt7b29vf328DrkOiYSQb2RKNRu1GQ0o5derUOXPm9PT0ALB2TKtsWsVuzZo1XV1ddXV1EydODE1beUDd0dGxaNEiIYTjOJdffvlxxx1nQ0FmzJhx2WWX2aBDO2xoZPiXwnn16raunp4aoLG0FEZ7BkbA1xkdAgAyCTFAVgDIrBS2+k0gJGCqQFi9Et1r0d2ON19deM336lvf63zq4bYXn8OWLaQBY8CBCQZjZY4HV8sgJ5M/I07AIowl0wQtoAWMMACgAc1gJMuLk8Bg74b+TZs3b9lCsjBwHip+llKGeX9vv/32r3/961gsBsC+Irsi5bco5VKB8vNQ4SyESKVSq1atUkoppUaNGmXHsYG+1lyW9+DI0UQnTJiQTCY3bNjQ29vb29srli1bRkQ2fhm7YCILbV9SSqXU3Llzr7zyyl1ni9wHCEezkeCrVq3q6enJvQUzD9uuxBgTmiyZ+cILL4xGo3Pnzp00adLcuXM9z7M/jDCmq6OjIxKJ2GB2ykbO0M4LYKXUmWeeefTRRzc3N0+cOBHZPRoz19XV2b2PjRG32u6/Gs6dnZ0OkAAiXkoJAQnpiMBkSoQBxmTdLaESw2TT7yGMEKykQSzQy557esElF/zlxM89dvxRz13ytcqBzToY8JSJxBUiEl4KOkD3ulI2Ikjb/MjwuzSAIQRCaAGmjCfGFo9hMlbOSQJ7HHUgtFcBRIE1Lau6utcVCs5Dxc/h5alU6pe//OV7772XTqfPP//8xsZGZA0qu5IXWej8PFQ4E9G6deveffddrXU0Gt1jjz3scZt0aQW8RSBvtEMA7brU2dm5ceNG0dXVZYxpamoKPUj5cYnruo7jCCEaGxvvu+++73//+6WlpflNdAcPAMD3/T322EMI0dPTEwpeS3aDMDy7EitQwykBuOGGGwBs2rRpzpw5TU1NV155ZW9vbxjf9d577wVBMH78+NCKmp96ccghh/zxj398/PHH33333RNOOMFuQOyY3d3d9pzJkydPmzYt0/DnXwznFStWMFAKyMCFIWKwRtQRggWxYAJgQAaUkTG+gBYABKAMFBlZ5KPC8yvdTU2UGjvQV7OpOxmloCLeOap+70suqj3xGCgDMujpMc88UzGYUoMBPDga0sDRUAYgaIIv4cmsGGMBFqCAKWN2VyyJSQDsB+UKDrBh/frA6ELBeaj4Gdnt7J/+9Kdbb71Va/2lL33pggsuKC8vp5zNLu2CLaSg+XmocDbGdHV1tbW1SSknTpy4cOHC448/PplMjh07dtasWa+88oqdm71p6M7cKbKxzkEQNDU1EVFHR0d/f7+wq1IymURWNuYnY6LRqOd5N9544yuvvHLSSSc5jmNVvDwm+qEUIus4TnV1NYDNmzdv2rQpbAc9VDfaKbLS3johzzjjjKamJmZWSm3YsOG//uu/9thjj6uvvnrjxo1aa2v2HTt2rN2hULYo0M7e0XywCKDIJlRu2LDhgQcesCd8/vOf33PPPa2839nxCx3nvr4+AZQIRCWkIcUqcI0iRSysJvEBD//W9yHBkMyODqKBllv8Sh8VQGogfciZ553wx/sbv34pSsvhutCm52+Pv/jwwzHtRxSkAiDIKGtzszcS1r2fqRcgBItsfBmIEQTagYCPKJzKeDwG9PVt6N240deFgfNQ8bO96euvv/6b3/yGiBoaGq644or6+nobkmv9xqErMQ9YCp2fhwpnIlq+fLm9dsmSJZdffvnf/va3vr6+NWvW3HrrrTNmzLjqqqs2bdpkx88jkMxk61Q5jlNVVcXMmzdvTqfTauPGjUqpkpISZM1cJq9qLlrrc889l4jCNPJd2XRsS7mjWR1z0aJFAwMDCxYssFsP+xFnfXofN+tYTdP3fd/34/E4Efm+v88++6xZs8ZKVq31xo0bf/SjH/3617/+zne+Y41XoR/P+vry0EbtV5Nbq87zPM/zfvazn82fP5+IZsyYcckll9iP8ijqV+g4bxlIRQCpwDqQAcVEzKOUTnuSIgBAmVpkAjAQoDAj0jCBSWiCzxCAp+HEEQBuoKgogYqxKG8GJJw4/PTq519Y9LfHE6kt8eLI4GDgAHFyBAswiAMQIgZSGwICCUMgIyXDCCBTCU0IQcbAYYpoSDYG+Puil9e56ecWLJBUADgPFT8D6O/vnzdv3ssvvwxg9uzZBxxwQBjstNWD57GkFDo/DxXOQRB0dnba97bkig2gsMuIlPLHP/4xM//4xz82edWJoWwNESmltV3Zqi7K3jtMurE3y0OJya1+Gn5bZugCyUxOyU+rPi9atGjRokX201zFc9jIbq9svRaTTQAKZxue1t/ff80115SVlTFzUVGRtXjmrSkiC0WIsDHmyiuv/OUvf0lEjY2N11xzzeTJk+0E8tuJFDDOP7ymIlkbA5RCREljgpTrxmJRrX1rGXu/cQsDBIKxHn4bQ2yLkhlhDBml4LkQEaE4orSAjCA1CKcEqTQEjT344LGTJ7q/uOHN++8uVRBBJnLMvtqbyExZmkypS7IBbAzbGkA4lEr5RUURMBMbAItfXfLSkjfABvypx3no+NkY88gjj8ybNw/AySeffNFFF9lF1qZ6WJuKnRLyKn1U2Pw8dDgPDg62tbWFd7GaQPipve/tt9/+xS9+8YOlvZQAACAASURBVKCDDspDxti1yPp9rfyzQUbKrkFhAZJcRWxnibJxCLQLyTTbo3A/LqVMpVLMfOCBB06dOrWioqK8vNyeEDZPy9vf+NFJSum6bliBLRKJeJ63ZMmShx56CFkQ7FdYVlZ26aWXaq1//OMfu65r0ee8ygJaynWVrV+/fs6cObfccguASZMm3XTTTbaDqb17HppoQeM8+9LLUob/50dzWSPQHklE41HP9ZUQRnrA+9UtmWArKFsx4EoFFo4mgAMJJnAAJUCB4+igjLaYR/7U9sjdK33v4HMuiJ90CorLUJWIfn12/eZNfX/9c1L7PrSWWgvDBLI+F2WIBawwgwEZyQCD2AHgwtUOfPaFU2LYF8D+0/cdO216bXWiorwU2XrYYQzVpwrnPPg5VLjDI3a1WbZs2c9//vPBwcExY8bMmjUrkUjYR/Y8Tyll977hDjiPha+g+XkI1w1rvDr00ENbW1tnzZp13nnn1dfXA1i1atX3vve9+++/n4i6uroee+yxgw46aFcEObIZSxlhE4/HAfT39yNH+RgGht5ZsnEX9jEGBwcB7L///jNnzrRRceF2PlSkPm4KVT3OBpJLKe+44w5kC8kxczKZvPTSS2fPnp1MJn/xi18A2LRpU26ISB4/mFB9AbBq1arZs2c/9thjRHTcccfdeOONU6ZMsRsHS3l8jwWNcyKZ/OkvbmHAMyBH6bTrGy2lZBtAlhs2liXiTGl9EBzNVssZdFQqHhlgEk6pYFJp1337dWEGiqR45Fc/+3JNNR1xDGJFqG8YdcSxvX97yutfTzEBMtZKZlUYTaCw9Fk2rIAAYsEAEWJF8NMccJA28IEDZxx8wJFHN49rrK5K5OI8DKvezuKcBz9vte+07zdv3nzTTTctWbIEwEUXXfS5z33OLj6Ww20Ai00ZsaHM+WlIhcvPQ7huVFZW/va3v91qJjZ84L//+7/b29sXLlwopezp6RkYGLBV4HZq/FAzYeaBgQF7RCmlksmklLKrqwu7EAQ9DJTLndaYWF1dHY1GV65cmUqlwk/tlyTyzeb56OR5Xnl5uRXMRUVFrus++uijq1evBqC1LikpufTSS7/3ve8VFRVZnkgmk0KI3t7e8EeSnxQX2e4vy5Ytu/jii1966SVmnj179lVXXVVbW2srpO7KcxU6zqNqawjY4iNlqFQym0ArskmUyFZTtgLGvg8kNNn2lfAdEMNAbXbiB1zzAxw4AxUNCAjPv/jkD78/lv144FFqMLVpU5GKAAQnioaGPm0ayspcb4swwjrzQYEmBEIxwWQr0AAgsgqTJhA8EIEIRok0CRemsqpSCW5tWemmB8NfosU5LIX76cE5P34OPSv2/A0bNvz973+3G965c+f+8Ic/tKflPvVtt902b948Zn7mmWcOP/zwnX2uQufnoVo37FXpdNoqczZp33aaKSoqisVi1mRnc3TyU5JC+dfV1SWEqKysZGY1duxYAKtXr851c33a1Bd80OazatUqKWUymfQ8b/To0Y2NjZQN1bVOs/yqpOwUKaUGBgZsXIrdXPzxj38EUFFRceGFF5577rnjxo0rKysLzx89ejSA1tZW7FowBYDBwcGenp5LLrlk4cKFpaWlV1999ezZs2OxmN3lhSjl15mu0HFuHDUKQB+wxXCVkKR04PpKEecUzDc5AoYp43gPvwkBaJIoKUHzBMhSIIrp++kp+6xd9poh0R8rLhrVCChoggC055TE+jo7YjHYfjCCbdUA8X5NGjLZms2GASIDQBACDxxFSuv1KeMD1dXVOkiPHj1mzJgxyKaAhBaej1vAfNz8HG66w0Wcme0Sb1f2UFHjbIn+0EkgpcwvcBaFz89DtW789a9/veWWW4wxixcvvu2220455RRkv5Tu7u6enh5rKrSV3/KrXW0vEUKsXLmSmRsbG4MgUBMnTtRar1692jqRkK+EHAbibL9omxw6duzY0tLS5uZmm4UUTjs/30MekwlRcl333nvv7evru+6662bNmlVRUSGyPVqQbeU5efJkZn7nnXfCBtJ5T3LLli3f/va3X3jhBQBXXnnld77zHavt2p9HuPvIW5UpZJyd8eObAfQBOlKc5r5iw2AIw5o+vNMKMWTWE2NfDUxU64HWtcX9aVTWQETRNOnYOdc+9ov/0t7gqRdegn0OhK8QlTCp9Mb1JnDjpRETeCwgjAEhENDCSG3NZcZk3DBgAQMQBQCIwAAL+JDrAA1nbNOYotLi8eObGhpG49OO807z81ZLil0lw1S50IcfCpXclAkrXWKxWH5QFDI/D9m60djYuHjx4p6eHqXUNddcI6W0VSlXr1595ZVXLl261N73gAMOsE6TPCjcH7S0tDBzQ0MDAFVfX59IJHp6etauXTtu3LhdcT5/3GTlX2tra19fX2lpaWlpqeM4uT007WnDJh3tPouIbOPOVatW2XQirXVYNo6I7Axra2urqqp6enrWrVs3ZsyY0AKws2hrrW+66aYHH3zQZgJfccUVV1xxhd3hhnterfWcOXOuuuqq/HixwHGuTlZWbujr20Sqio3WiGcMX8gEJwNgYT0iADTZzBUhMiqOAZmoDl7/y8OfPe5kFNXAAYritM9+x998GwIf8VLAgZDw09jY0/3aK1EEvu+RAMHmbEJLGEDC2NTOsGlmADBBCwiGz0AEKaZBqEEgXpooKS4WAk52kxc+/qcV553jZ8opCx+6Yaqrq//xj3+EffPCfqzLly8/55xz7EcXX3zxr371K8pSHs9V4Pw8NOvG+PHjv/CFL9xxxx1BECxduvS0006zNapNNnU/Fovtu+++RxxxBPLtaGmppaWlt7e3vLy8uLjYcRwB4NBDDzXGLFiw4FPrgEE2MoGZn3/+ecdx9tlnH2tAtDWLQqUbOTWGP1ZCzlaCmc8999xkMmknaYvlbPsIhxxyCIDnn38eOb+xncVhyZIld999tw1BsV5QZDu5IZuTDCAajVqz8r8azkrSgTNnbgKWb9pkoARDApIhjS2V/8GHFXAVUgq+UJoUQ2kSgUTE+KVr1uK+exH0IuJC+MwBoiUorgTFIRWQgtuHJx9/+867ir0020KZgCcRiIxW9L5jn6EMlMnKOYIWgANXUD8iq9f3a2DvvfdWSgmQ3aXyNgvfpw1n5MXP4QmWeazpf6uMbNd1gyCwbXCDIPB933XdjzL4h1Kh83N+OG9LpaWlX/3qV20RFxsebQWVxd/qi9/5zndshZ5d0TGefvppY4zlZwDCGHPYYYeFD/Cp9fOHyZvPPfdcEAR77rknMwshtjUEhd/Bx00hx3DWSRjGh+TalMNV/pBDDiGiJ554IoyCz4NRHn744fb2ditRchUUG2ppjLEm+3Q6jby06ULH2Rgz4/BDNwPv9W2BKnZIeC6Msa2RgWwPY0vZAmUCsCn3mbYxyphS13vxf/4nfffd2NCNgc1kNHwfgYF24W7BxnV47M8v/fwnY1nHPa2YpI6AIxqZss2h1gLYWLL3K2xaU50xSGt2SytW9bs+sPfee2utNZvcVh/hL5Gz/tFPD87YSX7OHZxyRKa9Nlx5mdk6maWUlhXtskv5ZrAXOj/vLM7bIyI66qijfv7zn0+ePJmItNZ2fKs1JhKJefPmnXrqqbQLyYt2VgsXLhRCTJs2zboPlRDiqKOOEkL8+c9/ppyCmnk8Q4hUyA0WL8dxPM8LT/unTqpQU0bWDxY6nbTWjzzyCDMffPDBlhftTiRkIwyjqmvZJby7fSj64B4NOau8jcJ8+OGHc72dH322Nvt35cqVYShOGPcShpbZsHoAkUjkn9qUd0uchcBnjzh8I7DKxaBxdKAijmd8KAFNYBacNY5ZPSOekTEBIVOJ0kYSA6hMB2/d+JvRL75Wd/aZmD4dIgrBCFJY/k7fff/vnaf+prasj0JEfCjjaBHVBC0JcCUjG7dmWIMJRoJISDAzEwsiA4aIxLop+i7gAwccuD8JoaLRaIHgjJ3k5/D4Vm8oxwnP2fITVrpYQ43W2jqfQyfx9mi35Gfs8rphyV5ywgknzJgx484773zggQdefPFFAAceeOApp5xyxhlnNDc346NFEHwozvZfrfXDDz9sjPnMZz5jjCkqKsoEUUyZMmXZsmUPPvjgiSeemLcBLndvghzItoJjx1peyG2hpTL3wieffPL4449vaGi49957U6lUTU3NtGnT8pjq8JMFYRdxtl9taKi1B8Mo/hB8+53uePDdFWffd5Ujp0ydklq6/AeJsiNLoqq/p0yRCUiTCIRhMoCwOfwESAOG0MJY94lgEAuwMCxIRv2A+yOqL1m8kSjwTCQW8YMtFY5IbByUgwPxCCKAGmQHEY2oFtDCA2nJAWULnVHGsQNjAH6f7aXirqLyR/3IH9p7ShvH/+z2eSz9RFVyr2n7ZHvWfKppSPjZUm6yfZgEbhtPIBsMGW75t3eL3ZWfhwpnqyHZdEt7JHecj25521mcMyGD55xzjtZ6/vz5Vu3Iw0pmPczGGOsYoGybIGvM0VrbrKLw0+2NY2dvDT7haa7r2kXzlltu0Vofe+yxNqDbOscKgvLGOfccpVTY4M8CS1lDWajYWg4Q2aLf2xt2t8SZAXIcDXHOOV/1gZd7N7eriK+iOiCdLZVvSBCMyAWejO3UYmWMMogGoggiwr5U6SIxkBjY0Li5u3lz3/gNPZM29jb09hT5g0WKooGgNBNAjjYyBUpJ1pINkBOxxmCCJ+FKEJEjZJQcyY7nirQserV7fS8w8/NHs2DfcLK2riCkC3aBn3dAYbZj2NbXvg8XjR0srLslP2PocLbo2RrEnPU5cTa+Djmuvh07bncW54zHpbW1tampCUBLS8vo0aPzK1rHOQF/VrhZIRkmZOTaGXfAK6GQDJVle7C9vX3ixIme5z300EO2rNDee+9dUVGRx1Q/KcoD55CZcqVyCJFFMjQm5Aqb3CMfSrsfzgzjIhAQXa2d+zeNGQN8o7nhs0aXblyvJDMZXwgAjjHWQZKteolAZoK7pIGjhWDBrH2wljAR+ARpEA8cBTYUuBq+hJIRBRKBEcZnQEsw2Y6VmdYvko3tYKYlBh0QZCyAMhCsfCAVK3qF8cPOvnZBf7h7fm3jKM/w9OnTK0rLPo0pAtuhoVo3kLPAhfp3uJ6Ey8WOTUO7Hz+HtOs42xoBYcCexSp3fbCef/qgZ3d7Q310nDNf27hx4775zW8C+OlPf2rjCnb2Aez9QtmYayuzvBIG0f5TFS9UwcLzrRXo+uuv9zzvuOOOs4lIjuMUFpfkh3OupdG+hq0qbaAhcn6idvcRAr5jXtktcRYQAmLM6MYzTj+7E3iivaNTSC8WD0SmEJng9/38TBnPuzSIBFBaEItAwFWBH2HjgBxIAgzYQBjNARsmlhCktKFBX6ehISCkLQIDEIyAp0wYSyYJzAALQzBgX2tf65RSa6WzsKevH/js544uq6rSmktKyspKy3b4cJ8uGqp1wzp9w320ECJ0jYQWEXvmjv3PuyU/Y4hwllLmGtItVvKDBXKUUiGGOx4KHxlnYb8/rfX5558P4Oabb7ZtNXf2AayHOXTvW1awD2CDQOx7O62PMhpnq3LaZXT58uW2ls6ZZ55pB7cRdYVCO4tzGGqCnMgW+z4MgAkvt9ja2JuwFSs+QtTN7oezNr6EAeEb//HdPuBtFx3QfcSaIE024TGnLpkRMFYYZOOYrT/GEAJGEEBrKCAqIKU0ZHzNDFJCSEFKCiGEIXjZ+LQga2ezwwtkywRoEpo0wSgSitxoZJXASwEGgJNOPSUSjbOR9TW1lFNu4FNOQ7VuhNp2aLHJXR+EEHb1sIz6UTbXuxk/D+H6HC4jYfyedVvYE8Jd6dDinGktIKU84IADLrzwQiHEd7/73Z2dPbJrnF3RrIPOKjTWGWOPh0+4g4Uv3MjYiQVBEI1GjTHf//73pZRf+MIXbIEHKWVVVVUe8/ykaGdxzlUBc8nzvHB/YXklzBKwjq7QiWf3LNsbf7fEmYC4cIhZE/bYf9+zL7ioF3h81bpUophtjxab8Cgy2So2NdI2NjYEQ5kgY2kAHxEBpQRISg/GRYp9E6FIRCqw73uBl3a0FzEaJISyUgu+QEBQWkQDANAEY6CAqJGO9SNEnUCaDew/1dG9Fvjc8UdMnzaVmYJAV1VWFYb7BcDO8/P2KNxI5a59uZ6AcMNERJbVP5R2S37G0OEcxumFksbamUS2XDdyvoIdjLOzOAtkv0Jmvvbaa4UQDz300L333ruzD2Bnae9qbXlhHIhSytbICjOqdiCBxQdbitoL//d//9e2a7zgggui0SgRVVVV2UDDAqI8cA6/+/BNJBIJMyjt7sZ+waFvHx/80W5v5N0WZwYgIUAKV1/7IzjqDeDFzu5+J+qJbGQXshX7c35KTMaQCYOYlSBi0r6Bz45wIkqxgG+M72sYKIloBI4iw+z6RuvsUAxioWxRMnvAQEqpCGDN0K6gLmBZOv2qj82E8y66JD3oShJjxoyJxXa6ec8nS0Oybtjkrdw9Uxi6YnnY5kVaRs1NEtqKdlt+HiKckV2WZbZQYWguy426ylUlP5R2FmeBnMjr+vr666+/3hjz7W9/u7OzcyuLZ67RZlvKjfH4UBfLtnmquXpMuGfJTfKwm/Gurq7Zs2cz86xZs6qqqqwLxxa6KSzaWZwpp0t2LhMgp69lOHKusrLVyf9COLOwZSUlwIzqhrrv3fCTLuDRXrRQ0cZ46SAZglE+4pDaCBZSmkwCJmBz7zOZ9pqYmSNADIbYNxwIgAhCgAiCAQ3fMAsoBSIYA6ERM4izkWSsEU4ADKWNE8CTESMEBoCWWMl964P1wNcu/UZ5oj7iFJEOGmpqPknc8qIhWTewfVU75OFw52TpX4ifAQwdzrkYhu6MD6XQ05E7eH44Z5rthKa3yy+//Oijj+7q6rr44otDp7HruqFitXPYbJ/CtCl761C0SintlMK89H//93/v7e2dOXPmySefbJWkZDJZVlYWxhQUBI3gPBxEYDYg47ueIjgSl3xz9n4zZ3YCD7ZtaCsqd+Ol2iAeVakBTcSGwoZgADJRZJSThP8BlwhnCzBDZJz2BHu5YCgJIcAMX8Nl+ATD0AyhlBe4StBgGhtZrYuXP9q+aQWwz8EHnHjKGQaklKpKVhaXFfkBD2tjxV2jEX4eHip0nIWNSQj3CMaYefPmJZPJhx9++Fvf+pYdzha2ys3G33XaXjx1GEtnY52/+93vPv7446Wlpd/61rccxxFCBEFgWwyEJriCoBGch4UMBBjGiSowO0DEce74w91UVvYMcG9be1+sXKui/nRQXAIwSzZgwcjoPcIIYYTSmbphTAgEPAlPCANFJkomAlYAtMiIGWKhjHA0yGTyXQYdpBwKIopVjElpkY5EIdPCUWVdRdUPru5+RsOriP37//mPiHJIiCDwxo4dC4KKEG+n5POnkEb4eXio0HGWV199dWhpscNVVFSMGzfu/vvvX7RoETMfffTRdugdGEDzo1BIhjmD9l/K9pi7+uqrf/rTnwohrrvuuokTJ1qIx40bV11dHVZJKRReyS10MYLzx0as2QcRbDcvIgJKKsrHNDffcf//9gUQmzePrq2OK+On/aK4cj0tMlXDrDICECSsgRLIeP4zEojYGis1yDCxTdIXgGAwMWejyEhIImIIYjLERpgBDyZa3lOSfKCt8wnfdAJX3HBD88RJQkqGGdc0rqq6GlpDCIBFgcSRjfDz8FCh4yznzp2LbGyAlYdCiClTphQXFz/55JPPPvtsEASHHXaYDY0NMzCGhMIMHWR9fTbW1r5eddVVP/nJT4wxP/jBD2bOnGkdfTU1NRMmTAivLRQuwTYPO4Lzx0MsCAxjoJhIMHzPSIf2mDatuKzsL48/vtqg39syprSiBEi7bjRKxmoqko1gLZgz1jFrLVOGpCHBQrMIjNAsNNngM4ItbGav0gIkiA0pFopJGNZaG2iWRjqiX8qWorKH2tc94ftrge9d+3/3m3GwZqM5SNbWNTePFwQiQWSyUq4AaISfh4cKHWd5zTXXhG5ka+ZzXVcpddBBBw0MDPzjH/94/vnnt2zZcswxx+SGwA4V5cZT2wJEAJj529/+9o033miMueKKKw4//PB4PG7PmTp1qo0q2XGq5qeQTLYG6gjOHyfZJl4CNj/SgxMh1wQsaPr++w36qacXLexOw/QNNI6qYwQ68FXGFZ8hYggWxAIkGMRkPf86oxPZYmXZVyCj5TABJMmwTeQULCCYpAwiqo/F+vLEg23rnvB0G/Bv/+f7R37+WEmIRRUxpk6bFpVKGwiBjHnMltv81NMIPw8PFTrO0ralyo2AtiY2KeWMGTOY+fnnn1+4cOEbb7xx6KGH5vby3PWpi5xiorZgqjFm3bp1Z5111vz5862QPOqoo8rKylKplOu6M2fODLvaWSW3gFTd0Jo5gvPHSQSQ7xsJKQhC2Fr5wkALic/O/KzxzbMvvNQOrN2wuSZZVh6NSu0pw4KFMo7SEWkcYmXXeKKAKCAyImsKk0YQR8hEiAWBCIYpI3igIYgUSzCIlKMUs+llWukUPbi69wkfHcAVc68/5oQTBBlJ2kv1H/7ZmUUqxhqUaVBGYAMUhpFshJ+HhwodZ3nttdeG2fXWRRMqWdFodN99962rq1uyZMnixYvvueeeUaNG7bXXXkPyABYy+xi2hYnW+v777z/xxBPfeOONRCJx3XXXHXLIIbbUPxFNmzatvLw8LH8SXjskkxkGsqEgIzh/3MRMUkgCjK9JCiZQ1nfOAvtPP7BhdOOLi/7elkq396XIpEsqSw0JhiJWjibJLGCImEUAMlZZsfayjGYDkSmRTGxPyFSdYThSEZTPSDnR/mh0LWGpr+/uTL1qYBJFV9xww34zDmajIwrGT0+fOrWktAw+CZlphMaaBRWGdMEIPw8XFTrOcs6cOTbZgnJq1FCWotHo+PHjp06d2tPT89Zbbz3wwAPLly+fNGlSTU0N55SiC+dk34R103K/ThumHV4SGulsPPXy5ctnz549d+7cwcHBQw899Ec/+lFTU5OVhK7rTp8+vbq6Gh8M5S4gLrE0gvMwUNaHYkgRE4EgmARBAIpUNFbU1DR+r8l7dXV0vL627V0X6wZcmYyrSNwhxLSndFoJrVmzZJPpDQNlBBkhIEhwIH1DAbEGGRIwAtr6+g2UJNfTg9F4T0n5G0R/6th4/4BZBUz+7IFXXv+TMc3jpSMEsZfq/8w+0yuT1WCCkCAIAhOEIBSGeSxDI/w8PFTQOMs5c+Zs78Fse4aSkpLq6uq99967uLj49ddff+211377299u3LixqampqqrK8zxbLIhyOrXZdFB7xEpdK9mIKKyMFh5sa2ubO3fuOeec884770gpZ8+ePWvWrHg8bst0Syn322+/0Ma3W9IIzkNMBBAzjAEIRAwYIhJGGyFVUUlxVU39lOnTRTy28NV/tAdY2utt6h8UxVFEY55DsiQyGPiaIBSEJGJikCQphDBsjGSh4Agw4DMCAVciLSgdifbKyObyquVMf1697oGNA28xNkZw7uxZX7v0smi8KBKN+DpQkg7Yd//SWJykk5mqyOkSUygu/h3SCD8PDxUEztutPGNHDwXdhg0bli1b1t7e/vvf//7RRx8F4DjOl7/85fPOO+/444/PlY3Iikr6oJWTt2mE9fjjj996663333+//fekk046++yza2trrZHR9/1YLDZ58uTKykoqEINpHjSC85CSYWgABMkQxtqz2FbkByQMQUswsKFvU+s7y3ra2u6Zd+szT/xNAiXAXnFMT1SMl2iOquL0lqjnglkSBDJl/IkoHWiKQAA+AAkTiQyI2AZSm+PlSzdtebV7/ds+bwTSwNEnHHnmuedX1zcKJ2KMSQe+UxSbsufkupJEJqhABBCsrfclk4tT8DTCz8NDhYLzjkqbhQa1VCoVj8eZecmSJalU6o033vjLX/7yyCOPWBUpmUwed9xxxx577P777z958mRkI9uEEOHzcLZCZ3t7+5NPPrlgwYIHH3xw48aNNo3omGOOOfvss5ubm8PoaWNMfX39pEmT6J91ZtwNaATnoSJGYKAZkMjkBBAAGBgBA2gggoDQ77tFTtRhvPHq0oGNm5e+89aDf37gySceLQYSwGhgD2CPUoytKK0sjVPgItAxikQ0At+PxmKu8dImCITQwtnk8+r1/asGg6VAN7AeSAk66KgjTzr1lH33mmYCBgtmNhzUNtQ37bmnhIxYgQdAGE2aYSQEgWwK526gwozw8/BQQeC8Iw0mNPzlGuZWr17d1dWVTqfXrl379NNPP/PMM62trbbTIhFVVFQ0NzdPnDixvr6+uLjYyrrNmzd3dXW1tLSsXLly/fr1yJZeHjdu3OGHH37ssceOGTPG8zwbZmdfm5ubq6qqhBDWApjbBXo3oxGch5AYgYYtmxiVQKZwpQgAYQJhm7UwZTQF0hCEDZ0b33vvPVJob1/zxJOPPvvUE22r1xYDUSAKlAC1QGVEFEsZESQJfuD5hEGmXpd7GFuAABAQAzCjRjUd/Lkjjjru2NrGRoZIpz0p4BAiSjY3Nyerq4xSvmalpA7s/AAEnA0do91CwIzw8/BQoeC8XQFjPtgWLDcgenBwsKOjo6uri4iCIFi5cuWiRYveeuut5cuXd3d3A3AcJyyyrT9YW76iomLvvfeeNm3afvvt19TUFI/Hfd+3STpFRUWpVGrMmDF1dXXFxcWh2lVAMYV50AjOQ02GbcUYQDJAJqMw5MBMGZxJKcEBtG9WrlzR09sTsNECrWvbXnjhhTdefa1jVcvm7nVRIGZNbdkbaMAFfMCDqiivmTJlysQ9Jh1+2MzRYxogERgfUJFIxHN1LBatr66qr6uJlcRt4j8TgkyVADumsRMGMt1oCl3AjPDz8FCh4PxPTGTIxi2EY9n6Acxs5V5nZ6fWOhaLWafQxo0b29vbu7u7+/v7Yj/SSgAAAfVJREFUbXC0UioWi1VUVDQ0NNTX11dUVMhsq84w/M4aExOJxIQJE+LxuM52XLbhcbbuzZDnEH16aATnISNrBwPgmAC+BgDrks8IFckG0oZqCQ3BYAky2pdSbt60aV3HuvXr16c9j4gcx4Exves3rGlZ1b1uXTo9mPbcwcHBWCTuRGLlifJRo+tr6+rKSkutEzXQ2jc6Ei8SjurfnIoqZ3R9Q21tbVl5qTZMEgTWvq8yOLNyHFhpErYQ2F1ohJ+HhwoC54+kwYTv9Qe78No7tbW1dXZ2plIpkS3HZmVarvoWxsCF2px9b4wpKyurqKhobGzcaoq7sXqbSyM4DyVZZz6AiAngBhCAcOAIgA2EMGADYjZMQmmIgLUiImgBCnytVNQbGOzt7V23bl3/wBZjDBNJRxmwFwQG7DhR4wOAgAb7gowSIIZmYyCEUgxB0hk3blxVZVU8GgHD1v83gNGBIwVgbL0xzrS7zK0iAC58QTPCz8NDhYLzP+lf9tFpYGCgt7d38+bNmzdvtqk3JlvkAFk1KjwYiURKS0srKioSiUQ8HqeCyq39ZGkE5x0RZ9drYR3+AoCAyHngsCK+yFnYTXhNSIMDA729vZv6MzhDZHHOZkUSERFzFueSDM5VsaK4LVSWi3OO5DCFU9ByOGiEn4eHPimc/z9WSSNLz8yfuwAAAABJRU5ErkJggg==)\n",
    "\n",
    "Questions:\n",
    "* what is the time and space complexity?\n"
   ]
  },
  {
   "cell_type": "code",
   "execution_count": 11,
   "metadata": {
    "id": "QhGmSKLtq50E"
   },
   "outputs": [],
   "source": [
    "#implement using this signature. Add anything else necessary.\n",
    "def middleNodeValue(self, head: Node) -> int:\n",
    "    extent = head\n",
    "    length = 1\n",
    "    while extent:\n",
    "        extent = extent.next\n",
    "        length += 1\n",
    "    extent = head\n",
    "    index = 1\n",
    "    while index < (length // 2):\n",
    "        extent = extent.next\n",
    "        index += 1\n",
    "    return extent.val"
   ]
  },
  {
   "cell_type": "code",
   "execution_count": 12,
   "metadata": {
    "colab": {
     "base_uri": "https://localhost:8080/"
    },
    "id": "ExQF_ZZ0r3oo",
    "outputId": "a7599fab-a298-48ff-c12b-dd42d5bf7c96"
   },
   "outputs": [
    {
     "name": "stdout",
     "output_type": "stream",
     "text": [
      "Test using class:<function middleNodeValue at 0x0000015EB2E86550>\n"
     ]
    },
    {
     "name": "stderr",
     "output_type": "stream",
     "text": [
      ".\n",
      "----------------------------------------------------------------------\n",
      "Ran 1 test in 1.137s\n",
      "\n",
      "OK\n"
     ]
    },
    {
     "data": {
      "text/plain": [
       "<unittest.runner.TextTestResult run=1 errors=0 failures=0>"
      ]
     },
     "execution_count": 12,
     "metadata": {},
     "output_type": "execute_result"
    }
   ],
   "source": [
    "#TEST CODE\n",
    "#DO NOT MODIFY\n",
    "import unittest\n",
    "import random\n",
    "from collections import deque \n",
    "\n",
    "class TestMiddleNodeValue(unittest.TestCase):\n",
    "    \n",
    "    @classmethod\n",
    "    def setUpClass(cls):\n",
    "      print(\"Test using class:\" + str(cls.user_class), flush=True)\n",
    "    \n",
    "    def create_list(self,seq):\n",
    "        head=None\n",
    "        prev=None \n",
    "        for x in seq:\n",
    "          curr=Node(x)\n",
    "          if not head: head=curr \n",
    "          if prev: prev.next=curr \n",
    "          prev=curr \n",
    "        return head\n",
    "\n",
    "    def test_method(self):\n",
    "      fun=self.user_class\n",
    "\n",
    "      def g(seq):\n",
    "        head=self.create_list(seq) \n",
    "        midval=fun(head) \n",
    "        self.assertEqual(midval, seq[(len(seq)-1)//2]) \n",
    "      g([2])\n",
    "      g([1,2])\n",
    "      g([1,2,3])\n",
    "      MAX=10000\n",
    "      for _ in range(10**3):\n",
    "        size=random.randint(1,1000)\n",
    "        seq=[random.randint(-MAX,MAX) for _ in range(size)]\n",
    "        g(seq)\n",
    "        \n",
    "        \n",
    "        \n",
    "#TEST BLOCK, DO NOT MODIFY\n",
    "#Your code needs to pass the unittests\n",
    "TestMiddleNodeValue.user_class=middleNodeValue       \n",
    "suite = unittest.TestSuite([TestMiddleNodeValue('test_method')])\n",
    "unittest.TextTestRunner().run(suite)      "
   ]
  },
  {
   "cell_type": "markdown",
   "metadata": {
    "id": "1ItKdlWiucgQ"
   },
   "source": [
    "# Problem 5: implement queue using stacks (20 points)\n",
    "\n",
    "Requirement:\n",
    "\n",
    "* Implement a FIFO queue **using only two stacks**. \n",
    "* The implemented queue should support all the functions of a normal stack (push, pop, and is_empty).\n",
    "\n",
    "* Use the `Stack` you implemented above.\n",
    "\n",
    "* On average the methods should have $O(1)$ time complexity.\n"
   ]
  },
  {
   "cell_type": "code",
   "execution_count": 41,
   "metadata": {
    "id": "1vhBe3WUu1qG"
   },
   "outputs": [],
   "source": [
    "#implement using this signature. Add anything else necessary.\n",
    "class TwoStacksQueue:\n",
    "\n",
    "    def __init__(self):\n",
    "        self.stack1 = Stack()\n",
    "        self.stack2 = Stack()\n",
    "        pass\n",
    "\n",
    "    def enqueue(self, x: int) -> None:\n",
    "        self.stack1.push(x)\n",
    "\n",
    "    def dequeue(self) -> int:\n",
    "        if self.stack2.is_empty():\n",
    "            while not self.stack1.is_empty():\n",
    "                self.stack2.push(self.stack1.pop())\n",
    "        return self.stack2.pop()\n",
    "        \n",
    "    def is_empty(self) -> bool:\n",
    "        return self.stack1.is_empty() and self.stack2.is_empty()"
   ]
  },
  {
   "cell_type": "code",
   "execution_count": 42,
   "metadata": {
    "colab": {
     "base_uri": "https://localhost:8080/"
    },
    "id": "f2Q0XvrSw_6m",
    "outputId": "e25beb6b-f42f-4c83-dee5-3165b5f3a607"
   },
   "outputs": [
    {
     "name": "stdout",
     "output_type": "stream",
     "text": [
      "Test using class:<class '__main__.TwoStacksQueue'>\n"
     ]
    },
    {
     "name": "stderr",
     "output_type": "stream",
     "text": [
      ".\n",
      "----------------------------------------------------------------------\n",
      "Ran 1 test in 4.992s\n",
      "\n",
      "OK\n"
     ]
    },
    {
     "data": {
      "text/plain": [
       "<unittest.runner.TextTestResult run=1 errors=0 failures=0>"
      ]
     },
     "execution_count": 42,
     "metadata": {},
     "output_type": "execute_result"
    }
   ],
   "source": [
    "#TEST BLOCK, DO NOT MODIFY\n",
    "#Your code needs to pass the unittests\n",
    "TestQueue.user_class=TwoStacksQueue      \n",
    "suite = unittest.TestSuite([TestQueue('test_push_and_pop')])\n",
    "unittest.TextTestRunner().run(suite)"
   ]
  },
  {
   "cell_type": "markdown",
   "metadata": {
    "id": "-HyGVlmy0irq"
   },
   "source": [
    "# Bonus Problem: (stack) find number of waiting days to get a warmer day (20 points)\n",
    "\n",
    "Given an array of integers `temperatures` represents the daily temperatures, return an array `answer` such that `answer[i]` is the number of days you have to wait after the ith day to get a warmer temperature. If there is no future day for which this is possible, keep `answer[i] = 0` instead.\n",
    "\n",
    "Solve the problem with time complexity O(n), where n is the length of input.\n",
    "\n",
    "If you use stack, use `Stack` class you implemented above.\n",
    "\n",
    "Example:\n",
    "```\n",
    "input = [30,28,29,50,40,45]\n",
    "output = [3,1,1,0,1,0]\n",
    "```\n",
    "Exmplain:\n",
    "* On day 0 temperature=30, wait for 3 days to get a warmer day of temperatre 50\n",
    "* On day 1 temperature=28, wait for 1 days to get a warmer day of temperatre 29\n",
    "* On day 2 temperature=29, wait for 1 days to get a warmer day of temperatre 50\n",
    "* On day 3 temperature=50, no warmer day in the future so set it to be 0\n",
    "* On day 4 temperature=40, wait for 1 days to get a warmer day of temperatre 45\n",
    "* On day 5 temperature=45, no warmer day in the future so set it to be 0"
   ]
  },
  {
   "cell_type": "code",
   "execution_count": 61,
   "metadata": {
    "id": "3glSke2Z1Tpp"
   },
   "outputs": [],
   "source": [
    "#implement using this signature. Add anything else necessary.\n",
    "from typing import List\n",
    "def dailyTemperatures(self, temperatures: List[int]) -> List[int]:\n",
    "        stack = []\n",
    "        result = [0] * len(temperatures)\n",
    "        length = len(temperatures)\n",
    "        for i in range(length):\n",
    "            while stack and temperatures[i] > temperatures[stack[-1]]:\n",
    "                popped_val = stack.pop()\n",
    "                result[popped_val] = i - popped_val\n",
    "            stack.append(i)                    \n",
    "        return result"
   ]
  },
  {
   "cell_type": "code",
   "execution_count": 62,
   "metadata": {
    "colab": {
     "base_uri": "https://localhost:8080/"
    },
    "id": "F3SlzhHa3omM",
    "outputId": "13d1be41-b8e7-43a2-8edd-a190f1c79ef2"
   },
   "outputs": [
    {
     "name": "stdout",
     "output_type": "stream",
     "text": [
      "Test using class:<function dailyTemperatures at 0x0000015EB411E5E0>\n"
     ]
    },
    {
     "name": "stderr",
     "output_type": "stream",
     "text": [
      ".\n",
      "----------------------------------------------------------------------\n",
      "Ran 1 test in 1.484s\n",
      "\n",
      "OK\n"
     ]
    },
    {
     "data": {
      "text/plain": [
       "<unittest.runner.TextTestResult run=1 errors=0 failures=0>"
      ]
     },
     "execution_count": 62,
     "metadata": {},
     "output_type": "execute_result"
    }
   ],
   "source": [
    "#TEST CODE\n",
    "#DO NOT MODIFY\n",
    "import unittest\n",
    "import random\n",
    "from collections import deque \n",
    "\n",
    "class TestDailyTemperatures(unittest.TestCase):\n",
    "    \n",
    "    @classmethod\n",
    "    def setUpClass(cls):\n",
    "      print(\"Test using class:\" + str(cls.user_class), flush=True)\n",
    "    \n",
    "    def test_method(self):\n",
    "      fun=self.user_class\n",
    "\n",
    "      a=[73,74,75,71,69,72,76,73]\n",
    "      b=[1,1,4,2,1,1,0,0]\n",
    "      self.assertEqual(fun(a),b)\n",
    "      a=[30,28,29,50,40,45]\n",
    "      b=[3,1,1,0,1,0]\n",
    "      self.assertEqual(fun(a),b)\n",
    "      a=[30,40,50,60]\n",
    "      b=[1,1,1,0]\n",
    "      self.assertEqual(fun(a),b)\n",
    "      a=[30,60,90]\n",
    "      b=[1,1,0]\n",
    "      self.assertEqual(fun(a),b)\n",
    "\n",
    "      a=[10]*10**6\n",
    "      b=[0]*len(a)\n",
    "      self.assertEqual(fun(a),b)\n",
    "\n",
    "      a=[10]*10**6\n",
    "      a.append(100)\n",
    "      b=list(range(len(a)))\n",
    "      b.reverse()\n",
    "      self.assertEqual(fun(a),b)\n",
    "\n",
    "      a=[10 if i%2==0 else 20 for i in range(10**6)]\n",
    "      b=[1 if i%2==0 else 0 for i in range(10**6)]\n",
    "      self.assertEqual(fun(a),b)\n",
    "        \n",
    "        \n",
    "#TEST BLOCK, DO NOT MODIFY\n",
    "#Your code needs to pass the unittests\n",
    "TestDailyTemperatures.user_class=dailyTemperatures       \n",
    "suite = unittest.TestSuite([TestDailyTemperatures('test_method')])\n",
    "unittest.TextTestRunner().run(suite)      "
   ]
  }
 ],
 "metadata": {
  "colab": {
   "collapsed_sections": [],
   "provenance": []
  },
  "kernelspec": {
   "display_name": "Python 3",
   "language": "python",
   "name": "python3"
  },
  "language_info": {
   "codemirror_mode": {
    "name": "ipython",
    "version": 3
   },
   "file_extension": ".py",
   "mimetype": "text/x-python",
   "name": "python",
   "nbconvert_exporter": "python",
   "pygments_lexer": "ipython3",
   "version": "3.8.8"
  }
 },
 "nbformat": 4,
 "nbformat_minor": 1
}
