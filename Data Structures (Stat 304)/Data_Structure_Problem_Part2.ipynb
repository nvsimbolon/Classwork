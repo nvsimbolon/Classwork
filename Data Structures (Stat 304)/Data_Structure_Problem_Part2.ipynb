{
 "cells": [
  {
   "cell_type": "markdown",
   "metadata": {
    "id": "SqesiDQzJtlf"
   },
   "source": [
    "# Introduction \n",
    "\n",
    "This assignment is mainly to practice the implementation and application of hashmap.\n",
    "\n",
    "* First, you will be asked to implement your own hash table with collision handling. \n",
    "  * Two hash functions `murmur3` and `fnv` are given\n",
    "  * You could use other hash functions at your will\n",
    "\n",
    "* Next, there is a basic interview question `two sum` that can be solved efficiently using hashmap \n",
    "\n",
    "* Finally, another classic design question, `LRU cache`, is given as a bonus problem."
   ]
  },
  {
   "cell_type": "code",
   "execution_count": 1,
   "metadata": {
    "id": "BH-nV83aTe9R"
   },
   "outputs": [],
   "source": [
    "#Here is the definition of Node class for singly linked list\n",
    "class Node:\n",
    "  \"\"\"\n",
    "  Node for singly linked list\n",
    "  val: value for the node\n",
    "  next: reference to the next node \n",
    "  \"\"\"\n",
    "  def __init__(self, val, next=None):\n",
    "    self.val=val\n",
    "    self.next=next \n",
    "\n",
    "# The implementation of murmur3 hash function is given below\n",
    "def murmur3(data, seed = 0):\n",
    "  '''\n",
    "  MurmurHash3 32 bit: https://en.wikipedia.org/wiki/MurmurHash\n",
    "  data: str\n",
    "  return: int\n",
    "  '''\n",
    "  c1 = 0xcc9e2d51\n",
    "  c2 = 0x1b873593\n",
    "\n",
    "  length = len(data)\n",
    "  h1 = seed\n",
    "  roundedEnd = (length & 0xfffffffc)  # round down to 4 byte block\n",
    "  for i in range(0, roundedEnd, 4):\n",
    "    # little endian load order\n",
    "    k1 = (ord(data[i]) & 0xff) | ((ord(data[i + 1]) & 0xff) << 8) | \\\n",
    "          ((ord(data[i + 2]) & 0xff) << 16) | (ord(data[i + 3]) << 24)\n",
    "    k1 *= c1\n",
    "    k1 = (k1 << 15) | ((k1 & 0xffffffff) >> 17) # ROTL32(k1,15)\n",
    "    k1 *= c2\n",
    "\n",
    "    h1 ^= k1\n",
    "    h1 = (h1 << 13) | ((h1 & 0xffffffff) >> 19)  # ROTL32(h1,13)\n",
    "    h1 = h1 * 5 + 0xe6546b64\n",
    "\n",
    "  # tail\n",
    "  k1 = 0\n",
    "\n",
    "  val = length & 0x03\n",
    "  if val == 3:\n",
    "      k1 = (ord(data[roundedEnd + 2]) & 0xff) << 16\n",
    "  # fallthrough\n",
    "  if val in [2, 3]:\n",
    "      k1 |= (ord(data[roundedEnd + 1]) & 0xff) << 8\n",
    "  # fallthrough\n",
    "  if val in [1, 2, 3]:\n",
    "      k1 |= ord(data[roundedEnd]) & 0xff\n",
    "      k1 *= c1\n",
    "      k1 = (k1 << 15) | ((k1 & 0xffffffff) >> 17)  # ROTL32(k1,15)\n",
    "      k1 *= c2\n",
    "      h1 ^= k1\n",
    "\n",
    "  # finalization\n",
    "  h1 ^= length\n",
    "\n",
    "  # fmix(h1)\n",
    "  h1 ^= ((h1 & 0xffffffff) >> 16)\n",
    "  h1 *= 0x85ebca6b\n",
    "  h1 ^= ((h1 & 0xffffffff) >> 13)\n",
    "  h1 *= 0xc2b2ae35\n",
    "  h1 ^= ((h1 & 0xffffffff) >> 16)\n",
    "\n",
    "  return h1 & 0xffffffff\n",
    "\n",
    "def fnv(data, hval_init=0x811c9dc5):\n",
    "    \"\"\"\n",
    "    FNV hash: https://en.wikipedia.org/wiki/Fowler%E2%80%93Noll%E2%80%93Vo_hash_function\n",
    "    \n",
    "    Returns the 32 bit FNV-1a hash value for the given data.\n",
    "    \n",
    "    data: str\n",
    "    return: int\n",
    "    \"\"\"\n",
    "\n",
    "# The implementation of fnva hash function is given below\n",
    "    def fnva(data, hval_init, fnv_prime, fnv_size):\n",
    "      \"\"\"\n",
    "      Alternative FNV hash algorithm used in FNV-1a.\n",
    "      \"\"\"\n",
    "      data=data.encode()\n",
    "\n",
    "      hval = hval_init\n",
    "      for byte in data:\n",
    "          hval = hval ^ byte\n",
    "          hval = (hval * fnv_prime) % fnv_size\n",
    "      return hval\n",
    "\n",
    "\n",
    "    return fnva(data, hval_init, 0x01000193, 2**32)    "
   ]
  },
  {
   "cell_type": "code",
   "execution_count": 2,
   "metadata": {
    "colab": {
     "base_uri": "https://localhost:8080/"
    },
    "id": "25PH9UeW8aB5",
    "outputId": "b81e2bd7-07c3-49bc-b117-d1e2109850d5"
   },
   "outputs": [
    {
     "data": {
      "text/plain": [
       "(1586663183, 3582672807)"
      ]
     },
     "execution_count": 2,
     "metadata": {},
     "output_type": "execute_result"
    }
   ],
   "source": [
    "\n",
    "#Test of above-defined hash functions\n",
    "murmur3('hello world'), fnv('hello world')"
   ]
  },
  {
   "cell_type": "markdown",
   "metadata": {
    "id": "vzDOm-JOLoeQ"
   },
   "source": [
    "# Problem 1: implement hash table with separate chaining (20 points)\n",
    "\n",
    "Requirement:\n",
    "* use separate chaining with linked list to resolve hash collision. \n",
    "* do not use built-in `dict` class in Python\n",
    "* O(1) time complexity for both `contains`, `get`, `put`, `remove` methods \n",
    "* you don't have to implement dynamic resizing when load factor is high.\n",
    "\n",
    "Remark:\n",
    "* Note that the provided hash function takes **str** as input\n",
    "* The key of hashmap can be any type. However in this exercise, it is safe to assume it is either **str** or **int**."
   ]
  },
  {
   "cell_type": "code",
   "execution_count": 16,
   "metadata": {
    "id": "OtrqoFP47117"
   },
   "outputs": [],
   "source": [
    "#implement using this signature. Add anything else necessary.\n",
    "class SCHashMap(object):\n",
    "  \n",
    "  def __init__(self):\n",
    "    self.size = 0\n",
    "    self.capacity = 50\n",
    "    self.buckets = [None] * self.capacity\n",
    "  \n",
    "  def put(self, key, val) -> None:\n",
    "    index = murmur3(str(key)) % self.capacity\n",
    "    if self.buckets[index] is None:\n",
    "        self.size += 1\n",
    "        self.buckets[index] = Node((key, val))\n",
    "    else:\n",
    "        node = self.buckets[index]\n",
    "        while node:\n",
    "            if node.val[0] == key:\n",
    "                node.val = (key, val)\n",
    "                return\n",
    "            node = node.next\n",
    "        node = Node ((key, val))\n",
    "        node.next =  self.buckets[index]\n",
    "        self.buckets[index] = node\n",
    "        self.size += 1\n",
    "    pass\n",
    "\n",
    "  def remove(self,key):\n",
    "    index = murmur3(str(key)) % self.capacity\n",
    "    node = self.buckets[index]\n",
    "    prev = None\n",
    "    while node:\n",
    "        if node.val[0] == key:\n",
    "            if node == self.buckets[index]:\n",
    "                self.buckets[index] = node.next\n",
    "            else:\n",
    "                prev.next = node.next\n",
    "            node.next = None\n",
    "            self.size -= 1\n",
    "            return\n",
    "   \n",
    "        prev = node\n",
    "        node = node.next\n",
    "        pass\n",
    "    \n",
    "  def get(self, key):\n",
    "        index = murmur3(str(key)) % self.capacity\n",
    "        node = self.buckets[index]\n",
    "        while node:\n",
    "            if node.val[0] == key:\n",
    "                return node.val[1]\n",
    "            node = node.next\n",
    "        return None\n",
    "\n",
    "  def contains(self, key) -> bool:\n",
    "        index = murmur3(str(key)) % self.capacity\n",
    "        node = self.buckets[index]\n",
    "        while node:\n",
    "            if node.val[0] == key:\n",
    "                return True\n",
    "            node = node.next\n",
    "        return False\n",
    "\n",
    "  def is_empty(self) -> bool:\n",
    "        return self.size == 0"
   ]
  },
  {
   "cell_type": "code",
   "execution_count": 4,
   "metadata": {
    "colab": {
     "base_uri": "https://localhost:8080/"
    },
    "id": "6kaBi0AAHRJd",
    "outputId": "1d84d571-df35-4a2a-a89c-edfc14adaa3b"
   },
   "outputs": [
    {
     "name": "stdout",
     "output_type": "stream",
     "text": [
      "Test using class:<class '__main__.BuiltinHashMap'>\n"
     ]
    },
    {
     "name": "stderr",
     "output_type": "stream",
     "text": [
      ".\n",
      "----------------------------------------------------------------------\n",
      "Ran 1 test in 14.143s\n",
      "\n",
      "OK\n"
     ]
    },
    {
     "data": {
      "text/plain": [
       "<unittest.runner.TextTestResult run=1 errors=0 failures=0>"
      ]
     },
     "execution_count": 4,
     "metadata": {},
     "output_type": "execute_result"
    }
   ],
   "source": [
    "#TEST CODE\n",
    "#DO NOT MODIFY\n",
    "import unittest\n",
    "import random\n",
    "import string \n",
    "class BuiltinHashMap:\n",
    "  def __init__(self):\n",
    "    self.data={}\n",
    "  \n",
    "  def put(self, key, val) -> None:\n",
    "    self.data[key]=val \n",
    "\n",
    "  def remove(self,key):\n",
    "    if key in self.data:\n",
    "      self.data.pop(key)\n",
    "\n",
    "  def get(self, key):\n",
    "    return self.data.get(key,None)\n",
    "\n",
    "  def contains(self, key):\n",
    "    return key in self.data \n",
    "\n",
    "  def is_empty(self) -> bool:\n",
    "    return not self.data\n",
    "\n",
    "class TestHashMap(unittest.TestCase):\n",
    "    \n",
    "    @classmethod\n",
    "    def setUpClass(cls):\n",
    "      print(\"Test using class:\" + str(cls.user_class), flush=True)\n",
    "      cls.CHARS=string.ascii_uppercase + string.digits+string.ascii_lowercase\n",
    "    \n",
    "    def generate(self):\n",
    "      if random.random()>0.5:\n",
    "        k=random.randint(1,100)\n",
    "        return ''.join(random.choices(self.CHARS, k=k))\n",
    "      else:\n",
    "        return random.randint(1,10**9)\n",
    "\n",
    "    def test_method(self):\n",
    "      obj1=BuiltinHashMap()\n",
    "      obj2=self.user_class()\n",
    "      for _ in range(10**6):\n",
    "        self.assertEqual(obj1.is_empty(), obj2.is_empty())\n",
    "        rnd=random.random()\n",
    "        if rnd>2/3:\n",
    "          k,v=self.generate(),self.generate() \n",
    "          obj1.put(k,v)\n",
    "          obj2.put(k,v)\n",
    "          self.assertTrue(obj1.contains(k))\n",
    "          self.assertTrue(obj2.contains(k))\n",
    "          self.assertEqual(v, obj1.get(k))\n",
    "          self.assertEqual(v, obj2.get(k))\n",
    "        elif rnd>1/3:\n",
    "          if obj1.data:\n",
    "            for k in obj1.data:\n",
    "              self.assertTrue(obj1.contains(k))\n",
    "              self.assertTrue(obj2.contains(k))\n",
    "              obj1.remove(k)\n",
    "              obj2.remove(k)\n",
    "              self.assertTrue(not obj1.contains(k))\n",
    "              self.assertTrue(not obj2.contains(k))\n",
    "              break \n",
    "        else:\n",
    "          k=self.generate()\n",
    "          self.assertEqual(obj1.contains(k), obj2.contains(k))\n",
    "          self.assertEqual(obj1.get(k), obj2.get(k))\n",
    "\n",
    "        \n",
    "TestHashMap.user_class=BuiltinHashMap    \n",
    "suite = unittest.TestSuite([TestHashMap('test_method')])\n",
    "unittest.TextTestRunner().run(suite)"
   ]
  },
  {
   "cell_type": "code",
   "execution_count": 5,
   "metadata": {
    "colab": {
     "base_uri": "https://localhost:8080/"
    },
    "id": "z4_-eJcvcAvC",
    "outputId": "57911757-e6b9-42e3-dd44-d0c49a2b4f3a"
   },
   "outputs": [
    {
     "name": "stdout",
     "output_type": "stream",
     "text": [
      "Test using class:<class '__main__.SCHashMap'>\n"
     ]
    },
    {
     "name": "stderr",
     "output_type": "stream",
     "text": [
      "E\n",
      "======================================================================\n",
      "ERROR: test_method (__main__.TestHashMap)\n",
      "----------------------------------------------------------------------\n",
      "Traceback (most recent call last):\n",
      "  File \"<ipython-input-4-fbed8cdf257f>\", line 51, in test_method\n",
      "    self.assertTrue(obj2.contains(k))\n",
      "  File \"<ipython-input-3-814eaa0ffe5f>\", line 55, in contains\n",
      "    index = murmur3(str(key)) % capacity\n",
      "NameError: name 'capacity' is not defined\n",
      "\n",
      "----------------------------------------------------------------------\n",
      "Ran 1 test in 0.004s\n",
      "\n",
      "FAILED (errors=1)\n"
     ]
    },
    {
     "data": {
      "text/plain": [
       "<unittest.runner.TextTestResult run=1 errors=1 failures=0>"
      ]
     },
     "execution_count": 5,
     "metadata": {},
     "output_type": "execute_result"
    }
   ],
   "source": [
    "#TEST BLOCK, DO NOT MODIFY\n",
    "#Your code needs to pass the unittests\n",
    "TestHashMap.user_class=SCHashMap    \n",
    "suite = unittest.TestSuite([TestHashMap('test_method')])\n",
    "unittest.TextTestRunner().run(suite)"
   ]
  },
  {
   "cell_type": "markdown",
   "metadata": {
    "id": "CGgseaGBTUOi"
   },
   "source": [
    "# Problem 2: implement hash table with open addressing (30 points)\n",
    "\n",
    "Requirement:\n",
    "* Use open addressing to resolve hash collision. \n",
    "* You may choose any open addressing techniques (e.g. linear probing etc)\n",
    "* Do not use built-in `dict` class in Python\n",
    "* O(1) time complexity for both `contains`, `get`, `put`, `remove` methods\n",
    "\n",
    "\n",
    "Remark:\n",
    "* Note that the provided hash function takes **str** as input\n",
    "* The key of hashmap can be any type. However, in this exercise, it is safe to assume it is **str** or **int**.\n",
    "\n",
    "Hints:\n",
    "* `linear probing` is probably the easiest method\n",
    "* The trickest part is the `remove` function.\n",
    "* You need to do table doubling as the load factor greater than 0.5.\n",
    "\n",
    "  "
   ]
  },
  {
   "cell_type": "code",
   "execution_count": 25,
   "metadata": {
    "id": "fCIld7UVTUOs"
   },
   "outputs": [],
   "source": [
    "#implement using this signature. Add anything else necessary.\n",
    "class OAHashMap(object):\n",
    "  \n",
    "  def __init__(self):\n",
    "    self.size = 0\n",
    "    self.capacity = 1000\n",
    "    self.buckets = [None] * self.capacity\n",
    "    \n",
    "  \n",
    "  def put(self, key, val) -> None:\n",
    "    \"\"\"\n",
    "    If key already exists, update the value. Otherwise put (key,val) into the hash table.\n",
    "    \"\"\"\n",
    "    index = murmur3(str(key)) % self.capacity\n",
    "    while index < self.capacity:\n",
    "        if self.buckets[index] is None:\n",
    "            self.size += 1\n",
    "            self.buckets[index] = (key, val)\n",
    "            \n",
    "            if self.size / self.capacity >= 0.5:\n",
    "                self.resize()\n",
    "            return\n",
    "        elif self.buckets[index][0] == key:\n",
    "            self.buckets[index] = (key, val)\n",
    "            return\n",
    "        index += 1\n",
    "    self.expand()\n",
    "    self.put(key, val)\n",
    "    return\n",
    "\n",
    "  def expand(self):\n",
    "        self.capacity = self.capacity * 2\n",
    "        old = self.buckets\n",
    "        self.buckets = [None] * self.capacity\n",
    "        self.size = 0\n",
    "        for old_new in old:\n",
    "            if old_new is not None:\n",
    "                self.put(old_new[0], old_new[1])\n",
    "\n",
    "  def remove(self, key):\n",
    "    \"\"\"\n",
    "    If key is in the table, remove key and value. Otherwise do nothing.\n",
    "    \"\"\"\n",
    "    index = murmur3(str(key)) % self.capacity\n",
    "    idx = None\n",
    "    while index < self.capacity:\n",
    "        if self.buckets[index] is None:\n",
    "            break\n",
    "        index += 1\n",
    "    if idx is None:\n",
    "        print('the key does not exist!')\n",
    "        raise KeyError('The key does not exist!')\n",
    "        self.buckets[idx] = None\n",
    "    self.size -= 1\n",
    "    next_key = idx +1\n",
    "\n",
    "    while next_key < self.capacity:\n",
    "        if self.buckets[next_key] is None:\n",
    "            break\n",
    "        new_hash = murmur3(str(self.buckets[next_key][0])) % self.capacity\n",
    "        if new_hash <= idx:\n",
    "            self.buckets[idx] = self.buckets[next_key]\n",
    "            self.buckets[next_key] = None\n",
    "            idx = next_key\n",
    "        next_key += 1\n",
    "\n",
    "  def get(self,key):\n",
    "    \"\"\"\n",
    "    return the value of key. If not found return None\n",
    "    \"\"\"\n",
    "    index = murmur3(str(key)) % self.capacity\n",
    "    for i in range(index, self.capacity):\n",
    "        if self.buckets[i] is None:\n",
    "            break\n",
    "        elif self.buckets[i][0] == key:\n",
    "            return self.buckets[i][1]\n",
    "    return None\n",
    "\n",
    "  def contains(self, key) -> bool:\n",
    "    \"\"\"\n",
    "    return True if key found in the hash table, otherwise return False\n",
    "    \"\"\"\n",
    "    index = murmur3(str(key)) % self.capacity\n",
    "    for i in range(index, self.capacity):\n",
    "        if self.buckets[i] is None:\n",
    "            break\n",
    "        elif self.buckets[i][0] == key:\n",
    "            return True\n",
    "    return False \n",
    "\n",
    "  def is_empty(self) -> bool:\n",
    "    \"\"\"\n",
    "    return True if the table is empty, otherwise return False\n",
    "    \"\"\"\n",
    "    return self.size == 0"
   ]
  },
  {
   "cell_type": "code",
   "execution_count": 26,
   "metadata": {
    "colab": {
     "base_uri": "https://localhost:8080/"
    },
    "id": "XwD7sqeETUOt",
    "outputId": "f6e518c5-5d6f-4b50-9b6f-1c5c7ddb18d7"
   },
   "outputs": [
    {
     "name": "stdout",
     "output_type": "stream",
     "text": [
      "Test using class:<class '__main__.OAHashMap'>\n"
     ]
    },
    {
     "name": "stderr",
     "output_type": "stream",
     "text": [
      "E"
     ]
    },
    {
     "name": "stdout",
     "output_type": "stream",
     "text": [
      "the key does not exist!\n"
     ]
    },
    {
     "name": "stderr",
     "output_type": "stream",
     "text": [
      "\n",
      "======================================================================\n",
      "ERROR: test_method (__main__.TestHashMap)\n",
      "----------------------------------------------------------------------\n",
      "Traceback (most recent call last):\n",
      "  File \"<ipython-input-4-fbed8cdf257f>\", line 60, in test_method\n",
      "    obj2.remove(k)\n",
      "  File \"<ipython-input-25-2f831e875f73>\", line 52, in remove\n",
      "    raise KeyError('The key does not exist!')\n",
      "KeyError: 'The key does not exist!'\n",
      "\n",
      "----------------------------------------------------------------------\n",
      "Ran 1 test in 0.006s\n",
      "\n",
      "FAILED (errors=1)\n"
     ]
    },
    {
     "data": {
      "text/plain": [
       "<unittest.runner.TextTestResult run=1 errors=1 failures=0>"
      ]
     },
     "execution_count": 26,
     "metadata": {},
     "output_type": "execute_result"
    }
   ],
   "source": [
    "#TEST BLOCK, DO NOT MODIFY\n",
    "#Your code needs to pass the unittests\n",
    "TestHashMap.user_class=OAHashMap    \n",
    "suite = unittest.TestSuite([TestHashMap('test_method')])\n",
    "unittest.TextTestRunner().run(suite)"
   ]
  },
  {
   "cell_type": "markdown",
   "metadata": {
    "id": "wSIlWqRbziz0"
   },
   "source": [
    "# Problem 3: Two Sum (20 points)\n",
    "\n",
    "Given an array of integers $nums$, return the count of index pairs $(i,j)$ such that $i \\lt j$ and $nums[i]+nums[j]=0$\n",
    "\n",
    "Example:\n",
    "```\n",
    "input = [-1,1,0,1,0]\n",
    "output = 3\n",
    "```\n",
    "```\n",
    "input = []\n",
    "output = 0\n",
    "```\n",
    "\n",
    "Requirements:\n",
    "* If hashmap is used, use one of  hashmaps you implemented above.\n",
    "* State the complexity of the algorithm."
   ]
  },
  {
   "cell_type": "code",
   "execution_count": 14,
   "metadata": {
    "id": "nJAJIKTe11hL"
   },
   "outputs": [],
   "source": [
    "#implement using this signature. Add anything else necessary.\n",
    "#ignore the self parameter, it is just for the test cases to work.\n",
    "from typing import List\n",
    "def twoSum(self, nums : List[int]) -> int:\n",
    "    hash_fun = SCHashMap()\n",
    "    count = 0\n",
    "    for i in nums:\n",
    "        if hash_fun.contains(-i):\n",
    "            count += hash_fun.get(-i)\n",
    "        if hash_fun.contains(i):\n",
    "            hash_fun.put(i, hash_fun.get(i) + 1)\n",
    "        else:\n",
    "            hash_fun.put(i, 1)\n",
    "    return count "
   ]
  },
  {
   "cell_type": "code",
   "execution_count": 17,
   "metadata": {
    "colab": {
     "base_uri": "https://localhost:8080/"
    },
    "id": "iUBbOk_a4BAO",
    "outputId": "2c6e4f71-5a35-4123-a827-ccff7614074f"
   },
   "outputs": [
    {
     "name": "stdout",
     "output_type": "stream",
     "text": [
      "Test using class:<function twoSum at 0x00000298204BACA0>\n"
     ]
    },
    {
     "name": "stderr",
     "output_type": "stream",
     "text": [
      ".\n",
      "----------------------------------------------------------------------\n",
      "Ran 1 test in 34.251s\n",
      "\n",
      "OK\n"
     ]
    },
    {
     "data": {
      "text/plain": [
       "<unittest.runner.TextTestResult run=1 errors=0 failures=0>"
      ]
     },
     "execution_count": 17,
     "metadata": {},
     "output_type": "execute_result"
    }
   ],
   "source": [
    "#TEST CODE\n",
    "#DO NOT MODIFY\n",
    "#Your code needs to pass the unittests\n",
    "import unittest\n",
    "import random\n",
    "\n",
    "class TestTwoSum(unittest.TestCase):\n",
    "    \n",
    "    @classmethod\n",
    "    def setUpClass(cls):\n",
    "      print(\"Test using class:\" + str(cls.user_class), flush=True)\n",
    "   \n",
    "    def test_method(self):\n",
    "      fun=self.user_class \n",
    "      a=[-1,1,0,1,0]\n",
    "      b=3\n",
    "      self.assertEqual(b,fun(a))\n",
    "      \n",
    "      a=[]\n",
    "      b=0\n",
    "      self.assertEqual(b,fun(a))\n",
    "      \n",
    "      a=[0]\n",
    "      b=0\n",
    "      self.assertEqual(b,fun(a))\n",
    "\n",
    "      k=10**6\n",
    "      a=[0]*k\n",
    "      b=(k-1)*(k)//2\n",
    "      self.assertEqual(b,fun(a))\n",
    "\n",
    "      k=10**6//3\n",
    "      a=[0]*k+[-1]*k+[1]*k\n",
    "      random.shuffle(a)\n",
    "      b=(k-1)*(k)//2+k*k \n",
    "      self.assertEqual(b,fun(a))\n",
    "      \n",
    "        \n",
    "TestTwoSum.user_class=twoSum    \n",
    "suite = unittest.TestSuite([TestTwoSum('test_method')])\n",
    "unittest.TextTestRunner().run(suite)"
   ]
  },
  {
   "cell_type": "code",
   "execution_count": null,
   "metadata": {
    "id": "PiYOzGRx6M19"
   },
   "outputs": [],
   "source": []
  },
  {
   "cell_type": "markdown",
   "metadata": {
    "id": "v-lvf5DA7OLF"
   },
   "source": [
    "# Bonus Problem: LRU Cache (Bonus) (30 points)\n",
    "\n",
    "Design a data structure satisfying  the constraints of a [Least Recently Used (LRU) cache](https://en.wikipedia.org/wiki/Cache_replacement_policies#LRU).\n",
    "\n",
    "Implement the `LRUCache` class:\n",
    "\n",
    "* `LRUCache(int capacity)` Initialize the LRU cache with positive size capacity.\n",
    "* `int get(int key)` Return the value of the key if the key exists, otherwise return -1.\n",
    "* `void put(int key, int value)` Update the value of the key if the key exists. Otherwise, add the key-value pair to the cache. If the number of keys exceeds the capacity from this operation, evict the least recently used key.\n",
    "\n",
    "This is a classical question, there are a lot of resources on internet. \n",
    "\n",
    "Requirements:\n",
    "* The functions must each run in $O(1)$ average time complexity.\n",
    "* use doubly linked list and hashmap to implement it.\n",
    "* use one of hashmap classes you implemented above. Do not use build-int- `dict` or `OrderedDict` in python\n",
    "\n",
    "Hints:\n",
    "* use a doubly linked list to maintain the access order of key-values. key/values are stored in the node.\n",
    "* additionaly, use a hashmap to store key-nodes for quick query.\n",
    "* when a key is accessed, find the node by hashmap and move the node to the head or tail of the linked list\n",
    "* if the size of cache exceeds capacity, remove the head or tail node. \n",
    "\n",
    "\n"
   ]
  },
  {
   "cell_type": "code",
   "execution_count": null,
   "metadata": {
    "id": "AxxgxJ7h-MNc"
   },
   "outputs": [],
   "source": [
    "#implement using this signature. Add anything else necessary.\n",
    "class LRUCache:\n",
    "\n",
    "    def __init__(self, capacity: int):\n",
    "      pass\n",
    "        \n",
    "\n",
    "    def get(self, key: int) -> int:\n",
    "      pass \n",
    "        \n",
    "\n",
    "    def put(self, key: int, value: int) -> None:\n",
    "      pass \n",
    "\n",
    "    def is_empty(self) -> bool:\n",
    "      \"\"\"\n",
    "      True if the cache is empty\n",
    "      \"\"\"\n",
    "      pass \n",
    "\n",
    "    def contains(self, key: int) -> bool:\n",
    "      \"\"\"\n",
    "      True if key in the cache\n",
    "      \"\"\"\n",
    "      pass \n",
    "    \n",
    "    def size(self) -> int:\n",
    "      \"\"\"\n",
    "      return the size of cache (actual number of elements in the cache, not the capacity)\n",
    "      \"\"\"\n",
    "      pass "
   ]
  },
  {
   "cell_type": "code",
   "execution_count": null,
   "metadata": {
    "colab": {
     "base_uri": "https://localhost:8080/"
    },
    "id": "3RjbPfAdQZAF",
    "outputId": "5dae4c63-fede-41a8-aefc-2828c9519b9a"
   },
   "outputs": [],
   "source": [
    "#TEST CODE\n",
    "#DO NOT MODIFY\n",
    "import unittest\n",
    "import random\n",
    "from collections import OrderedDict\n",
    "\n",
    "class BuiltinLRUCache:\n",
    "  def __init__(self,capacity):\n",
    "    self.capacity=capacity \n",
    "    self.data=OrderedDict()\n",
    "  \n",
    "  def get(self, key: int) -> int:\n",
    "      if key not in self.data: \n",
    "        return -1\n",
    "      else:\n",
    "        self.data.move_to_end(key,last=True) \n",
    "        return self.data[key]\n",
    "  \n",
    "  def put(self, key: int, value: int) -> None:\n",
    "    if key in self.data:\n",
    "      self.data[key]=value \n",
    "      self.data.move_to_end(key,last=True) \n",
    "    else:\n",
    "      while len(self.data)>=self.capacity:\n",
    "          self.data.popitem(last=False) \n",
    "      self.data[key]=value \n",
    "      self.data.move_to_end(key,last=True) \n",
    "  \n",
    "  def is_empty(self) -> bool:\n",
    "    return not self.data \n",
    "\n",
    "  def contains(self, key: int) -> bool:\n",
    "    return key in self.data \n",
    "  \n",
    "  def size(self) -> int:\n",
    "    return len(self.data)\n",
    "\n",
    "class TestLRUCache(unittest.TestCase):\n",
    "    \n",
    "    @classmethod\n",
    "    def setUpClass(cls):\n",
    "      print(\"Test using class:\" + str(cls.user_class), flush=True)\n",
    "    \n",
    "    def generate(self):\n",
    "      return random.randint(1,10**9)\n",
    "\n",
    "    def test_method(self):\n",
    "      C=100\n",
    "      obj1=BuiltinLRUCache(C)\n",
    "      obj2=self.user_class(C)\n",
    "      for _ in range(10**6):\n",
    "        self.assertEqual(obj1.is_empty(), obj2.is_empty())\n",
    "        self.assertEqual(obj1.size(), obj2.size())\n",
    "        self.assertTrue(obj1.size()<=C)\n",
    "        self.assertTrue(obj2.size()<=C)\n",
    "        rnd=random.random()\n",
    "        if rnd>1/2:\n",
    "          k,v=self.generate(),self.generate() \n",
    "          obj1.put(k,v)\n",
    "          obj2.put(k,v)\n",
    "          self.assertTrue(obj1.contains(k))\n",
    "          self.assertTrue(obj2.contains(k))\n",
    "          self.assertEqual(v, obj1.get(k))\n",
    "          self.assertEqual(v, obj2.get(k))\n",
    "        else:\n",
    "          k=self.generate()\n",
    "          self.assertEqual(obj1.contains(k), obj2.contains(k))\n",
    "          self.assertEqual(obj1.get(k), obj2.get(k))\n",
    "\n",
    "        \n",
    "TestLRUCache.user_class=BuiltinLRUCache    \n",
    "suite = unittest.TestSuite([TestLRUCache('test_method')])\n",
    "unittest.TextTestRunner().run(suite)"
   ]
  },
  {
   "cell_type": "code",
   "execution_count": null,
   "metadata": {
    "colab": {
     "base_uri": "https://localhost:8080/"
    },
    "id": "QpvLRUH1S-Qk",
    "outputId": "90110273-5f13-485d-fe2a-3c55420d990b"
   },
   "outputs": [],
   "source": [
    "#TEST BLOCK, DO NOT MODIFY\n",
    "#Your code needs to pass the unittests\n",
    "TestLRUCache.user_class=LRUCache    \n",
    "suite = unittest.TestSuite([TestLRUCache('test_method')])\n",
    "unittest.TextTestRunner().run(suite)"
   ]
  },
  {
   "cell_type": "code",
   "execution_count": null,
   "metadata": {
    "id": "epgGqAzidIyp"
   },
   "outputs": [],
   "source": []
  }
 ],
 "metadata": {
  "colab": {
   "collapsed_sections": [],
   "provenance": []
  },
  "kernelspec": {
   "display_name": "Python 3",
   "language": "python",
   "name": "python3"
  },
  "language_info": {
   "codemirror_mode": {
    "name": "ipython",
    "version": 3
   },
   "file_extension": ".py",
   "mimetype": "text/x-python",
   "name": "python",
   "nbconvert_exporter": "python",
   "pygments_lexer": "ipython3",
   "version": "3.8.8"
  }
 },
 "nbformat": 4,
 "nbformat_minor": 1
}
