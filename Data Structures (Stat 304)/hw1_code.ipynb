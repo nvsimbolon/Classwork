{
 "cells": [
  {
   "cell_type": "markdown",
   "id": "a1cf7d22",
   "metadata": {},
   "source": [
    "## Question 1"
   ]
  },
  {
   "cell_type": "code",
   "execution_count": 1,
   "id": "39933c13",
   "metadata": {},
   "outputs": [],
   "source": [
    "import time"
   ]
  },
  {
   "cell_type": "code",
   "execution_count": 17,
   "id": "bf454eec",
   "metadata": {},
   "outputs": [
    {
     "name": "stdout",
     "output_type": "stream",
     "text": [
      "Running time 0.008011817932128906 seconds\n"
     ]
    }
   ],
   "source": [
    "st = time.time()\n",
    "\n",
    "def fun1(n):\n",
    "    sum = 0\n",
    "    for i in range(n):\n",
    "        sum += 1\n",
    "    return sum\n",
    "fun1(100000)\n",
    "\n",
    "et = time.time()\n",
    "elapsed_time = et-st\n",
    "print('Running time', elapsed_time, 'seconds')"
   ]
  },
  {
   "cell_type": "markdown",
   "id": "931a5038",
   "metadata": {},
   "source": [
    "a:\n",
    "- Assignments: 1\n",
    "- Arithmetic operations: n\n",
    "- Total Operations: n+1\n",
    "\n",
    "b:\n",
    "- n = 10, Running time: 0 seconds\n",
    "- n = 100, Running time: 0 seconds\n",
    "- n = 1000, Running time: 0 seconds\n",
    "- n = 10000, Running time: 0.008004903793334961 seconds\n",
    "- n = 100000, Running time: 0.008011817932128906 seconds\n",
    "\n",
    "c:\n",
    "- O(n) linear"
   ]
  },
  {
   "cell_type": "code",
   "execution_count": 21,
   "id": "f70a76c7",
   "metadata": {},
   "outputs": [
    {
     "name": "stdout",
     "output_type": "stream",
     "text": [
      "Running time 11.477198123931885 seconds\n"
     ]
    }
   ],
   "source": [
    "st = time.time()\n",
    "\n",
    "def fun2(n):\n",
    "    sum = 0\n",
    "    for i in range(n):\n",
    "        for j in range(n):\n",
    "            sum += 1\n",
    "    return sum\n",
    "\n",
    "fun2(10000)\n",
    "et = time.time()\n",
    "elapsed_time = et-st\n",
    "print('Running time', elapsed_time, 'seconds')"
   ]
  },
  {
   "cell_type": "markdown",
   "id": "9caa0bde",
   "metadata": {},
   "source": [
    "a:\n",
    "- Assignments: 1\n",
    "- Arithmetic operations: n^2\n",
    "- Total Operations: (n^2)+1\n",
    "\n",
    "b:\n",
    "- n = 10, Running time: 0 seconds\n",
    "- n = 100, Running time: 0.008203744888305664  seconds\n",
    "- n = 1000, Running time: 0.11698484420776367 seconds\n",
    "- n = 10000, Running time: 11.477198123931885 seconds\n",
    "\n",
    "c:\n",
    "- O(n^2) quadriatic"
   ]
  },
  {
   "cell_type": "code",
   "execution_count": 27,
   "id": "282fcdb0",
   "metadata": {},
   "outputs": [
    {
     "name": "stdout",
     "output_type": "stream",
     "text": [
      "Running time 5.5712738037109375 seconds\n"
     ]
    }
   ],
   "source": [
    "st = time.time()\n",
    "\n",
    "def fun3(n):\n",
    "    sum = 0\n",
    "    for i in range(n):\n",
    "        for j in range(i):\n",
    "            sum += 1\n",
    "    return sum\n",
    "\n",
    "fun3(10000)\n",
    "et = time.time()\n",
    "elapsed_time = et-st\n",
    "print('Running time', elapsed_time, 'seconds')"
   ]
  },
  {
   "cell_type": "markdown",
   "id": "77b3b17d",
   "metadata": {},
   "source": [
    "a:\n",
    "- Assignments: 1\n",
    "- Arithmetic operations: n^2\n",
    "- Total Operations: (n^2)+1\n",
    "\n",
    "b:\n",
    "- n = 10, Running time: 0 seconds\n",
    "- n = 100, Running time: 0 seconds\n",
    "- n = 1000, Running time: 0.06406402587890625  seconds\n",
    "- n = 10000, Running time: 5.5712738037109375  seconds\n",
    "\n",
    "c:\n",
    "- O(n^2) quadriatic"
   ]
  },
  {
   "cell_type": "code",
   "execution_count": 32,
   "id": "8d28db68",
   "metadata": {},
   "outputs": [
    {
     "name": "stdout",
     "output_type": "stream",
     "text": [
      "Running time 94.01199698448181 seconds\n"
     ]
    }
   ],
   "source": [
    "st = time.time()\n",
    "\n",
    "def fun4(n):\n",
    "    sum = 0\n",
    "    for i in range(n):\n",
    "        for j in range(n*n):\n",
    "            sum += 1\n",
    "    return sum\n",
    "\n",
    "fun4(1010)\n",
    "et = time.time()\n",
    "elapsed_time = et-st\n",
    "print('Running time', elapsed_time, 'seconds')"
   ]
  },
  {
   "cell_type": "markdown",
   "id": "adb2bda6",
   "metadata": {},
   "source": [
    "a:\n",
    "- Assignments: 1\n",
    "- Arithmetic operations: n^3\n",
    "- Total Operations: (n^3)+1\n",
    "\n",
    "b:\n",
    "- n = 10, Running time: 0 seconds\n",
    "- n = 100, Running time: 0.11292791366577148 seconds\n",
    "- n = 1000, Running time: 118.6583685874939  seconds\n",
    "- n = 1010, Running time: 94.01199698448181  seconds\n",
    "\n",
    "c:\n",
    "- O(n^3) cubic"
   ]
  },
  {
   "cell_type": "code",
   "execution_count": 36,
   "id": "bf6c19fb",
   "metadata": {},
   "outputs": [
    {
     "name": "stdout",
     "output_type": "stream",
     "text": [
      "Running time 9.866615295410156 seconds\n"
     ]
    }
   ],
   "source": [
    "st = time.time()\n",
    "\n",
    "def fun5(n):\n",
    "    sum = 0\n",
    "    for i in range(n):\n",
    "        for j in range(i):\n",
    "            sum += 1\n",
    "        for k in range(8000):\n",
    "            sum += 1   \n",
    "    return sum\n",
    "\n",
    "fun5(10000)\n",
    "et = time.time()\n",
    "elapsed_time = et-st\n",
    "print('Running time', elapsed_time, 'seconds')"
   ]
  },
  {
   "cell_type": "markdown",
   "id": "fc0509f1",
   "metadata": {},
   "source": [
    "a:\n",
    "- Assignments: 1\n",
    "- Arithmetic operations: 16000(n^2)\n",
    "- Total Operations: 16000(n^2)+1\n",
    "\n",
    "b:\n",
    "- n = 10, Running time: 0.007999897003173828 seconds\n",
    "- n = 100, Running time: 0.0691840648651123 seconds\n",
    "- n = 1000, Running time: 0.6568036079406738 seconds\n",
    "- n = 10000, Running time: 9.866615295410156  seconds\n",
    "\n",
    "c:\n",
    "- O(n^2) quadriatic"
   ]
  },
  {
   "cell_type": "markdown",
   "id": "28746e6b",
   "metadata": {},
   "source": [
    "Please skip counting the frenqucy of primitive operation for fun6"
   ]
  },
  {
   "cell_type": "code",
   "execution_count": 41,
   "id": "590a5691",
   "metadata": {},
   "outputs": [
    {
     "name": "stdout",
     "output_type": "stream",
     "text": [
      "Running time 30.46778631210327 seconds\n"
     ]
    }
   ],
   "source": [
    "st = time.time()\n",
    "\n",
    "def fun6(n):\n",
    "    sum = 0\n",
    "    for i in range(1,n):\n",
    "        for j in range(1,i*i):\n",
    "            if i%j == 0:\n",
    "                for k in range(j):\n",
    "                    sum += 1\n",
    "    return sum\n",
    "\n",
    "fun6(1010)\n",
    "et = time.time()\n",
    "elapsed_time = et-st\n",
    "print('Running time', elapsed_time, 'seconds')"
   ]
  },
  {
   "cell_type": "markdown",
   "id": "9e06faf2",
   "metadata": {},
   "source": [
    "b:\n",
    "- n = 10, Running time: 0 seconds\n",
    "- n = 100, Running time: 0.025504112243652344 seconds\n",
    "- n = 1000, Running time: 28.3712420463562 seconds\n",
    "- n = 1010, Running time: 30.46778631210327 seconds\n",
    "\n",
    "c:\n",
    "- O(n^3) cubic"
   ]
  },
  {
   "cell_type": "code",
   "execution_count": 45,
   "id": "278bfffb",
   "metadata": {},
   "outputs": [
    {
     "name": "stdout",
     "output_type": "stream",
     "text": [
      "Running time 27.162867784500122 seconds\n"
     ]
    }
   ],
   "source": [
    "st = time.time()\n",
    "\n",
    "def fun7(n):\n",
    "    sum = 0\n",
    "    for i in range(n):\n",
    "        for j in range(i*i):\n",
    "            sum+=1\n",
    "    return sum\n",
    "\n",
    "fun7(1010)\n",
    "et = time.time()\n",
    "elapsed_time = et-st\n",
    "print('Running time', elapsed_time, 'seconds')"
   ]
  },
  {
   "cell_type": "markdown",
   "id": "8e58f866",
   "metadata": {},
   "source": [
    "a:\n",
    "- Assignments: 1\n",
    "- Arithmetic operations: (n^3)\n",
    "- Total Operations: (n^3)+1\n",
    "\n",
    "b:\n",
    "- n = 10, Running time: 0 seconds\n",
    "- n = 100, Running time: 0.029987096786499023 seconds\n",
    "- n = 1000, Running time: 25.747156143188477 seconds\n",
    "- n = 1010, Running time: 27.162867784500122 seconds\n",
    "\n",
    "c:\n",
    "- O(n^3) cubic"
   ]
  },
  {
   "cell_type": "code",
   "execution_count": 53,
   "id": "3ef95450",
   "metadata": {},
   "outputs": [
    {
     "name": "stdout",
     "output_type": "stream",
     "text": [
      "Running time 0.0 seconds\n"
     ]
    }
   ],
   "source": [
    "st = time.time()\n",
    "\n",
    "# Return the sum of the elements in sequence S\n",
    "def example1(S):\n",
    "    n = len(S)\n",
    "    total = 0\n",
    "    for j in range(n):\n",
    "        total += S[j]\n",
    "    return total\n",
    "\n",
    "example1([1,2,3,4,5,6,7,8,9,10,9,8,7,6,5,4,3,2,1])\n",
    "et = time.time()\n",
    "elapsed_time = et-st\n",
    "print('Running time', elapsed_time, 'seconds')"
   ]
  },
  {
   "cell_type": "markdown",
   "id": "56c8e731",
   "metadata": {},
   "source": [
    "a:\n",
    "- Assignments: 2\n",
    "- Accessing Array: n\n",
    "- Arithmetic operations: n\n",
    "- Total Operations: 2n+2\n",
    "\n",
    "b:\n",
    "- S = [list of 5], Running time: 0.0010020732879638672 seconds\n",
    "- S = [list of 7], Running time: 0 seconds\n",
    "- S = [list of 9], Running time: 0 seconds\n",
    "- S = [list of 19], Running time: 0.0010073184967041016 seconds\n",
    "\n",
    "c:\n",
    "- O(n) linear"
   ]
  },
  {
   "cell_type": "code",
   "execution_count": 58,
   "id": "5e73225a",
   "metadata": {},
   "outputs": [
    {
     "name": "stdout",
     "output_type": "stream",
     "text": [
      "Running time 0.0 seconds\n"
     ]
    }
   ],
   "source": [
    "st = time.time()\n",
    "# Return the sum of the elements with even index in sequence S\n",
    "def example2(S):\n",
    "    n = len(S)\n",
    "    total = 0\n",
    "    for j in range(0, n, 2):\n",
    "        total += S[j]\n",
    "    return total\n",
    "\n",
    "example2([1,2,3,4,5,6,7,8,9,10,9,8,7,6,5,4,3,2,1])\n",
    "et = time.time()\n",
    "elapsed_time = et-st\n",
    "print('Running time', elapsed_time, 'seconds')"
   ]
  },
  {
   "cell_type": "markdown",
   "id": "6b3f6ae7",
   "metadata": {},
   "source": [
    "a:\n",
    "- Assignments: 2\n",
    "- Accessing Array: n/2\n",
    "- Arithmetic operations: n/2\n",
    "- Total Operations: 2n+2\n",
    "\n",
    "b:\n",
    "- S = [list of 5], Running time: 0 seconds\n",
    "- S = [list of 7], Running time: 0 seconds\n",
    "- S = [list of 9], Running time: 0 seconds\n",
    "- S = [list of 19], Running time: 0.0010051727294921875 seconds\n",
    "\n",
    "c:\n",
    "- O(n) linear"
   ]
  },
  {
   "cell_type": "code",
   "execution_count": 60,
   "id": "39ce4a1d",
   "metadata": {},
   "outputs": [
    {
     "name": "stdout",
     "output_type": "stream",
     "text": [
      "Running time 0.0 seconds\n"
     ]
    }
   ],
   "source": [
    "st = time.time()\n",
    "\n",
    "# Return the sum of the prefix sums of sequence S\n",
    "def example3(S):\n",
    "    n = len(S)\n",
    "    total = 0\n",
    "    for j in range(n):\n",
    "        for k in range(1+j):\n",
    "            total += S[k]\n",
    "    return total\n",
    "\n",
    "example3([1,2,3,4,5,6,7,8,9,10,9,8,7,6,5,4,3,2,1])\n",
    "et = time.time()\n",
    "elapsed_time = et-st\n",
    "print('Running time', elapsed_time, 'seconds')"
   ]
  },
  {
   "cell_type": "markdown",
   "id": "6eee733b",
   "metadata": {},
   "source": [
    "a:\n",
    "- Assignments: 2\n",
    "- Accessing Array: (n^2)+n\n",
    "- Arithmetic operations: (n^2)+n\n",
    "- Total Operations: 2(n^2)+2n+2\n",
    "\n",
    "b:\n",
    "- S = [list of 5], Running time: 0 seconds\n",
    "- S = [list of 7], Running time: 0 seconds\n",
    "- S = [list of 9], Running time: 0 seconds\n",
    "- S = [list of 19], Running time: 0.000995635986328125 seconds\n",
    "\n",
    "c:\n",
    "- O(n^2) quadriatic"
   ]
  },
  {
   "cell_type": "code",
   "execution_count": 62,
   "id": "2b68a289",
   "metadata": {},
   "outputs": [
    {
     "name": "stdout",
     "output_type": "stream",
     "text": [
      "Running time 0.0 seconds\n"
     ]
    }
   ],
   "source": [
    "st = time.time()\n",
    "\n",
    "# Return the sum of the prefix sums of sequence S.\n",
    "def example4(S):\n",
    "    n = len(S)\n",
    "    prefix = 0\n",
    "    total = 0\n",
    "    for j in range(n):\n",
    "        prefix += S[j]\n",
    "        total += prefix\n",
    "    return total\n",
    "\n",
    "example4([1,2,3,4,5,6,7,8,9,10,9,8,7,6,5,4,3,2,1])\n",
    "et = time.time()\n",
    "elapsed_time = et-st\n",
    "print('Running time', elapsed_time, 'seconds')"
   ]
  },
  {
   "cell_type": "markdown",
   "id": "40538960",
   "metadata": {},
   "source": [
    "a:\n",
    "- Assignments: 3\n",
    "- Accessing Array: n\n",
    "- Arithmetic operations: 2n\n",
    "- Total Operations: 3n+3\n",
    "\n",
    "b:\n",
    "- S = [list of 5], Running time: 0 seconds\n",
    "- S = [list of 7], Running time: 0 seconds\n",
    "- S = [list of 9], Running time: 0.0010020732879638672 seconds\n",
    "- S = [list of 19], Running time: 0 seconds\n",
    "\n",
    "c:\n",
    "- O(n) linear"
   ]
  },
  {
   "cell_type": "code",
   "execution_count": 67,
   "id": "acbd8d17",
   "metadata": {},
   "outputs": [
    {
     "name": "stdout",
     "output_type": "stream",
     "text": [
      "Running time 0.00099945068359375 seconds\n"
     ]
    }
   ],
   "source": [
    "st = time.time()\n",
    "A = [1,2,3,4,5,6,7,8,9,10,9,8,7,6,5,4,3,2,1]\n",
    "B = [1,2,3,4,5,6,7,8,9,10,9,8,7,6,5,4,3,2,1]\n",
    "\n",
    "# Return the number of elements in B equal to the sum of prefix sums in A\n",
    "def example5(A, B):  # assume that A and B have equal length\n",
    "    n = len(A)\n",
    "    count = 0\n",
    "    for i in range(n):\n",
    "        total = 0\n",
    "        for j in range(n):\n",
    "            for k in range(1+j):\n",
    "                total += A[k]\n",
    "            if B[i] == total:\n",
    "                count += 1\n",
    "    return count\n",
    "\n",
    "example5([1,2,3,4,5,6,7,8,9,10,9,8,7,6,5,4,3,2,1],[1,2,3,4,5,6,7,8,9,10,9,8,7,6,5,4,3,2,1])\n",
    "et = time.time()\n",
    "elapsed_time = et-st\n",
    "print('Running time', elapsed_time, 'seconds')"
   ]
  },
  {
   "cell_type": "markdown",
   "id": "1f446c6e",
   "metadata": {},
   "source": [
    "a:\n",
    "- Assignments: n+2\n",
    "- Accessing Array: 2(n^3)+2(n^2)\n",
    "- Arithmetic operations: 2(n^3)+2(n^2)\n",
    "- Comparisons: (n^3)+(n^2)\n",
    "- Total Operations: 5(n^3)+5(n^2)+n+2\n",
    "\n",
    "b:\n",
    "- A,B = [list of 5], Running time: 0 seconds\n",
    "- A,B = [list of 7], Running time: 0.0009996891021728516  seconds\n",
    "- A,B = [list of 9], Running time: 0.0011255741119384766 seconds\n",
    "- A,B = [list of 19], Running time: 0.0009999275207519531  seconds\n",
    "\n",
    "c:\n",
    "- O(n^3) cubic"
   ]
  },
  {
   "cell_type": "markdown",
   "id": "50adc2a0",
   "metadata": {},
   "source": [
    "## Question 2 (R-3.28)"
   ]
  },
  {
   "attachments": {
    "image-2.png": {
     "image/png": "[encoded data removed]"
    }
   },
   "cell_type": "markdown",
   "id": "be9cd204",
   "metadata": {},
   "source": [
    "![image-2.png](attachment:image-2.png)"
   ]
  },
  {
   "cell_type": "markdown",
   "id": "b0d859ca",
   "metadata": {},
   "source": [
    "## Question 3 (R-3.17 -- R-3.19)"
   ]
  },
  {
   "cell_type": "markdown",
   "id": "80cc5359",
   "metadata": {},
   "source": [
    "### R-3.17\n",
    "\n",
    "(n + 1)^5\n",
    "\n",
    "(n + 1)(n + 1)(n + 1)^3\n",
    "\n",
    "((n^2) + 2n +1)((n^2) + 2n + 1)(n+1)\n",
    "\n",
    "((n^4)+ 2(n^3) + (n^2) + 2(n^3) + 4(n^2) + 2n + (n^2) + 2n + 1)(n + 1)\n",
    "\n",
    "((n^4)+ 2(n^3) + (n^2) + 2(n^3) + 4(n^2) + 2n + (n^2) + 2n + 1 + (n^5) + 2(n^4) + (n^3) + 2(n^4) + 4(n^3) + 2(n^2) + (n^3) + 2(n^3) + n)\n",
    "\n",
    "**Note that (n^5) + 5(n^4) + 12(n^3) + 8(n^2) + 5n + 1 ≤ (1 + 5 + 12 + 8 + 5 +1)(n^5) = c(n^5), for c = 32, when n >= n0 = 1**\n",
    "\n",
    "**If n is very large, all that would matter is n^5. This means then that the big-Oh notation would be O(n^5).**"
   ]
  },
  {
   "cell_type": "markdown",
   "id": "9a12f683",
   "metadata": {},
   "source": [
    "### R-3.18\n",
    "\n",
    "2^(n+1)\n",
    "\n",
    "**2 * 2^(n); hence, we can take c = 2 and n0 = 1 in this case.**\n",
    "\n",
    "**If n is very large, all that would matter is the 2^(n). This means then that the big-Oh notation would be O(2^n).**"
   ]
  },
  {
   "cell_type": "markdown",
   "id": "17152f5a",
   "metadata": {},
   "source": [
    "### R-3.19"
   ]
  },
  {
   "cell_type": "markdown",
   "id": "8ccf74ba",
   "metadata": {},
   "source": [
    "**Since n = O(n) and 1 = O(logn), then n = O(nlogn) because n * 1 = O(nlogn).**"
   ]
  },
  {
   "cell_type": "markdown",
   "id": "f7dd6ec7",
   "metadata": {},
   "source": [
    "## Question 4 (R-3.2, R-3.3)"
   ]
  },
  {
   "cell_type": "markdown",
   "id": "12fbf1c8",
   "metadata": {},
   "source": [
    "### R-3.2\n",
    "\n",
    "The number of operations executed by algorithms A and B is 8nlog n and\n",
    "2n^2, respectively. Determine n0 such that A is better than B for n ≥ n0."
   ]
  },
  {
   "cell_type": "markdown",
   "id": "199f6bf3",
   "metadata": {},
   "source": [
    "8nlogn = 2n^2\n",
    "4logn = n\n",
    "4 = n/logn\n",
    "4 = 16/log2(16) = 16/4 = 4\n",
    "\n",
    "**Therefore, n0 = 16 and n ≥ 16.**"
   ]
  },
  {
   "cell_type": "markdown",
   "id": "a1069fe3",
   "metadata": {},
   "source": [
    "### R-3.3\n",
    "\n",
    "The number of operations executed by algorithms A and B is 40n2 and\n",
    "2n3, respectively. Determine n0 such that A is better than B for n ≥ n0."
   ]
  },
  {
   "cell_type": "markdown",
   "id": "ef002ce1",
   "metadata": {},
   "source": [
    "40(n^2) = 2(n^3)\n",
    "\n",
    "40 = 2n\n",
    "\n",
    "n = 20\n",
    "\n",
    "**Therefore, n0 = 20 and n ≥ 20.**"
   ]
  },
  {
   "cell_type": "markdown",
   "id": "5f80af58",
   "metadata": {},
   "source": [
    "## Question 5"
   ]
  },
  {
   "cell_type": "markdown",
   "id": "decbba47",
   "metadata": {},
   "source": [
    "**2/n < 37 <√n < n < n log log n < n log n ≤ n log(n^2)< n log^2 n < n^1.5 < n^2 < n^2log n < n^3 < 2^(n/2) < 2^n**\n",
    "\n",
    "**The two functions that grow at the same rate are nlogn and nlog(n^2).**"
   ]
  },
  {
   "cell_type": "markdown",
   "id": "ddcedd0e",
   "metadata": {},
   "source": [
    "## Question 6\n",
    "\n",
    "Suppose T1(N) = O(f(N)) and T2(N) = O(f(N)). Which of the following are always true (for all T1, f, and T2)?\n",
    "\n",
    "Collaborated with: Hannah Zhang"
   ]
  },
  {
   "cell_type": "markdown",
   "id": "332b83ba",
   "metadata": {},
   "source": [
    "**a: Always true**\n",
    "    \n",
    "**b: Always True**\n",
    "    \n",
    "**c: Not true always,\n",
    "The statement is false if T1(n) = (n^2)+n, T2(n) = n^2, and f(n) = n^2.**\n",
    "    \n",
    "**d:  Not true always,\n",
    "The statement is false if T1(n) = 5n, T2(n) = 3n, and f(n) = n.**"
   ]
  },
  {
   "cell_type": "markdown",
   "id": "2f5acc8d",
   "metadata": {},
   "source": [
    "## Question 7"
   ]
  },
  {
   "cell_type": "markdown",
   "id": "35af290c",
   "metadata": {},
   "source": [
    "I think I spent somewhere in the ballpark of 10 hours on this homework assignment. This assignment was HUGE in my opinion and since there was so much and the work overall took a lot of time, it was very very taxing. I think this was between medium to hard difficulty while leaning a little more towards hard because I had to ask for so many hints and ask so many questions (office hours and campuswire)."
   ]
  },
  {
   "cell_type": "code",
   "execution_count": null,
   "id": "4f7425bf",
   "metadata": {},
   "outputs": [],
   "source": []
  }
 ],
 "metadata": {
  "kernelspec": {
   "display_name": "Python 3",
   "language": "python",
   "name": "python3"
  },
  "language_info": {
   "codemirror_mode": {
    "name": "ipython",
    "version": 3
   },
   "file_extension": ".py",
   "mimetype": "text/x-python",
   "name": "python",
   "nbconvert_exporter": "python",
   "pygments_lexer": "ipython3",
   "version": "3.8.8"
  }
 },
 "nbformat": 4,
 "nbformat_minor": 5
}
