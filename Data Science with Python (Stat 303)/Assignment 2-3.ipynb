{
 "cells": [
  {
   "cell_type": "markdown",
   "id": "32225f7b",
   "metadata": {},
   "source": [
    "# Instructions: {-}\n",
    "\n",
    "a.\tYou may talk to a friend, discuss the questions and potential directions for solving them. However, you need to write your own solutions and code separately, and not as a group activity.\n",
    "\n",
    "b.\tDo not write your name on the assignment. (1 point)\n",
    "\n",
    "c.\tExport your Jupyter notebook as a PDF file. If you get an error, make sure you have downloaded the MikTex software (for windows) or MacTex (for mac). Note that after installing MikTex/MacTex, you will need to check for updates, install the updates if needed, and re-start your system. Submit the PDF file. (1 point)\n",
    "\n",
    "d.\tPlease include each question (or question number) followed by code and your answer (if applicable). Write your code in the ‘Code’ cells and your answer in the ‘Markdown’ cells of the Jupyter notebook. Ensure that the solution is well-organized, clear, and concise (3 points)\n",
    "1.\tIt’s easy enough to identify different sections of the homework assignment (e.g., if there are different sections of an assignment, they’re clearly distinguishable by section headers or the like)  \n",
    "2.\tIt’s clear which code/markdown blocks correspond to which questions. \n",
    "3.\tThere aren’t excessively long outputs of extraneous information (e.g., no printouts of entire data frames without good reason) \n",
    "\n",
    "This assignment is **due at 11:59pm on Wednesday, April 27th**. Good luck!\n",
    "\n",
    "Submissions will be graded with a maximum of 55 points – 50 points for code & answers, 5 points for anonymity and proper formatting. However, your final grade in the assignment will be scaled to be out of 100 points. For example, if you scored 27.5/55 in the assigment, your score will be scaled to 50/100"
   ]
  },
  {
   "cell_type": "code",
   "execution_count": 1,
   "id": "5ae19871",
   "metadata": {},
   "outputs": [],
   "source": [
    "import pandas as pd\n",
    "import numpy as np \n",
    "import seaborn as sns\n",
    "import matplotlib.pyplot as plt\n",
    "from sklearn.metrics import mean_squared_error, r2_score\n",
    "from sklearn.model_selection import cross_val_score, train_test_split, KFold, GridSearchCV\n",
    "from sklearn.tree import DecisionTreeRegressor\n",
    "from sklearn.metrics import roc_curve, precision_recall_curve, auc,make_scorer, recall_score, accuracy_score, precision_score, confusion_matrix\n",
    "from sklearn.model_selection import StratifiedKFold, KFold\n",
    "from sklearn.tree import DecisionTreeClassifier\n",
    "\n",
    "import warnings\n",
    "warnings.filterwarnings('ignore')"
   ]
  },
  {
   "cell_type": "markdown",
   "id": "cafd8b87",
   "metadata": {},
   "source": [
    "# Part 1"
   ]
  },
  {
   "cell_type": "markdown",
   "id": "b6b50f88",
   "metadata": {},
   "source": [
    "# Q1a {-}\n",
    "Develop a decision tree model on the data *house_feature_train.csv* to predict *house_price*. Use all the predictors except *house_id*. What is the: \\\n",
    "(i) model depth and, \\\n",
    "(ii) number of leaves in the model?\n",
    "\n",
    "**Hint:** Use the attribute *tree_* to get the attributes of the tree model. Example: *model.tree.n_leaves* is the number of leaves of the tree *model*.\n",
    "\n",
    "*(2 points for code, 1 point for answer)*"
   ]
  },
  {
   "cell_type": "code",
   "execution_count": 2,
   "id": "d8a99276",
   "metadata": {},
   "outputs": [],
   "source": [
    "train = pd.merge(pd.read_csv('house_feature_train.csv'), pd.read_csv('house_price_train.csv'))\n",
    "test = pd.merge(pd.read_csv('house_feature_test.csv'), pd.read_csv('house_price_test.csv'))"
   ]
  },
  {
   "cell_type": "code",
   "execution_count": 3,
   "id": "ed6871fd",
   "metadata": {},
   "outputs": [],
   "source": [
    "X = train.drop(columns = ['house_id', 'house_price'])\n",
    "y = train['house_price']"
   ]
  },
  {
   "cell_type": "code",
   "execution_count": 4,
   "id": "99962ba9",
   "metadata": {},
   "outputs": [
    {
     "data": {
      "text/plain": [
       "DecisionTreeRegressor(random_state=1)"
      ]
     },
     "execution_count": 4,
     "metadata": {},
     "output_type": "execute_result"
    }
   ],
   "source": [
    "model = DecisionTreeRegressor(random_state=1)\n",
    "model.fit(X,y)"
   ]
  },
  {
   "cell_type": "code",
   "execution_count": 5,
   "id": "30b23aa6",
   "metadata": {},
   "outputs": [
    {
     "data": {
      "text/plain": [
       "16"
      ]
     },
     "execution_count": 5,
     "metadata": {},
     "output_type": "execute_result"
    }
   ],
   "source": [
    "model.get_depth()"
   ]
  },
  {
   "cell_type": "code",
   "execution_count": 6,
   "id": "6010fd72",
   "metadata": {},
   "outputs": [
    {
     "data": {
      "text/plain": [
       "249"
      ]
     },
     "execution_count": 6,
     "metadata": {},
     "output_type": "execute_result"
    }
   ],
   "source": [
    "model.get_n_leaves()"
   ]
  },
  {
   "cell_type": "markdown",
   "id": "7968435c",
   "metadata": {},
   "source": [
    "The model has a depth of 16 and 249 nodes."
   ]
  },
  {
   "cell_type": "markdown",
   "id": "9ba52d14",
   "metadata": {},
   "source": [
    "# Q1b {-}\n",
    "Find the RMSE of the model developed in the previous question on *house_feature_test.csv*.\n",
    "\n",
    "*(1 point for code, 1 point for answer)*"
   ]
  },
  {
   "cell_type": "code",
   "execution_count": 7,
   "id": "d064ff9c",
   "metadata": {},
   "outputs": [
    {
     "data": {
      "text/plain": [
       "440.11904192007887"
      ]
     },
     "execution_count": 7,
     "metadata": {},
     "output_type": "execute_result"
    }
   ],
   "source": [
    "X_test = test.drop(columns = ['house_id', 'house_price'])\n",
    "np.sqrt(mean_squared_error(test['house_price'], model.predict(X_test)))"
   ]
  },
  {
   "cell_type": "markdown",
   "id": "743cab76",
   "metadata": {},
   "source": [
    "The RMSE of the model on the test data is approximately $440.12."
   ]
  },
  {
   "cell_type": "markdown",
   "id": "a308a7bc",
   "metadata": {},
   "source": [
    "# Q1c {-}\n",
    "For the model developed in *Q1a*, use 5-fold cross validation to optimize the *depth, number of leaves, minimum number of observations in a node required to split the node*, and *minimum number of observations required in a leaf*. Report the optimal values of these parameters.\n",
    "\n",
    "Use the following arguments: \\\n",
    "(i) Use `random_state=1` when defining the `KFold` object, \\\n",
    "(ii) Since you are using `random_state=1` while defining the `KFold` object, you will need to use the `shuffle = True` argument, \\\n",
    "(iii) Use `random_state=1` with the `DecisionTreeRegressor` object.\n",
    "\n",
    "**Note:** It is computationally expensive to consider a wide range of values of all the parameters. An optimization over any reasonable range (that your laptop can handle) is good enough. Different people may get different models, based on the range of values they consider to optimize the parameters.\n",
    "\n",
    "**Hint:** The parameters of the `DecisionTreeRegressor` object to be optimized are `max_depth, max_leaf_nodes, min_samples_split and min_samples_leaf`.\n",
    "\n",
    "*(4 points for code, 1 point for answer)*"
   ]
  },
  {
   "cell_type": "code",
   "execution_count": 7,
   "id": "88edb53b",
   "metadata": {},
   "outputs": [
    {
     "name": "stdout",
     "output_type": "stream",
     "text": [
      "Fitting 5 folds for each of 26208 candidates, totalling 131040 fits\n",
      "0.6766917122861764 {'max_depth': 6, 'max_leaf_nodes': 17, 'min_samples_leaf': 10, 'min_samples_split': 2}\n"
     ]
    }
   ],
   "source": [
    "parameters = {'max_depth': range(3, 11), 'max_leaf_nodes': range(12, 25),\n",
    "              'min_samples_split': range(1,15), 'min_samples_leaf': range(7,25)}\n",
    "cv = KFold(n_splits=5, random_state=1, shuffle=True)\n",
    "model = GridSearchCV(DecisionTreeRegressor(random_state=1), parameters, n_jobs=-1, verbose=1,\n",
    "                    cv = cv)\n",
    "model.fit(X, y)\n",
    "print(model.best_score_, model.best_params_)"
   ]
  },
  {
   "cell_type": "markdown",
   "id": "c0c9b7bd",
   "metadata": {},
   "source": [
    "# Q1d {-}\n",
    "Update the decision tree model in *Q1a* based on the optimal values of parameters found in *Q1c*. Find the RMSE of the updated model on *house_feature_test.csv*.\n",
    "\n",
    "*(2 points for code, 1 point for answer)*"
   ]
  },
  {
   "cell_type": "code",
   "execution_count": 8,
   "id": "8ebdcdf6",
   "metadata": {},
   "outputs": [
    {
     "data": {
      "text/plain": [
       "DecisionTreeRegressor(max_depth=6, max_leaf_nodes=17, min_samples_leaf=10,\n",
       "                      random_state=1)"
      ]
     },
     "execution_count": 8,
     "metadata": {},
     "output_type": "execute_result"
    }
   ],
   "source": [
    "X = train.drop(columns = ['house_id', 'house_price'])\n",
    "model = DecisionTreeRegressor(max_depth=6, max_leaf_nodes=17, min_samples_leaf=10, min_samples_split=2, random_state=1)\n",
    "model.fit(X,y)"
   ]
  },
  {
   "cell_type": "code",
   "execution_count": 9,
   "id": "0975b438",
   "metadata": {},
   "outputs": [
    {
     "name": "stdout",
     "output_type": "stream",
     "text": [
      "rmse: 447.1436934543615\n"
     ]
    }
   ],
   "source": [
    "X_test = test.drop(columns = ['house_id', 'house_price'])\n",
    "np.sqrt(mean_squared_error(test['house_price'], model.predict(X_test)))"
   ]
  },
  {
   "cell_type": "markdown",
   "id": "30b9b8d1",
   "metadata": {},
   "source": [
    "# Q1e {-}\n",
    "A decision tree model has varying levels of prediction accuracy over different segments of data. What are the charecterisitics of the houses for which the decision tree model, developed in *Q1d*, provides the most accurate estimate of *house_price*? Follow the steps below to answer this question.\n",
    "\n",
    "For the model developed in *Q1d*: \\\n",
    "(i) Find the leaf that has the least *mean squared error (MSE)* \\\n",
    "(ii) Find the decision rules that classify an observation to the leaf identified in (i) \\\n",
    "(iii) Use the decision rules in (ii) to answer the question. For example, an answer can look like - \"For houses with *house_age>3* and *number_convenience_stores<=2*, the model provides the most accurate estimate of *house_price*.\n",
    "\n",
    "You may use the following functions to help you with the above steps. Given the functions, the problem is quite straightforward.\n",
    "\n",
    "*(3 points for code, 1 point for answer)*"
   ]
  },
  {
   "cell_type": "code",
   "execution_count": 10,
   "id": "27efd61d",
   "metadata": {},
   "outputs": [],
   "source": [
    "#The following function finds indices of the leaf nodes, given the decision tree model.\n",
    "#The indices of nodes in a decision tree starts at the top from 0. \n",
    "#The child nodes obtained from the first split have indices 1 (left) and 2 (right), \n",
    "#the child nodes obtained from the second split have indices 3 (left) and 4 (right), and so on.\n",
    "def leaf_nodes_indices(model):\n",
    "    children_left = model.tree_.children_left\n",
    "    children_right = model.tree_.children_right\n",
    "    leaf_nodes = []\n",
    "    for i in range(model.tree_.node_count):\n",
    "        if children_left[i] == children_right[i]:\n",
    "            leaf_nodes.append(i)\n",
    "    return leaf_nodes\n",
    "\n",
    "#The following function finds the *mean squared error* of nodes with indices *node_indices*\n",
    "def mse(model,node_indices):\n",
    "    return model.tree_.impurity[node_indices]\n",
    "\n",
    "#The following function gives the decision rules for a node with index as *node_index*\n",
    "def decision_rules(model,node_index):\n",
    "    child_node = node_index\n",
    "    node_list=[]\n",
    "    children_left = model.tree_.children_left\n",
    "    children_right = model.tree_.children_right\n",
    "    features=model.tree_.feature\n",
    "    fnames = X.columns\n",
    "    threshold = model.tree_.threshold\n",
    "    p=1\n",
    "    while p>0:\n",
    "        if node_index%2>0:\n",
    "            p= np.where(children_left==node_index)[0][0]\n",
    "        else:\n",
    "            p= np.where(children_right==node_index)[0][0]\n",
    "        node_list.append(p)\n",
    "        node_index=p\n",
    "    node_list.reverse()\n",
    "    node_list.append(child_node)\n",
    "    cc=1\n",
    "    for n in node_list[0:(len(node_list)-1)]:\n",
    "        cnode = node_list[cc]\n",
    "        if cnode%2==0:\n",
    "            ineq_sign = \">\"\n",
    "        else:\n",
    "            ineq_sign = \"<=\"\n",
    "        print(\"Split \"+ str(cc)+\":\"+fnames[features][n]+ineq_sign+str(threshold[n]))\n",
    "        cc=cc+1\n",
    "    node_list=[]\n",
    "    return \"\""
   ]
  },
  {
   "cell_type": "code",
   "execution_count": 11,
   "id": "b0cdc9bc",
   "metadata": {},
   "outputs": [
    {
     "data": {
      "text/plain": [
       "array([ 42613.488984  , 319056.51800273, 105493.11022644,  16445.10399017,\n",
       "       377468.12055976, 520819.37867756, 107091.143544  , 796842.84915943,\n",
       "       309528.96179501, 186607.65866925, 130426.66882469, 117062.75461775,\n",
       "       504329.04707823, 227344.48497431, 788087.46770399,  49739.83199665,\n",
       "        23782.49395976])"
      ]
     },
     "execution_count": 11,
     "metadata": {},
     "output_type": "execute_result"
    }
   ],
   "source": [
    "indices = leaf_nodes_indices(model)\n",
    "mse(model, indices)"
   ]
  },
  {
   "cell_type": "code",
   "execution_count": 12,
   "id": "827a9642",
   "metadata": {},
   "outputs": [
    {
     "data": {
      "text/plain": [
       "[9, 11, 14, 15, 17, 19, 20, 21, 22, 23, 26, 27, 28, 29, 30, 31, 32]"
      ]
     },
     "execution_count": 12,
     "metadata": {},
     "output_type": "execute_result"
    }
   ],
   "source": [
    "indices"
   ]
  },
  {
   "cell_type": "markdown",
   "id": "0f66af88",
   "metadata": {},
   "source": [
    "The leaf node that has the smallest MSE has an node index of 15."
   ]
  },
  {
   "cell_type": "code",
   "execution_count": 13,
   "id": "bb7cb435",
   "metadata": {},
   "outputs": [
    {
     "name": "stdout",
     "output_type": "stream",
     "text": [
      "Split 1:distance_MRT>390.7689971923828\n",
      "Split 2:latitude<=24.964895248413086\n",
      "Split 3:latitude<=24.950759887695312\n"
     ]
    },
    {
     "data": {
      "text/plain": [
       "''"
      ]
     },
     "execution_count": 13,
     "metadata": {},
     "output_type": "execute_result"
    }
   ],
   "source": [
    "decision_rules(model, 15)"
   ]
  },
  {
   "cell_type": "markdown",
   "id": "7d79349d",
   "metadata": {},
   "source": [
    "For distance_MRT>390.7689971923828, latitude<=24.964895248413086, and latitude <= 24.950759887695312 the model provides the most accurate estimate of house_price."
   ]
  },
  {
   "cell_type": "markdown",
   "id": "f0366778",
   "metadata": {},
   "source": [
    "# Q1f {-}\n",
    "Predict the *house_price* of those houses in *house_feature_test.csv* that have the characteristics identified in *Q1e*. What is the RMSE?\n",
    "\n",
    "*(2 points for code, 1 point for answer)*"
   ]
  },
  {
   "cell_type": "code",
   "execution_count": 14,
   "id": "3e66699c",
   "metadata": {},
   "outputs": [],
   "source": [
    "# Used split 3 latitude as it has the lower latitude lower latitude \n",
    "X_test = test.drop(columns = ['house_id','house_price']).loc[(test['distance_MRT'] > 390.7689971923828) & \n",
    "                                                             (test['latitude'] <= 24.950759887695312)]\n",
    "test_price = test.loc[(test['distance_MRT'] > 390.7689971923828) & \n",
    "                      (test['latitude'] <= 24.950759887695312)]"
   ]
  },
  {
   "cell_type": "code",
   "execution_count": 15,
   "id": "85251b62",
   "metadata": {},
   "outputs": [
    {
     "data": {
      "text/plain": [
       "181.00326025389404"
      ]
     },
     "execution_count": 15,
     "metadata": {},
     "output_type": "execute_result"
    }
   ],
   "source": [
    "np.sqrt(mean_squared_error(test_price['house_price'],model.predict(X_test)))"
   ]
  },
  {
   "cell_type": "markdown",
   "id": "b6f2934f",
   "metadata": {},
   "source": [
    "# Q1g {-}\n",
    "The decision tree model uses a greedy algorithm to fit the data. Thus it may choose an inferior split early on leading to an inferior model. Drop *longitude* from the set of predictors, and redo *Q1c* and *Q1d*. Report the RMSE of the model on *house_feature_test.csv*.\n",
    "\n",
    "*(4 points for code, 1 point for answer)*"
   ]
  },
  {
   "cell_type": "code",
   "execution_count": 16,
   "id": "a81d354a",
   "metadata": {},
   "outputs": [
    {
     "name": "stdout",
     "output_type": "stream",
     "text": [
      "Fitting 5 folds for each of 2560 candidates, totalling 12800 fits\n",
      "0.7094688362470212 {'max_depth': 6, 'max_leaf_nodes': 14, 'min_samples_leaf': 1, 'min_samples_split': 7}\n"
     ]
    }
   ],
   "source": [
    "X = train.drop(columns = ['longitude', 'house_price', 'house_id'])\n",
    "\n",
    "parameters = {'max_depth': range(3, 11), 'max_leaf_nodes': range(5, 17),\n",
    "              'min_samples_split': range(1,11), 'min_samples_leaf': range(1,11)}\n",
    "cv = KFold(n_splits=5, random_state=1, shuffle=True)\n",
    "model = GridSearchCV(DecisionTreeRegressor(random_state = 1), parameters, n_jobs = -1, verbose = 1,\n",
    "                    cv = cv)\n",
    "model.fit(X, y)\n",
    "print(model.best_score_, model.best_params_)"
   ]
  },
  {
   "cell_type": "code",
   "execution_count": 17,
   "id": "e5bc5fba",
   "metadata": {},
   "outputs": [
    {
     "data": {
      "text/plain": [
       "388.0778250436932"
      ]
     },
     "execution_count": 17,
     "metadata": {},
     "output_type": "execute_result"
    }
   ],
   "source": [
    "X = train.drop(columns = ['longitude', 'house_price', 'house_id'])\n",
    "model = DecisionTreeRegressor(max_depth=6, max_leaf_nodes=14, min_samples_leaf=1, min_samples_split=7)\n",
    "model.fit(X,y)\n",
    "\n",
    "X_test = test.drop(columns = ['house_id', 'house_price','longitude'])\n",
    "np.sqrt(mean_squared_error(test['house_price'], model.predict(X_test)))"
   ]
  },
  {
   "cell_type": "markdown",
   "id": "90b97614",
   "metadata": {},
   "source": [
    "# Q1h {-}\n",
    "Use minimal cost-complexity pruning to develop the decision tree for predicting house price. Use all the predictors except *house_id*. Also optimize *min_samples_split* while finding the optimal cost complexity parameter, *ccp_alpha*. Find the RMSE of the model developed with the optimal parameters on *house_feature_test.csv*.\n",
    "\n",
    "**Note:** Different people may obtain different models.\n",
    "\n",
    "*(3 points for code, 1 point for answer)*"
   ]
  },
  {
   "cell_type": "code",
   "execution_count": 18,
   "id": "e0de5695",
   "metadata": {},
   "outputs": [
    {
     "name": "stdout",
     "output_type": "stream",
     "text": [
      "Fitting 5 folds for each of 2321 candidates, totalling 11605 fits\n",
      "0.6354316097786957 {'ccp_alpha': 10358.958968117982, 'min_samples_split': 2}\n"
     ]
    }
   ],
   "source": [
    "# Parameterizing\n",
    "X = train.drop(columns = ['house_id', 'house_price'])\n",
    "y = train['house_price']\n",
    "\n",
    "# Model + Alphas\n",
    "model = DecisionTreeRegressor(random_state=1)\n",
    "alphas = model.cost_complexity_pruning_path(X, y)['ccp_alphas']\n",
    "\n",
    "# Cross-Validation\n",
    "cv = KFold(n_splits=5, shuffle=True, random_state=1)\n",
    "tree = GridSearchCV(model, param_grid={'ccp_alpha':alphas, 'min_samples_split': range(1,12)},\n",
    "                    n_jobs=-1, verbose=1, cv=cv)\n",
    "tree.fit(X, y)\n",
    "print(tree.best_score_, tree.best_params_)"
   ]
  },
  {
   "cell_type": "code",
   "execution_count": 19,
   "id": "a8b742d2",
   "metadata": {},
   "outputs": [
    {
     "data": {
      "text/plain": [
       "419.4366068685697"
      ]
     },
     "execution_count": 19,
     "metadata": {},
     "output_type": "execute_result"
    }
   ],
   "source": [
    "X = train.drop(columns = ['house_id', 'house_price'])\n",
    "X_test = test.drop(columns = ['house_id', 'house_price'])\n",
    "model = DecisionTreeRegressor(random_state=1, ccp_alpha=10358.958968117982, min_samples_split=2)\n",
    "model.fit(X,y)\n",
    "np.sqrt(mean_squared_error(test['house_price'], model.predict(X_test)))"
   ]
  },
  {
   "cell_type": "markdown",
   "id": "5c0950be",
   "metadata": {},
   "source": [
    "The RMSE for this model was 419.44. The optimal ccp_alpha found was 10358.958968117982 and the optimal min_sample_split was 2."
   ]
  },
  {
   "cell_type": "markdown",
   "id": "116e7650",
   "metadata": {},
   "source": [
    "# Part 2 {-}\n",
    "The data for this question is related with direct marketing campaigns of a Portuguese banking institution. The marketing campaigns were based on phone calls, where bank clients were called to subscribe for a term deposit. \n",
    "\n",
    "There is one train data - *train.csv*, which you will use to develop a model. There are two test datasets - *test1.csv* and *test2.csv*, which you will use to test your model. Each dataset has the following attributes about the clients called in the marketing campaign:\n",
    "\n",
    "1) *age*: Age of the client\\\n",
    "2) *education*: Education level of the client \\\n",
    "3) *day*: Day of the month the call is made\\\n",
    "4) *month*: Month of the call \\\n",
    "5) *y*: did the client subscribe to a term deposit? \\\n",
    "6) *duration*: Call duration, in seconds. This attribute highly affects the output target (e.g., if duration=0 then y='no'). Yet, the duration is not known before a call is performed. Also, after the end of the call *y* is obviously known. Thus, this input should only be included for inference purposes and should be discarded if the intention is to have a realistic predictive model.\n",
    "\n",
    "(Raw data source: [Source](https://archive.ics.uci.edu/ml/datasets/bank+marketing). Do not use the raw data source for this assingment. It is just for reference.)\n",
    "\n",
    "**Note:** \n",
    "1. For optimizing models in this section you are free to choose any method you like - (i) cost complexity pruning (optimizing `ccp_alpha`) or (ii)  optimizing other decision tree parameters (parameters other than `ccp_alpha`), or (iii) a combination of (i) and (ii). \\\n",
    "2. Different people may get different models based on the parameters they consider for optimization. It is computationally infeasible to consider all possible parameter values."
   ]
  },
  {
   "cell_type": "code",
   "execution_count": 13,
   "id": "8d5afdb3",
   "metadata": {},
   "outputs": [],
   "source": [
    "#Function to compute confusion matrix and prediction accuracy on test/train data\n",
    "def confusion_matrix_data(data,actual_values,model,cutoff=0.5):\n",
    "#Predict the values using the Logit model\n",
    "    pred_values = model.predict_proba(data)[:,1]\n",
    "# Specify the bins\n",
    "    bins=np.array([0,cutoff,1])\n",
    "#Confusion matrix\n",
    "    cm = np.histogram2d(actual_values, pred_values, bins=bins)[0]\n",
    "    cm_df = pd.DataFrame(cm)\n",
    "    cm_df.columns = ['Predicted 0','Predicted 1']\n",
    "    cm_df = cm_df.rename(index={0: 'Actual 0',1:'Actual 1'})\n",
    "# Calculate the accuracy\n",
    "    accuracy = 100*(cm[0,0]+cm[1,1])/cm.sum()\n",
    "    fnr = 100*(cm[1,0])/(cm[1,0]+cm[1,1])\n",
    "    precision = 100*(cm[1,1]/(cm[1,1] + cm[0,1]))\n",
    "    recall = 100*(cm[1,1]/(cm[1,1] + cm[1,0]))\n",
    "    print(\"Accuracy = \", accuracy)\n",
    "    print(\"FNR = \", fnr)\n",
    "    print(\"Precision = \",precision)\n",
    "    print(\"Recall = \",recall)\n",
    "    print(\"Confusion matrix = \\n\", cm_df)\n",
    "    return (\" \")\n",
    "\n",
    "def plot_precision_recall_vs_threshold(precisions, recalls, thresholds):\n",
    "    plt.figure(figsize=(8, 8))\n",
    "    plt.title(\"Precision and Recall Scores as a function of the decision threshold\")\n",
    "    plt.plot(thresholds, precisions[:-1], \"b--\", label=\"Precision\")\n",
    "    plt.plot(thresholds, recalls[:-1], \"g-\", label=\"Recall\")\n",
    "    plt.ylabel(\"Score\")\n",
    "    plt.xlabel(\"Decision Threshold\")\n",
    "    plt.legend(loc='best')\n",
    "    \n",
    "def plot_roc_curve(fpr, tpr, label=None):\n",
    "    plt.figure(figsize=(8,8))\n",
    "    plt.title('ROC Curve')\n",
    "    plt.plot(fpr, tpr, linewidth=2, label=label)\n",
    "    plt.plot([0, 1], [0, 1], 'k--')\n",
    "    plt.axis([-0.005, 1, 0, 1.005])\n",
    "    plt.xticks(np.arange(0,1, 0.05), rotation=90)\n",
    "    plt.xlabel(\"False Positive Rate\")\n",
    "    plt.ylabel(\"True Positive Rate (Recall)\")"
   ]
  },
  {
   "cell_type": "markdown",
   "id": "0078178f",
   "metadata": {},
   "source": [
    "# Q2a {-}\n",
    "Develop a **decision tree model** (using *train.csv*) to predict the probability of a client subscribing to a term deposit based on *age, education, day* and *month*.The model must have both **precision and recall higher than 40%** on *train.csv*, *test1.csv* and *test2.csv*. Print the confusion matrices for all the three datasets - *train.csv*, *test1.csv* and *test2.csv*, along with their precision and recall.\n",
    "\n",
    "**Hints:** \\\n",
    "(i) Make dummy variables for categorical predictors \\\n",
    "(ii) Optimize the depth and number of leaves of the decision tree, \\\n",
    "(ii) Make a precision-recall curve to find the threshold probability satisfying the criteria. \\ \n",
    "\n",
    "*(6 points for code, 1 point for answer)*"
   ]
  },
  {
   "cell_type": "code",
   "execution_count": 10,
   "id": "cc39b903",
   "metadata": {},
   "outputs": [],
   "source": [
    "train = pd.read_csv('train.csv')\n",
    "test1 = pd.read_csv('test1.csv')\n",
    "test2 = pd.read_csv('test2.csv')\n",
    "y = pd.get_dummies(train['y'], drop_first=True)"
   ]
  },
  {
   "cell_type": "code",
   "execution_count": 11,
   "id": "b7a48d06",
   "metadata": {},
   "outputs": [],
   "source": [
    "X_train = pd.get_dummies(train.drop(columns=['duration', 'y']))\n",
    "y_train = pd.get_dummies(train['y'], drop_first=True)['yes']\n",
    "X_test1 = pd.get_dummies(test1.drop(columns=['duration', 'y', 'default']))\n",
    "y_test1 = pd.get_dummies(test1['y'], drop_first=True)['yes']\n",
    "X_test2 = pd.get_dummies(test2.drop(columns=['duration', 'y']))\n",
    "y_test2 = pd.get_dummies(test2['y'], drop_first=True)['yes']"
   ]
  },
  {
   "cell_type": "code",
   "execution_count": 23,
   "id": "1ea8bd26",
   "metadata": {},
   "outputs": [
    {
     "name": "stdout",
     "output_type": "stream",
     "text": [
      "Fitting 5 folds for each of 1363 candidates, totalling 6815 fits\n",
      "0.15911143459790264 {'max_depth': 16, 'max_leaf_nodes': 44}\n"
     ]
    }
   ],
   "source": [
    "skf = StratifiedKFold(n_splits=5)\n",
    "model = GridSearchCV(DecisionTreeClassifier(random_state=1), param_grid={'max_depth': range(1,30), 'max_leaf_nodes': range(3,50)},\n",
    "                    n_jobs=-1, verbose=1, cv=skf, scoring=['precision','recall','accuracy'], refit = 'recall')\n",
    "model.fit(X_train,y_train)\n",
    "print(model.best_score_, model.best_params_)"
   ]
  },
  {
   "cell_type": "code",
   "execution_count": 14,
   "id": "65f6e6c2",
   "metadata": {},
   "outputs": [
    {
     "data": {
      "image/png": "[encoded data removed]",
      "text/plain": [
       "<Figure size 576x576 with 1 Axes>"
      ]
     },
     "metadata": {
      "needs_background": "light"
     },
     "output_type": "display_data"
    }
   ],
   "source": [
    "model = DecisionTreeClassifier(random_state=1, max_depth=16, max_leaf_nodes=44)\n",
    "model.fit(X_train,y_train)\n",
    "\n",
    "ypred = model.predict_proba(X_train)[:, 1]\n",
    "p, r, thresholds = precision_recall_curve(y, ypred)\n",
    "plot_precision_recall_vs_threshold(p, r, thresholds)"
   ]
  },
  {
   "cell_type": "code",
   "execution_count": 25,
   "id": "4368fad7",
   "metadata": {},
   "outputs": [
    {
     "name": "stdout",
     "output_type": "stream",
     "text": [
      "[0.1172739  0.11732243 0.11962589 0.13218001 0.13289768 0.19605029\n",
      " 0.20671221 0.23688379 0.26192816 0.27088402 0.29853805 0.30918085\n",
      " 0.40426019 0.40500804 0.4355428  0.44456551 0.46476762 0.46800731\n",
      " 0.47097175 0.47795071 0.49164593 0.49702602 0.51956815 0.52339046\n",
      " 0.52768416 0.53189352 0.53735326 0.5437788  0.54572271 0.54710145\n",
      " 0.56501182 0.59133489 0.59550562 0.59767141 0.60582822 0.62355658\n",
      " 0.6462585  0.76699029 0.85245902 0.92307692 0.94736842 1.\n",
      " 1.        ]\n"
     ]
    }
   ],
   "source": [
    "print(p)"
   ]
  },
  {
   "cell_type": "code",
   "execution_count": 15,
   "id": "1a6be8bd",
   "metadata": {},
   "outputs": [
    {
     "data": {
      "text/plain": [
       "0.22981366459627328"
      ]
     },
     "execution_count": 15,
     "metadata": {},
     "output_type": "execute_result"
    }
   ],
   "source": [
    "thresholds[14]"
   ]
  },
  {
   "cell_type": "code",
   "execution_count": 16,
   "id": "877335ba",
   "metadata": {},
   "outputs": [
    {
     "name": "stdout",
     "output_type": "stream",
     "text": [
      "Accuracy =  86.86285714285714\n",
      "FNR =  59.33235867446394\n",
      "Precision =  43.554279749478084\n",
      "Recall =  40.66764132553607\n",
      "Confusion matrix = \n",
      "           Predicted 0  Predicted 1\n",
      "Actual 0      28733.0       2163.0\n",
      "Actual 1       2435.0       1669.0\n",
      " \n",
      "Accuracy =  86.82352941176471\n",
      "FNR =  59.12162162162162\n",
      "Precision =  42.90780141843972\n",
      "Recall =  40.87837837837838\n",
      "Confusion matrix = \n",
      "           Predicted 0  Predicted 1\n",
      "Actual 0       4186.0        322.0\n",
      "Actual 1        350.0        242.0\n",
      " \n",
      "Accuracy =  86.44100958716494\n",
      "FNR =  59.02192242833052\n",
      "Precision =  41.467576791808874\n",
      "Recall =  40.97807757166947\n",
      "Confusion matrix = \n",
      "           Predicted 0  Predicted 1\n",
      "Actual 0       4175.0        343.0\n",
      "Actual 1        350.0        243.0\n",
      " \n"
     ]
    }
   ],
   "source": [
    "print(confusion_matrix_data(X_train, y_train, model, cutoff=0.22981366459627328))\n",
    "print(confusion_matrix_data(X_test1, y_test1, model, cutoff=0.22981366459627328))\n",
    "print(confusion_matrix_data(X_test2, y_test2, model, cutoff=0.22981366459627328))"
   ]
  },
  {
   "cell_type": "markdown",
   "id": "8f777da0",
   "metadata": {},
   "source": [
    "# Q2b {-}\n",
    "Update the parameters of the model developed in *Q2a* (if necessary) to maximize the probaility that the model will predict a higher probability of response for a customer who signs up for the term deposit as compared to the customer who does not sign up, i.e., maximize the ROC-AUC. Report the ROC-AUC of the developed model on *train.csv*.\n",
    "\n",
    "*(3 points for code, 1 point for answer)*"
   ]
  },
  {
   "cell_type": "code",
   "execution_count": 28,
   "id": "5c3ee261",
   "metadata": {},
   "outputs": [
    {
     "name": "stdout",
     "output_type": "stream",
     "text": [
      "Fitting 5 folds for each of 1363 candidates, totalling 6815 fits\n",
      "0.7171595437341959 {'max_depth': 16, 'max_leaf_nodes': 49}\n"
     ]
    }
   ],
   "source": [
    "skf = StratifiedKFold(n_splits=5)\n",
    "model = GridSearchCV(DecisionTreeClassifier(random_state=1), param_grid={'max_depth': range(1,30), 'max_leaf_nodes': range(3,50)},\n",
    "                    n_jobs=-1, verbose=1, cv=skf, scoring=['precision','recall','accuracy', 'roc_auc'], refit = \"roc_auc\")\n",
    "model.fit(X_train,y_train)\n",
    "\n",
    "print(model.best_score_, model.best_params_)"
   ]
  },
  {
   "cell_type": "code",
   "execution_count": 18,
   "id": "51516dff",
   "metadata": {},
   "outputs": [
    {
     "name": "stdout",
     "output_type": "stream",
     "text": [
      "0.7301242628542917\n"
     ]
    }
   ],
   "source": [
    "model = DecisionTreeClassifier(random_state=1, max_depth=16, max_leaf_nodes=49)\n",
    "model.fit(X_train,y_train)\n",
    "\n",
    "ypred = model.predict_proba(X_train)[:, 1]\n",
    "fpr, tpr, auc_thresholds = roc_curve(y, ypred)\n",
    "print(auc(fpr, tpr))# AUC of ROC"
   ]
  },
  {
   "cell_type": "markdown",
   "id": "aa37b5b4",
   "metadata": {},
   "source": [
    "# Q2c {-}\n",
    "Suppose that the model developed in *Q2b* will be used to predict the clients who will respond positively to the campaign. Only those clients who are predicted to respond positively will be called during the marketing campaign. Assume that: \\\n",
    "(i) A profit of \\\\$100 is associated with a client who responds positively to the campaign, \\\n",
    "(i) A loss of \\\\$10 is associated with a client who responds negatively to the campaign \n",
    "\n",
    "Find the threshold probability of classification, such that the net profit is maximized. Use *train.csv*\n",
    "\n",
    "*(3 points for code, 1 point for answer)*"
   ]
  },
  {
   "cell_type": "code",
   "execution_count": 19,
   "id": "310b35fc",
   "metadata": {},
   "outputs": [],
   "source": [
    "# Creating formula variables; X_train is train.csv\n",
    "n = X_train.shape[0]\n",
    "p = 100\n",
    "l = 10\n",
    "fpr, tpr, auc_thresholds = roc_curve(y, ypred)\n",
    "r = y_train.loc[y_train == 1].shape[0] / y_train.shape[0]\n",
    "\n",
    "# Finding profit\n",
    "profit = []\n",
    "for i in range(fpr.shape[0]):\n",
    "    profit.append(n*(r*p*tpr[i] - (1-r)*l*fpr[i]))"
   ]
  },
  {
   "cell_type": "code",
   "execution_count": 20,
   "id": "242cd05f",
   "metadata": {},
   "outputs": [
    {
     "data": {
      "text/plain": [
       "0.09096692111959287"
      ]
     },
     "execution_count": 20,
     "metadata": {},
     "output_type": "execute_result"
    }
   ],
   "source": [
    "auc_thresholds[profit.index(max(profit))]"
   ]
  },
  {
   "cell_type": "markdown",
   "id": "3a1d6ccb",
   "metadata": {},
   "source": [
    "# Q2d {-}\n",
    "Plot the ROC curve for the model developed in *Q2b*. Mark the point on the curve corresponding the threshold probability identified in *Q2c*.\n",
    "\n",
    "*(3 points for code)*"
   ]
  },
  {
   "cell_type": "code",
   "execution_count": 32,
   "id": "6749057b",
   "metadata": {},
   "outputs": [
    {
     "data": {
      "text/plain": [
       "[<matplotlib.lines.Line2D at 0x15e7e373670>]"
      ]
     },
     "execution_count": 32,
     "metadata": {},
     "output_type": "execute_result"
    },
    {
     "data": {
      "image/png": "[encoded data removed]",
      "text/plain": [
       "<Figure size 576x576 with 1 Axes>"
      ]
     },
     "metadata": {
      "needs_background": "light"
     },
     "output_type": "display_data"
    }
   ],
   "source": [
    "plot_roc_curve(fpr, tpr)\n",
    "plt.plot(fpr[39], tpr[39], 'o', c='r')"
   ]
  },
  {
   "cell_type": "markdown",
   "id": "5d8b3768",
   "metadata": {},
   "source": [
    "# Q2e {-}\n",
    "Among the months, which month is the most important in determining if a client will respond positively to the campaign, based on the model developed on *Q2b*.\n",
    "\n",
    "*(2 points for code, 1 point for answer)*"
   ]
  },
  {
   "cell_type": "code",
   "execution_count": 33,
   "id": "ea97c3af",
   "metadata": {
    "scrolled": true
   },
   "outputs": [
    {
     "data": {
      "text/html": [
       "<div>\n",
       "<style scoped>\n",
       "    .dataframe tbody tr th:only-of-type {\n",
       "        vertical-align: middle;\n",
       "    }\n",
       "\n",
       "    .dataframe tbody tr th {\n",
       "        vertical-align: top;\n",
       "    }\n",
       "\n",
       "    .dataframe thead th {\n",
       "        text-align: right;\n",
       "    }\n",
       "</style>\n",
       "<table border=\"1\" class=\"dataframe\">\n",
       "  <thead>\n",
       "    <tr style=\"text-align: right;\">\n",
       "      <th></th>\n",
       "      <th>variables</th>\n",
       "      <th>importance</th>\n",
       "    </tr>\n",
       "  </thead>\n",
       "  <tbody>\n",
       "    <tr>\n",
       "      <th>0</th>\n",
       "      <td>age</td>\n",
       "      <td>0.227924</td>\n",
       "    </tr>\n",
       "    <tr>\n",
       "      <th>1</th>\n",
       "      <td>day</td>\n",
       "      <td>0.190209</td>\n",
       "    </tr>\n",
       "    <tr>\n",
       "      <th>13</th>\n",
       "      <td>month_mar</td>\n",
       "      <td>0.098109</td>\n",
       "    </tr>\n",
       "    <tr>\n",
       "      <th>16</th>\n",
       "      <td>month_oct</td>\n",
       "      <td>0.098100</td>\n",
       "    </tr>\n",
       "    <tr>\n",
       "      <th>17</th>\n",
       "      <td>month_sep</td>\n",
       "      <td>0.091966</td>\n",
       "    </tr>\n",
       "  </tbody>\n",
       "</table>\n",
       "</div>"
      ],
      "text/plain": [
       "    variables  importance\n",
       "0         age    0.227924\n",
       "1         day    0.190209\n",
       "13  month_mar    0.098109\n",
       "16  month_oct    0.098100\n",
       "17  month_sep    0.091966"
      ]
     },
     "execution_count": 33,
     "metadata": {},
     "output_type": "execute_result"
    }
   ],
   "source": [
    "pd.DataFrame({'variables': X_train.columns, 'importance': model.feature_importances_}).sort_values(by='importance', ascending=False).head()"
   ]
  },
  {
   "cell_type": "markdown",
   "id": "c1cff203",
   "metadata": {},
   "source": [
    "March is the most important month in determining if a client will respond positively."
   ]
  }
 ],
 "metadata": {
  "kernelspec": {
   "display_name": "Python 3",
   "language": "python",
   "name": "python3"
  },
  "language_info": {
   "codemirror_mode": {
    "name": "ipython",
    "version": 3
   },
   "file_extension": ".py",
   "mimetype": "text/x-python",
   "name": "python",
   "nbconvert_exporter": "python",
   "pygments_lexer": "ipython3",
   "version": "3.8.8"
  }
 },
 "nbformat": 4,
 "nbformat_minor": 5
}
