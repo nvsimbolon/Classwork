{
 "cells": [
  {
   "cell_type": "markdown",
   "id": "f4e6d7aa",
   "metadata": {},
   "source": [
    "# Assignment 6"
   ]
  },
  {
   "cell_type": "code",
   "execution_count": 1,
   "id": "d760449f",
   "metadata": {},
   "outputs": [],
   "source": [
    "#Importing Datasets\n",
    "import pandas as pd\n",
    "import numpy as np\n",
    "import seaborn as sns\n",
    "import matplotlib.pyplot as plt"
   ]
  },
  {
   "cell_type": "markdown",
   "id": "93d691ac",
   "metadata": {},
   "source": [
    "## Part 1"
   ]
  },
  {
   "cell_type": "markdown",
   "id": "76ef6e03",
   "metadata": {},
   "source": [
    "Read the spotify dataset from the file *spotify_data.csv*. \n",
    "\n",
    "What percentage of all the unique tracks are contributed by the top 3 artists of each genre, where the top artists are based on *artist_popularity*, and the unique tracks are based on unique values of *track_name*? *(8 points for code)*\n",
    "\n",
    "A typical approach that will **not** work: If you group the data by genre, and filter the top 3 rows by *artist_popularity*, then you may not get 3 unique artists, as one artist can have multiple tracks.\n",
    "\n",
    "Here is one way to answer this question:\n",
    "\n",
    "(1) Group the data by genre, artist name and artist popularity. Find the number of unique tracks (by *track_name*) for each group. \\\n",
    "(2) The dataset obtained in (1) is at artist-genre level, i.e., each row corresponds to a unique artist-genre combination. Group that dataset by genre, and filter the top 3 rows of each group based on artist popularity. \\\n",
    "(3) Sum up the number of unique tracks of the dataset obtained in (2) and divide it by the total number of unique tracks in the original dataset.\n",
    "\n",
    "**Note:** \n",
    "(1) The functions *len()* and *unique()* will be useful. \\\n",
    "(2) If you can propose a solution that is shorter than the one proposed above, on Monday - 15th Nov, in class, you will get 10% bonus points for this assignment."
   ]
  },
  {
   "cell_type": "code",
   "execution_count": 2,
   "id": "f08e929b",
   "metadata": {},
   "outputs": [],
   "source": [
    "spotify = pd.read_csv(\"spotify_data.csv\")"
   ]
  },
  {
   "cell_type": "code",
   "execution_count": 3,
   "id": "b0564bdf",
   "metadata": {},
   "outputs": [
    {
     "data": {
      "text/html": [
       "<div>\n",
       "<style scoped>\n",
       "    .dataframe tbody tr th:only-of-type {\n",
       "        vertical-align: middle;\n",
       "    }\n",
       "\n",
       "    .dataframe tbody tr th {\n",
       "        vertical-align: top;\n",
       "    }\n",
       "\n",
       "    .dataframe thead th {\n",
       "        text-align: right;\n",
       "    }\n",
       "</style>\n",
       "<table border=\"1\" class=\"dataframe\">\n",
       "  <thead>\n",
       "    <tr style=\"text-align: right;\">\n",
       "      <th></th>\n",
       "      <th>genres</th>\n",
       "      <th>artist_name</th>\n",
       "      <th>artist_popularity</th>\n",
       "      <th>0</th>\n",
       "    </tr>\n",
       "  </thead>\n",
       "  <tbody>\n",
       "    <tr>\n",
       "      <th>0</th>\n",
       "      <td>country</td>\n",
       "      <td>Alan Jackson</td>\n",
       "      <td>76</td>\n",
       "      <td>61</td>\n",
       "    </tr>\n",
       "    <tr>\n",
       "      <th>1</th>\n",
       "      <td>country</td>\n",
       "      <td>Blake Shelton</td>\n",
       "      <td>77</td>\n",
       "      <td>16</td>\n",
       "    </tr>\n",
       "    <tr>\n",
       "      <th>2</th>\n",
       "      <td>country</td>\n",
       "      <td>Brad Paisley</td>\n",
       "      <td>71</td>\n",
       "      <td>16</td>\n",
       "    </tr>\n",
       "    <tr>\n",
       "      <th>3</th>\n",
       "      <td>country</td>\n",
       "      <td>Brett Young</td>\n",
       "      <td>73</td>\n",
       "      <td>5</td>\n",
       "    </tr>\n",
       "    <tr>\n",
       "      <th>4</th>\n",
       "      <td>country</td>\n",
       "      <td>Casey Donahew</td>\n",
       "      <td>60</td>\n",
       "      <td>3</td>\n",
       "    </tr>\n",
       "    <tr>\n",
       "      <th>...</th>\n",
       "      <td>...</td>\n",
       "      <td>...</td>\n",
       "      <td>...</td>\n",
       "      <td>...</td>\n",
       "    </tr>\n",
       "    <tr>\n",
       "      <th>11949</th>\n",
       "      <td>rock</td>\n",
       "      <td>Óscar Chávez</td>\n",
       "      <td>51</td>\n",
       "      <td>33</td>\n",
       "    </tr>\n",
       "    <tr>\n",
       "      <th>11950</th>\n",
       "      <td>rock</td>\n",
       "      <td>İkiye On Kala</td>\n",
       "      <td>61</td>\n",
       "      <td>8</td>\n",
       "    </tr>\n",
       "    <tr>\n",
       "      <th>11951</th>\n",
       "      <td>rock</td>\n",
       "      <td>ДДТ</td>\n",
       "      <td>52</td>\n",
       "      <td>52</td>\n",
       "    </tr>\n",
       "    <tr>\n",
       "      <th>11952</th>\n",
       "      <td>rock</td>\n",
       "      <td>Дайте танк (!)</td>\n",
       "      <td>58</td>\n",
       "      <td>22</td>\n",
       "    </tr>\n",
       "    <tr>\n",
       "      <th>11953</th>\n",
       "      <td>rock</td>\n",
       "      <td>オレンジスパイニクラブ</td>\n",
       "      <td>57</td>\n",
       "      <td>1</td>\n",
       "    </tr>\n",
       "  </tbody>\n",
       "</table>\n",
       "<p>11954 rows × 4 columns</p>\n",
       "</div>"
      ],
      "text/plain": [
       "        genres     artist_name  artist_popularity   0\n",
       "0      country    Alan Jackson                 76  61\n",
       "1      country   Blake Shelton                 77  16\n",
       "2      country    Brad Paisley                 71  16\n",
       "3      country     Brett Young                 73   5\n",
       "4      country   Casey Donahew                 60   3\n",
       "...        ...             ...                ...  ..\n",
       "11949     rock    Óscar Chávez                 51  33\n",
       "11950     rock   İkiye On Kala                 61   8\n",
       "11951     rock             ДДТ                 52  52\n",
       "11952     rock  Дайте танк (!)                 58  22\n",
       "11953     rock     オレンジスパイニクラブ                 57   1\n",
       "\n",
       "[11954 rows x 4 columns]"
      ]
     },
     "execution_count": 3,
     "metadata": {},
     "output_type": "execute_result"
    }
   ],
   "source": [
    "grouped = spotify.groupby(['genres', 'artist_name', 'artist_popularity']).apply(lambda x:len(x['track_name'].unique())).reset_index()\n",
    "grouped"
   ]
  },
  {
   "cell_type": "code",
   "execution_count": 4,
   "id": "698d7f1d",
   "metadata": {},
   "outputs": [],
   "source": [
    "data_top3 = grouped.groupby('genres').apply(lambda x : x.sort_values(by='artist_popularity', ascending = False)[0:3])"
   ]
  },
  {
   "cell_type": "code",
   "execution_count": 5,
   "id": "8901d9c4",
   "metadata": {},
   "outputs": [
    {
     "data": {
      "text/html": [
       "<div>\n",
       "<style scoped>\n",
       "    .dataframe tbody tr th:only-of-type {\n",
       "        vertical-align: middle;\n",
       "    }\n",
       "\n",
       "    .dataframe tbody tr th {\n",
       "        vertical-align: top;\n",
       "    }\n",
       "\n",
       "    .dataframe thead th {\n",
       "        text-align: right;\n",
       "    }\n",
       "</style>\n",
       "<table border=\"1\" class=\"dataframe\">\n",
       "  <thead>\n",
       "    <tr style=\"text-align: right;\">\n",
       "      <th></th>\n",
       "      <th></th>\n",
       "      <th>genres</th>\n",
       "      <th>artist_name</th>\n",
       "      <th>artist_popularity</th>\n",
       "      <th>0</th>\n",
       "    </tr>\n",
       "    <tr>\n",
       "      <th>genres</th>\n",
       "      <th></th>\n",
       "      <th></th>\n",
       "      <th></th>\n",
       "      <th></th>\n",
       "      <th></th>\n",
       "    </tr>\n",
       "  </thead>\n",
       "  <tbody>\n",
       "    <tr>\n",
       "      <th rowspan=\"3\" valign=\"top\">country</th>\n",
       "      <th>35</th>\n",
       "      <td>country</td>\n",
       "      <td>Morgan Wallen</td>\n",
       "      <td>88</td>\n",
       "      <td>35</td>\n",
       "    </tr>\n",
       "    <tr>\n",
       "      <th>30</th>\n",
       "      <td>country</td>\n",
       "      <td>Luke Combs</td>\n",
       "      <td>85</td>\n",
       "      <td>21</td>\n",
       "    </tr>\n",
       "    <tr>\n",
       "      <th>6</th>\n",
       "      <td>country</td>\n",
       "      <td>Chris Stapleton</td>\n",
       "      <td>81</td>\n",
       "      <td>12</td>\n",
       "    </tr>\n",
       "    <tr>\n",
       "      <th rowspan=\"2\" valign=\"top\">electronic</th>\n",
       "      <th>78</th>\n",
       "      <td>electronic</td>\n",
       "      <td>Daft Punk</td>\n",
       "      <td>86</td>\n",
       "      <td>71</td>\n",
       "    </tr>\n",
       "    <tr>\n",
       "      <th>58</th>\n",
       "      <td>electronic</td>\n",
       "      <td>Alan Walker</td>\n",
       "      <td>85</td>\n",
       "      <td>7</td>\n",
       "    </tr>\n",
       "  </tbody>\n",
       "</table>\n",
       "</div>"
      ],
      "text/plain": [
       "                   genres      artist_name  artist_popularity   0\n",
       "genres                                                           \n",
       "country    35     country    Morgan Wallen                 88  35\n",
       "           30     country       Luke Combs                 85  21\n",
       "           6      country  Chris Stapleton                 81  12\n",
       "electronic 78  electronic        Daft Punk                 86  71\n",
       "           58  electronic      Alan Walker                 85   7"
      ]
     },
     "execution_count": 5,
     "metadata": {},
     "output_type": "execute_result"
    }
   ],
   "source": [
    "data_top3.head()"
   ]
  },
  {
   "cell_type": "code",
   "execution_count": 6,
   "id": "1585bcb2",
   "metadata": {},
   "outputs": [
    {
     "data": {
      "text/plain": [
       "0.047140401953927644"
      ]
     },
     "execution_count": 6,
     "metadata": {},
     "output_type": "execute_result"
    }
   ],
   "source": [
    "data_top3[0].sum()/len(spotify['track_name'].unique())"
   ]
  },
  {
   "cell_type": "markdown",
   "id": "4393cced-a26a-47a9-a23d-cba029eeaf27",
   "metadata": {},
   "source": [
    "## Part 2\n",
    "\n",
    "Read data from the file \"Canadian_Fish_Biodiversity.csv\" on Canvas. Each row records a unique fishing event from a 2013 sample of fish populations in Ontario, Canada. *(42 points overall)*"
   ]
  },
  {
   "cell_type": "code",
   "execution_count": 7,
   "id": "3df555ec",
   "metadata": {},
   "outputs": [],
   "source": [
    "fish = pd.read_csv(\"Canadian_Fish_Biodiversity.csv\")"
   ]
  },
  {
   "cell_type": "code",
   "execution_count": 8,
   "id": "8e38bfd5",
   "metadata": {},
   "outputs": [
    {
     "data": {
      "text/html": [
       "<div>\n",
       "<style scoped>\n",
       "    .dataframe tbody tr th:only-of-type {\n",
       "        vertical-align: middle;\n",
       "    }\n",
       "\n",
       "    .dataframe tbody tr th {\n",
       "        vertical-align: top;\n",
       "    }\n",
       "\n",
       "    .dataframe thead th {\n",
       "        text-align: right;\n",
       "    }\n",
       "</style>\n",
       "<table border=\"1\" class=\"dataframe\">\n",
       "  <thead>\n",
       "    <tr style=\"text-align: right;\">\n",
       "      <th></th>\n",
       "      <th>SITEID</th>\n",
       "      <th>Species</th>\n",
       "      <th>Number Captured</th>\n",
       "      <th>Minimum (mm)</th>\n",
       "      <th>Maximum (mm)</th>\n",
       "      <th>Project Name</th>\n",
       "      <th>Day</th>\n",
       "      <th>Month</th>\n",
       "      <th>Year</th>\n",
       "      <th>Waterbody Name</th>\n",
       "      <th>WaterbodyType</th>\n",
       "      <th>Start Latitude</th>\n",
       "      <th>Start Longitude</th>\n",
       "      <th>Air Temperature (C)</th>\n",
       "      <th>Water Temperature (C)</th>\n",
       "      <th>Turbidity (ntu)</th>\n",
       "    </tr>\n",
       "  </thead>\n",
       "  <tbody>\n",
       "    <tr>\n",
       "      <th>0</th>\n",
       "      <td>5599</td>\n",
       "      <td>Notropis hudsonius</td>\n",
       "      <td>3.0</td>\n",
       "      <td>79.0</td>\n",
       "      <td>81.0</td>\n",
       "      <td>2013 Northern Madtom Survey of Lake St. Clair</td>\n",
       "      <td>22</td>\n",
       "      <td>4</td>\n",
       "      <td>2013</td>\n",
       "      <td>Lake St. Clair</td>\n",
       "      <td>Lake</td>\n",
       "      <td>42.46966</td>\n",
       "      <td>-82.43121</td>\n",
       "      <td>12.9</td>\n",
       "      <td>10.91</td>\n",
       "      <td>77.3</td>\n",
       "    </tr>\n",
       "    <tr>\n",
       "      <th>1</th>\n",
       "      <td>5599</td>\n",
       "      <td>Proterorhinus semilunaris</td>\n",
       "      <td>1.0</td>\n",
       "      <td>65.0</td>\n",
       "      <td>65.0</td>\n",
       "      <td>2013 Northern Madtom Survey of Lake St. Clair</td>\n",
       "      <td>22</td>\n",
       "      <td>4</td>\n",
       "      <td>2013</td>\n",
       "      <td>Lake St. Clair</td>\n",
       "      <td>Lake</td>\n",
       "      <td>42.46966</td>\n",
       "      <td>-82.43121</td>\n",
       "      <td>12.9</td>\n",
       "      <td>10.91</td>\n",
       "      <td>77.3</td>\n",
       "    </tr>\n",
       "    <tr>\n",
       "      <th>2</th>\n",
       "      <td>5599</td>\n",
       "      <td>Notropis hudsonius</td>\n",
       "      <td>1.0</td>\n",
       "      <td>75.0</td>\n",
       "      <td>85.0</td>\n",
       "      <td>2013 Northern Madtom Survey of Lake St. Clair</td>\n",
       "      <td>22</td>\n",
       "      <td>4</td>\n",
       "      <td>2013</td>\n",
       "      <td>Lake St. Clair</td>\n",
       "      <td>Lake</td>\n",
       "      <td>42.46966</td>\n",
       "      <td>-82.43121</td>\n",
       "      <td>12.9</td>\n",
       "      <td>10.91</td>\n",
       "      <td>77.3</td>\n",
       "    </tr>\n",
       "    <tr>\n",
       "      <th>3</th>\n",
       "      <td>5599</td>\n",
       "      <td>Percopsis omiscomaycus</td>\n",
       "      <td>3.0</td>\n",
       "      <td>94.0</td>\n",
       "      <td>105.0</td>\n",
       "      <td>2013 Northern Madtom Survey of Lake St. Clair</td>\n",
       "      <td>22</td>\n",
       "      <td>4</td>\n",
       "      <td>2013</td>\n",
       "      <td>Lake St. Clair</td>\n",
       "      <td>Lake</td>\n",
       "      <td>42.46966</td>\n",
       "      <td>-82.43121</td>\n",
       "      <td>12.9</td>\n",
       "      <td>10.91</td>\n",
       "      <td>77.3</td>\n",
       "    </tr>\n",
       "    <tr>\n",
       "      <th>4</th>\n",
       "      <td>5599</td>\n",
       "      <td>Notropis hudsonius</td>\n",
       "      <td>2.0</td>\n",
       "      <td>71.0</td>\n",
       "      <td>102.0</td>\n",
       "      <td>2013 Northern Madtom Survey of Lake St. Clair</td>\n",
       "      <td>22</td>\n",
       "      <td>4</td>\n",
       "      <td>2013</td>\n",
       "      <td>Lake St. Clair</td>\n",
       "      <td>Lake</td>\n",
       "      <td>42.46966</td>\n",
       "      <td>-82.43121</td>\n",
       "      <td>12.9</td>\n",
       "      <td>10.91</td>\n",
       "      <td>77.3</td>\n",
       "    </tr>\n",
       "  </tbody>\n",
       "</table>\n",
       "</div>"
      ],
      "text/plain": [
       "   SITEID                    Species  Number Captured  Minimum (mm)  \\\n",
       "0    5599         Notropis hudsonius              3.0          79.0   \n",
       "1    5599  Proterorhinus semilunaris              1.0          65.0   \n",
       "2    5599         Notropis hudsonius              1.0          75.0   \n",
       "3    5599     Percopsis omiscomaycus              3.0          94.0   \n",
       "4    5599         Notropis hudsonius              2.0          71.0   \n",
       "\n",
       "   Maximum (mm)                                   Project Name  Day  Month  \\\n",
       "0          81.0  2013 Northern Madtom Survey of Lake St. Clair   22      4   \n",
       "1          65.0  2013 Northern Madtom Survey of Lake St. Clair   22      4   \n",
       "2          85.0  2013 Northern Madtom Survey of Lake St. Clair   22      4   \n",
       "3         105.0  2013 Northern Madtom Survey of Lake St. Clair   22      4   \n",
       "4         102.0  2013 Northern Madtom Survey of Lake St. Clair   22      4   \n",
       "\n",
       "   Year  Waterbody Name WaterbodyType  Start Latitude  Start Longitude  \\\n",
       "0  2013  Lake St. Clair          Lake        42.46966        -82.43121   \n",
       "1  2013  Lake St. Clair          Lake        42.46966        -82.43121   \n",
       "2  2013  Lake St. Clair          Lake        42.46966        -82.43121   \n",
       "3  2013  Lake St. Clair          Lake        42.46966        -82.43121   \n",
       "4  2013  Lake St. Clair          Lake        42.46966        -82.43121   \n",
       "\n",
       "   Air Temperature (C)  Water Temperature (C)  Turbidity (ntu)  \n",
       "0                 12.9                  10.91             77.3  \n",
       "1                 12.9                  10.91             77.3  \n",
       "2                 12.9                  10.91             77.3  \n",
       "3                 12.9                  10.91             77.3  \n",
       "4                 12.9                  10.91             77.3  "
      ]
     },
     "execution_count": 8,
     "metadata": {},
     "output_type": "execute_result"
    }
   ],
   "source": [
    "fish.head()"
   ]
  },
  {
   "cell_type": "markdown",
   "id": "cebbd1b8-949c-4649-8b45-ea7b8fec3479",
   "metadata": {},
   "source": [
    "### Question 1\n",
    "\n",
    "To analyze the results of these fishing surveys, we need to understand the dynamics of projects, sites, and geographic locations. In large part the following questions deal with missing data. *(16 points total)*"
   ]
  },
  {
   "cell_type": "markdown",
   "id": "2270390b-eb12-458d-a5fd-68a0b13be9bc",
   "metadata": {},
   "source": [
    "a) Each site (identified by the column *SITEID*) represents a time and place at which fishing events occurred. Sites are grouped into broader projects (identified by the column *Project Name*). We want to understand the scope of these projects.\n",
    "\n",
    "Using *.groupby*, find the top three projects by number of unique sites. *(2 points for code)*\n",
    "\n",
    "**Hint**: The Pandas function *nunique()* may help"
   ]
  },
  {
   "cell_type": "code",
   "execution_count": 9,
   "id": "eda82992",
   "metadata": {},
   "outputs": [
    {
     "data": {
      "text/plain": [
       "Project Name\n",
       "2013 GLAP Survey of Detroit River           220\n",
       "2013 Crown Marsh Survey                     146\n",
       "2013 Spotted Gar Critical Habitat Survey    131\n",
       "Name: SITEID, dtype: int64"
      ]
     },
     "execution_count": 9,
     "metadata": {},
     "output_type": "execute_result"
    }
   ],
   "source": [
    "projects = fish.groupby('Project Name')\n",
    "numsites = projects.SITEID.nunique()\n",
    "numsites.sort_values(ascending = False)[0:3]"
   ]
  },
  {
   "cell_type": "markdown",
   "id": "31ac0beb-e78e-42e3-a912-180c79666801",
   "metadata": {},
   "source": [
    "b) Find the top three and bottom three projects in terms of the proportion of unique sites of the total number of unique sites. *(3 points for code)*"
   ]
  },
  {
   "cell_type": "code",
   "execution_count": 10,
   "id": "55d32e82",
   "metadata": {},
   "outputs": [
    {
     "data": {
      "text/plain": [
       "Project Name\n",
       "2013 Species at Risk Assessment                 4\n",
       "2013 Pugnose Shiner Critical Habitat Survey    10\n",
       "2013 Grass Pickerel Twenty Mile Creek          10\n",
       "Name: SITEID, dtype: int64"
      ]
     },
     "execution_count": 10,
     "metadata": {},
     "output_type": "execute_result"
    }
   ],
   "source": [
    "projects = fish.groupby('Project Name')\n",
    "numsites = projects.SITEID.nunique()\n",
    "numsites.sort_values(ascending = True)[0:3]"
   ]
  },
  {
   "cell_type": "markdown",
   "id": "553611e8-04b7-4247-bd97-f7f0401d572f",
   "metadata": {},
   "source": [
    "c) (i) How many values are missing for the air temperature column? *(1 point for code)*\n",
    "\n",
    "(ii) Impute the missing values of air temperature with the median air temperature of the corresponding water body (*Waterbody Name*) and month. *(2 points for code)*\n",
    "\n",
    "(iii) How many missing values still remain for the air temperature column after the imputation in (ii)? *(1 point for answer)*\n",
    "\n",
    "(iv) We will try to impute the remaining missing values for air temperature. Try impute the remaining missing values of air temperature with the median air temperature of the corresponding project (*Project Name*) and month. *(2 points for code)*\n",
    "\n",
    "(v) How many missing values still remain for the air temperature column after the imputation in (iv)? *(1 point for answer)*\n",
    "\n",
    "(vi) Find the correlation between air temperature and water temperature. *(1 point for code)*\n",
    "\n",
    "(vii) As you found a high correlation between air temperature and water temperature in (vi), you can use water temperature to estimate the air temperature (using the trendline, like you did in assignment 4). Assuming you already did that, how many missing values will still remain for the air temperature column? *Note: Do not impute the missing values using the trendline, just assume you already did that.* *(1 point for code)*\n",
    "\n",
    "(viii) Make a scatterplot of air temperature against water temperature. Higlight the points for which the air temperature was imputed in (ii) and (iv) with a different color. *(2 points for code and visualization)*"
   ]
  },
  {
   "cell_type": "code",
   "execution_count": 11,
   "id": "9a8c8317",
   "metadata": {},
   "outputs": [
    {
     "data": {
      "text/plain": [
       "808"
      ]
     },
     "execution_count": 11,
     "metadata": {},
     "output_type": "execute_result"
    }
   ],
   "source": [
    "fish['Air Temperature (C)'].isna().sum()"
   ]
  },
  {
   "cell_type": "code",
   "execution_count": 12,
   "id": "a25d2284",
   "metadata": {},
   "outputs": [
    {
     "data": {
      "text/plain": [
       "113"
      ]
     },
     "execution_count": 12,
     "metadata": {},
     "output_type": "execute_result"
    }
   ],
   "source": [
    "groups = fish.groupby([\"Waterbody Name\", \"Month\"])\n",
    "fish['Air Temperature (C)'] = groups['Air Temperature (C)'].apply(lambda x:x.fillna(x.median()))\n",
    "\n",
    "fish['Air Temperature (C)'].isna().sum()"
   ]
  },
  {
   "cell_type": "code",
   "execution_count": 13,
   "id": "0ce49b00",
   "metadata": {},
   "outputs": [],
   "source": [
    "groups = fish.groupby([\"Project Name\", \"Month\"])\n",
    "fish['Air Temperature (C)'] = groups['Air Temperature (C)'].apply(lambda x:x.fillna(x.median()))"
   ]
  },
  {
   "cell_type": "code",
   "execution_count": 14,
   "id": "0faf6155",
   "metadata": {},
   "outputs": [
    {
     "data": {
      "text/plain": [
       "62"
      ]
     },
     "execution_count": 14,
     "metadata": {},
     "output_type": "execute_result"
    }
   ],
   "source": [
    "fish['Air Temperature (C)'].isna().sum()"
   ]
  },
  {
   "cell_type": "code",
   "execution_count": 15,
   "id": "db9f7df6",
   "metadata": {},
   "outputs": [
    {
     "data": {
      "text/plain": [
       "0.7681845726335197"
      ]
     },
     "execution_count": 15,
     "metadata": {},
     "output_type": "execute_result"
    }
   ],
   "source": [
    "fish['Air Temperature (C)'].corr(fish['Water Temperature (C)'])"
   ]
  },
  {
   "cell_type": "code",
   "execution_count": 16,
   "id": "6fe68d17",
   "metadata": {},
   "outputs": [
    {
     "data": {
      "text/plain": [
       "11"
      ]
     },
     "execution_count": 16,
     "metadata": {},
     "output_type": "execute_result"
    }
   ],
   "source": [
    "missing_airtemp = fish.index[fish['Air Temperature (C)'].isnull()]\n",
    "missing_watertemp = fish.index[fish['Water Temperature (C)'].isnull()]\n",
    "missing_airtemp.isin(missing_watertemp).sum()"
   ]
  },
  {
   "cell_type": "code",
   "execution_count": 19,
   "id": "cb0bfd86",
   "metadata": {},
   "outputs": [
    {
     "data": {
      "text/plain": [
       "<AxesSubplot:xlabel='Water Temperature (C)', ylabel='Air Temperature (C)'>"
      ]
     },
     "execution_count": 19,
     "metadata": {},
     "output_type": "execute_result"
    },
    {
     "data": {
      "image/png": "[encoded data removed]",
      "text/plain": [
       "<Figure size 432x288 with 1 Axes>"
      ]
     },
     "metadata": {
      "needs_background": "light"
     },
     "output_type": "display_data"
    }
   ],
   "source": [
    "data = pd.read_csv('Canadian_Fish_Biodiversity.csv')\n",
    "imp_ind = fish.index[~(fish['Air Temperature (C)'].isnull() == data['Air Temperature (C)'].isnull())]\n",
    "imp_ind.shape[0]\n",
    "sns.scatterplot(data = fish.loc[~(fish.index.isin(imp_ind))], x = 'Water Temperature (C)', y = 'Air Temperature (C)', color = 'skyblue')\n",
    "sns.scatterplot(data = fish.loc[(fish.index.isin(imp_ind))], x = 'Water Temperature (C)', y = 'Air Temperature (C)', color = 'red')"
   ]
  },
  {
   "cell_type": "markdown",
   "id": "a5f6b09a-1a1f-4ac9-a405-a3834e0c9d54",
   "metadata": {},
   "source": [
    "### Question 2\n",
    "\n",
    "This section begins to investigate the living conditions of fish at different locations and time periods. *(7 points total)*"
   ]
  },
  {
   "cell_type": "markdown",
   "id": "b9a8a8d2-e9ea-4df4-a92f-ed53da3d126d",
   "metadata": {},
   "source": [
    "a) Use a single *.groupby* statement to view the minimum, mean, standard deviation, and maximum air temperature and water temperature for each project during the month of August (use the *Month* column). *(2 points for code)*"
   ]
  },
  {
   "cell_type": "code",
   "execution_count": 22,
   "id": "f0b43f53",
   "metadata": {},
   "outputs": [],
   "source": [
    "grouped = data[data['Month'] == 8].groupby('Project Name')\n",
    "datag = grouped[['Air Temperature (C)', \"Water Temperature (C)\"]].agg(['std', 'mean', 'min', 'max'])"
   ]
  },
  {
   "cell_type": "code",
   "execution_count": 23,
   "id": "ee50fff7",
   "metadata": {},
   "outputs": [
    {
     "data": {
      "text/html": [
       "<div>\n",
       "<style scoped>\n",
       "    .dataframe tbody tr th:only-of-type {\n",
       "        vertical-align: middle;\n",
       "    }\n",
       "\n",
       "    .dataframe tbody tr th {\n",
       "        vertical-align: top;\n",
       "    }\n",
       "\n",
       "    .dataframe thead tr th {\n",
       "        text-align: left;\n",
       "    }\n",
       "\n",
       "    .dataframe thead tr:last-of-type th {\n",
       "        text-align: right;\n",
       "    }\n",
       "</style>\n",
       "<table border=\"1\" class=\"dataframe\">\n",
       "  <thead>\n",
       "    <tr>\n",
       "      <th></th>\n",
       "      <th colspan=\"4\" halign=\"left\">Air Temperature (C)</th>\n",
       "      <th colspan=\"4\" halign=\"left\">Water Temperature (C)</th>\n",
       "    </tr>\n",
       "    <tr>\n",
       "      <th></th>\n",
       "      <th>std</th>\n",
       "      <th>mean</th>\n",
       "      <th>min</th>\n",
       "      <th>max</th>\n",
       "      <th>std</th>\n",
       "      <th>mean</th>\n",
       "      <th>min</th>\n",
       "      <th>max</th>\n",
       "    </tr>\n",
       "    <tr>\n",
       "      <th>Project Name</th>\n",
       "      <th></th>\n",
       "      <th></th>\n",
       "      <th></th>\n",
       "      <th></th>\n",
       "      <th></th>\n",
       "      <th></th>\n",
       "      <th></th>\n",
       "      <th></th>\n",
       "    </tr>\n",
       "  </thead>\n",
       "  <tbody>\n",
       "    <tr>\n",
       "      <th>2013 Bridle Shiner Critical Habitat Survey</th>\n",
       "      <td>2.588098</td>\n",
       "      <td>24.609091</td>\n",
       "      <td>20.7</td>\n",
       "      <td>26.5</td>\n",
       "      <td>0.503887</td>\n",
       "      <td>22.052182</td>\n",
       "      <td>20.630</td>\n",
       "      <td>22.44</td>\n",
       "    </tr>\n",
       "    <tr>\n",
       "      <th>2013 Crown Marsh Survey</th>\n",
       "      <td>2.057387</td>\n",
       "      <td>21.667872</td>\n",
       "      <td>16.4</td>\n",
       "      <td>26.2</td>\n",
       "      <td>1.240151</td>\n",
       "      <td>22.007084</td>\n",
       "      <td>17.430</td>\n",
       "      <td>23.24</td>\n",
       "    </tr>\n",
       "    <tr>\n",
       "      <th>2013 GLAP Survey of Detroit River</th>\n",
       "      <td>2.652812</td>\n",
       "      <td>24.406220</td>\n",
       "      <td>21.1</td>\n",
       "      <td>28.3</td>\n",
       "      <td>0.392402</td>\n",
       "      <td>22.028226</td>\n",
       "      <td>21.646</td>\n",
       "      <td>23.11</td>\n",
       "    </tr>\n",
       "    <tr>\n",
       "      <th>2013 Grass Pickerel Niagara Drains</th>\n",
       "      <td>2.498615</td>\n",
       "      <td>25.246154</td>\n",
       "      <td>20.8</td>\n",
       "      <td>28.2</td>\n",
       "      <td>2.426792</td>\n",
       "      <td>20.105641</td>\n",
       "      <td>17.150</td>\n",
       "      <td>23.96</td>\n",
       "    </tr>\n",
       "    <tr>\n",
       "      <th>2013 Grass Pickerel Twenty Mile Creek</th>\n",
       "      <td>2.395997</td>\n",
       "      <td>25.340107</td>\n",
       "      <td>22.5</td>\n",
       "      <td>29.4</td>\n",
       "      <td>2.533686</td>\n",
       "      <td>22.380238</td>\n",
       "      <td>18.990</td>\n",
       "      <td>26.87</td>\n",
       "    </tr>\n",
       "    <tr>\n",
       "      <th>2013 Lake Chubsucker Critical Habitat Survey</th>\n",
       "      <td>3.968119</td>\n",
       "      <td>20.814612</td>\n",
       "      <td>14.3</td>\n",
       "      <td>32.6</td>\n",
       "      <td>1.619878</td>\n",
       "      <td>21.671746</td>\n",
       "      <td>19.300</td>\n",
       "      <td>25.13</td>\n",
       "    </tr>\n",
       "    <tr>\n",
       "      <th>2013 Mussel Fish Community Assessment</th>\n",
       "      <td>1.203286</td>\n",
       "      <td>24.535887</td>\n",
       "      <td>23.0</td>\n",
       "      <td>26.1</td>\n",
       "      <td>1.156345</td>\n",
       "      <td>23.155645</td>\n",
       "      <td>21.800</td>\n",
       "      <td>24.60</td>\n",
       "    </tr>\n",
       "    <tr>\n",
       "      <th>2013 Pugnose Minnow Lake St Clair Drains</th>\n",
       "      <td>1.961982</td>\n",
       "      <td>25.303061</td>\n",
       "      <td>22.2</td>\n",
       "      <td>29.0</td>\n",
       "      <td>1.676571</td>\n",
       "      <td>20.713163</td>\n",
       "      <td>18.970</td>\n",
       "      <td>24.22</td>\n",
       "    </tr>\n",
       "    <tr>\n",
       "      <th>2013 Species at Risk Assessment</th>\n",
       "      <td>0.809362</td>\n",
       "      <td>24.456000</td>\n",
       "      <td>23.3</td>\n",
       "      <td>25.0</td>\n",
       "      <td>0.080936</td>\n",
       "      <td>22.075600</td>\n",
       "      <td>21.960</td>\n",
       "      <td>22.13</td>\n",
       "    </tr>\n",
       "    <tr>\n",
       "      <th>2013 Spotted Gar Critical Habitat Survey</th>\n",
       "      <td>2.590503</td>\n",
       "      <td>22.706481</td>\n",
       "      <td>18.6</td>\n",
       "      <td>27.7</td>\n",
       "      <td>1.978877</td>\n",
       "      <td>21.349769</td>\n",
       "      <td>18.639</td>\n",
       "      <td>24.30</td>\n",
       "    </tr>\n",
       "  </tbody>\n",
       "</table>\n",
       "</div>"
      ],
      "text/plain": [
       "                                             Air Temperature (C)             \\\n",
       "                                                             std       mean   \n",
       "Project Name                                                                  \n",
       "2013 Bridle Shiner Critical Habitat Survey              2.588098  24.609091   \n",
       "2013 Crown Marsh Survey                                 2.057387  21.667872   \n",
       "2013 GLAP Survey of Detroit River                       2.652812  24.406220   \n",
       "2013 Grass Pickerel Niagara Drains                      2.498615  25.246154   \n",
       "2013 Grass Pickerel Twenty Mile Creek                   2.395997  25.340107   \n",
       "2013 Lake Chubsucker Critical Habitat Survey            3.968119  20.814612   \n",
       "2013 Mussel Fish Community Assessment                   1.203286  24.535887   \n",
       "2013 Pugnose Minnow Lake St Clair Drains                1.961982  25.303061   \n",
       "2013 Species at Risk Assessment                         0.809362  24.456000   \n",
       "2013 Spotted Gar Critical Habitat Survey                2.590503  22.706481   \n",
       "\n",
       "                                                          \\\n",
       "                                               min   max   \n",
       "Project Name                                               \n",
       "2013 Bridle Shiner Critical Habitat Survey    20.7  26.5   \n",
       "2013 Crown Marsh Survey                       16.4  26.2   \n",
       "2013 GLAP Survey of Detroit River             21.1  28.3   \n",
       "2013 Grass Pickerel Niagara Drains            20.8  28.2   \n",
       "2013 Grass Pickerel Twenty Mile Creek         22.5  29.4   \n",
       "2013 Lake Chubsucker Critical Habitat Survey  14.3  32.6   \n",
       "2013 Mussel Fish Community Assessment         23.0  26.1   \n",
       "2013 Pugnose Minnow Lake St Clair Drains      22.2  29.0   \n",
       "2013 Species at Risk Assessment               23.3  25.0   \n",
       "2013 Spotted Gar Critical Habitat Survey      18.6  27.7   \n",
       "\n",
       "                                             Water Temperature (C)             \\\n",
       "                                                               std       mean   \n",
       "Project Name                                                                    \n",
       "2013 Bridle Shiner Critical Habitat Survey                0.503887  22.052182   \n",
       "2013 Crown Marsh Survey                                   1.240151  22.007084   \n",
       "2013 GLAP Survey of Detroit River                         0.392402  22.028226   \n",
       "2013 Grass Pickerel Niagara Drains                        2.426792  20.105641   \n",
       "2013 Grass Pickerel Twenty Mile Creek                     2.533686  22.380238   \n",
       "2013 Lake Chubsucker Critical Habitat Survey              1.619878  21.671746   \n",
       "2013 Mussel Fish Community Assessment                     1.156345  23.155645   \n",
       "2013 Pugnose Minnow Lake St Clair Drains                  1.676571  20.713163   \n",
       "2013 Species at Risk Assessment                           0.080936  22.075600   \n",
       "2013 Spotted Gar Critical Habitat Survey                  1.978877  21.349769   \n",
       "\n",
       "                                                             \n",
       "                                                 min    max  \n",
       "Project Name                                                 \n",
       "2013 Bridle Shiner Critical Habitat Survey    20.630  22.44  \n",
       "2013 Crown Marsh Survey                       17.430  23.24  \n",
       "2013 GLAP Survey of Detroit River             21.646  23.11  \n",
       "2013 Grass Pickerel Niagara Drains            17.150  23.96  \n",
       "2013 Grass Pickerel Twenty Mile Creek         18.990  26.87  \n",
       "2013 Lake Chubsucker Critical Habitat Survey  19.300  25.13  \n",
       "2013 Mussel Fish Community Assessment         21.800  24.60  \n",
       "2013 Pugnose Minnow Lake St Clair Drains      18.970  24.22  \n",
       "2013 Species at Risk Assessment               21.960  22.13  \n",
       "2013 Spotted Gar Critical Habitat Survey      18.639  24.30  "
      ]
     },
     "execution_count": 23,
     "metadata": {},
     "output_type": "execute_result"
    }
   ],
   "source": [
    "datag"
   ]
  },
  {
   "cell_type": "markdown",
   "id": "790bf61d-8285-447a-afef-7d7dff1e4b0d",
   "metadata": {},
   "source": [
    "b) Make lineplots showing maximum air temperature and water temperature by month and *Region*. To construct *Region*, use *pd.cut* to satisfy the following conditions:\n",
    "\n",
    "* Rows with a latitude lower than 42.4 should have *Southern* in the *Region* column \n",
    "* Rows with a latitude between 42.4 and 42.8 should have *Central* in the *Region* column \n",
    "* Rows with a latitude higher than 42.8 should have *Northern* in the *Region* column \n",
    "\n",
    "You can have the month on the horizontal axis, the temperature on the vertical axis, different colors for different regions, and different styles (solid line / dotted line) to indicate air/water temperature.\n",
    "\n",
    "Does anything in the visualization surprise you? Why or why not? *(4 points for code and visualization, 1 point for answer)*"
   ]
  },
  {
   "cell_type": "code",
   "execution_count": 25,
   "id": "a5f38ae7",
   "metadata": {},
   "outputs": [],
   "source": [
    "data =  pd.read_csv(\"Canadian_Fish_Biodiversity.csv\")\n",
    "data['region'] = pd.cut(data['Start Latitude'], bins = [data['Start Latitude'].min(), 42.4, 42.8, data['Start Latitude'].max()], labels = ['Southern', \"Central\", 'Northern'])\n",
    "data_max = data.groupby(['Month', 'region'], as_index = False)[['Air Temperature (C)', 'Water Temperature (C)']].max()\n",
    "data = pd.melt(data, id_vars = data.columns[list(range(0,13))+list(range(15,17))], value_vars = ['Air Temperature (C)', 'Water Temperature (C)'], var_name = 'Temperature type', value_name = 'Temperature')"
   ]
  },
  {
   "cell_type": "code",
   "execution_count": 26,
   "id": "848ee65a",
   "metadata": {},
   "outputs": [
    {
     "data": {
      "text/plain": [
       "<matplotlib.legend.Legend at 0x1d769fc1100>"
      ]
     },
     "execution_count": 26,
     "metadata": {},
     "output_type": "execute_result"
    },
    {
     "data": {
      "image/png": "[encoded data removed]",
      "text/plain": [
       "<Figure size 432x288 with 1 Axes>"
      ]
     },
     "metadata": {
      "needs_background": "light"
     },
     "output_type": "display_data"
    }
   ],
   "source": [
    "sns.lineplot(x = 'Month', y = 'Temperature', hue = 'region', style = 'Temperature type', data = data, ci = None)\n",
    "plt.legend(bbox_to_anchor = (1,1))"
   ]
  },
  {
   "cell_type": "markdown",
   "id": "a28fafde",
   "metadata": {},
   "source": [
    "I am surprised that Central temperatures dropped so drastically in month 6 (June), while the other regions generally increased as expected since it would be the summer."
   ]
  },
  {
   "cell_type": "markdown",
   "id": "5bacf62d-a27d-43c5-bfce-47f554bd5f7a",
   "metadata": {},
   "source": [
    "### Question 3\n",
    "\n",
    "Finally let's focus on the stars of this survey—the fish, of course. *(19 points total)*"
   ]
  },
  {
   "cell_type": "markdown",
   "id": "735493cf-12ed-404b-9ee5-2d7587007d7e",
   "metadata": {},
   "source": [
    "a) Let's continue using our *Region* categorization. Find the top three fish species in each region by number captured. *(3 points for code)*"
   ]
  },
  {
   "cell_type": "code",
   "execution_count": 27,
   "id": "01d72aaf",
   "metadata": {},
   "outputs": [
    {
     "data": {
      "text/plain": [
       "region    region    Species               \n",
       "Southern  Southern  Lepomis macrochirus       10144.0\n",
       "                    Dorosoma cepedianum        7118.0\n",
       "                    Neogobius melanostomus     4530.0\n",
       "Central   Central   Lepomis macrochirus        4252.0\n",
       "                    Labidesthes sicculus       4058.0\n",
       "                    Notropis heterodon         3124.0\n",
       "Northern  Northern  Neogobius melanostomus     5044.0\n",
       "                    Notropis volucellus        4208.0\n",
       "                    Lepomis macrochirus        3682.0\n",
       "Name: Number Captured, dtype: float64"
      ]
     },
     "execution_count": 27,
     "metadata": {},
     "output_type": "execute_result"
    }
   ],
   "source": [
    "data.groupby(['region','Species'])['Number Captured'].sum().groupby('region').nlargest(n=3)"
   ]
  },
  {
   "cell_type": "markdown",
   "id": "112eee58-3587-40df-8197-7bbe210053cf",
   "metadata": {},
   "source": [
    "b) Are certain fish only found in some regions? Visualize how many species are in all three regions, how many are in two of three, and how many were only captured in one region. *(3 points for code and visualization)*"
   ]
  },
  {
   "cell_type": "code",
   "execution_count": 30,
   "id": "4a60b6f2",
   "metadata": {},
   "outputs": [
    {
     "data": {
      "text/plain": [
       "<AxesSubplot:ylabel='count'>"
      ]
     },
     "execution_count": 30,
     "metadata": {},
     "output_type": "execute_result"
    },
    {
     "data": {
      "image/png": "[encoded data removed]",
      "text/plain": [
       "<Figure size 432x288 with 1 Axes>"
      ]
     },
     "metadata": {
      "needs_background": "light"
     },
     "output_type": "display_data"
    }
   ],
   "source": [
    "captures = pd.crosstab(data['Species'],data['region'])\n",
    "\n",
    "counts = (captures != 0)\n",
    "sns.countplot(x = counts.sum(axis = 1))"
   ]
  },
  {
   "cell_type": "markdown",
   "id": "0dfa7dc4-c111-4d1a-b5e3-d71ab0cb7437",
   "metadata": {},
   "source": [
    "c) What percentage of all species are exclusively captured in the Southern region? How about the Northern Region? And the Central region? *(3 points for code)*"
   ]
  },
  {
   "cell_type": "code",
   "execution_count": 33,
   "id": "bb08a57a",
   "metadata": {},
   "outputs": [
    {
     "name": "stdout",
     "output_type": "stream",
     "text": [
      "The percentage for the Northern region is:  0.25 \n",
      "The percentage for the Central region is:  0.045454545454545456 \n",
      "The percentage for the Southern region is:  0.09090909090909091\n"
     ]
    }
   ],
   "source": [
    "south = counts[(counts['Southern'] == True) & (counts['Central'] == False) & (counts['Northern'] == False)]['Southern'].sum() / counts.shape[0]\n",
    "central = counts[(counts['Southern'] == False) & (counts['Central'] == True) & (counts['Northern'] == False)]['Central'].sum() / counts.shape[0]\n",
    "north = counts[(counts['Southern'] == False) & (counts['Central'] == False) & (counts['Northern'] == True)]['Northern'].sum() / counts.shape[0]\n",
    "print('The percentage for the Northern region is: ', north, '\\nThe percentage for the Central region is: ', central, '\\nThe percentage for the Southern region is: ', south)"
   ]
  },
  {
   "cell_type": "markdown",
   "id": "e28eb2ae-4aa4-4caa-84dd-f4b3bde7d840",
   "metadata": {},
   "source": [
    "d) Turbidity quantifies the level of cloudiness in liquid. For fish in each of the three regions, is there a correlative relationship between turbidity and # of fish caught? *(2 points for code, 1 point for answer)*"
   ]
  },
  {
   "cell_type": "code",
   "execution_count": 35,
   "id": "6c265d1e",
   "metadata": {},
   "outputs": [
    {
     "data": {
      "text/plain": [
       "region\n",
       "Southern   -0.019202\n",
       "Central    -0.016327\n",
       "Northern    0.063456\n",
       "dtype: float64"
      ]
     },
     "execution_count": 35,
     "metadata": {},
     "output_type": "execute_result"
    }
   ],
   "source": [
    "grouped = data.groupby('region')\n",
    "grouped.apply(lambda x: x['Turbidity (ntu)'].corr(x['Number Captured']))"
   ]
  },
  {
   "cell_type": "markdown",
   "id": "7a762870",
   "metadata": {},
   "source": [
    "There does not appear to be a strong correlation between the tubidity of the water and the number of fish caught, evidenced by the correlations all being close to 0. However, the Northern region correlation is the strongest at 0.06."
   ]
  },
  {
   "cell_type": "markdown",
   "id": "3dfb3724-38f6-4428-911d-b3c234227d25",
   "metadata": {},
   "source": [
    "e) Now let's turn to the length of fish captured, given by *Maximum (mm)* and *Minimum (mm)*. Find the overall maximum and minimum lengths of all fish in each region. Which region has the largest range in captured fish length? *(2 points for code, 1 point for answer)*"
   ]
  },
  {
   "cell_type": "code",
   "execution_count": 41,
   "id": "8afb13fc",
   "metadata": {},
   "outputs": [
    {
     "data": {
      "text/plain": [
       "region\n",
       "Southern    1122.0\n",
       "Central      776.0\n",
       "Northern     750.0\n",
       "dtype: float64"
      ]
     },
     "execution_count": 41,
     "metadata": {},
     "output_type": "execute_result"
    }
   ],
   "source": [
    "max_min = grouped[['Maximum (mm)', 'Minimum (mm)']].agg(['max','min'])\n",
    "max_min[('Maximum (mm)', 'max')] - max_min[('Minimum (mm)', 'min')]"
   ]
  },
  {
   "cell_type": "markdown",
   "id": "996a0429",
   "metadata": {},
   "source": [
    "The Southern region has the largest range in captured fish length (1122)."
   ]
  },
  {
   "cell_type": "markdown",
   "id": "f5152b24-3807-4130-883f-cacacfc2b6b8",
   "metadata": {},
   "source": [
    "f) Find the inverse Simpson index of species counts for each waterbody type (*WaterbodyType*) within each region. Which combination of waterbody type and region has the greatest diversity of fish species? Which has the least?\n",
    "\n",
    "The inverse Simpson index $(\\frac{1}{\\lambda})$ is a measure of ecological diversity, for which a larger index number indicates a greater diversity of species. The index is calculated as:\n",
    "\n",
    "$\\frac{1}{\\lambda} = 1/(\\sum^R_{i=1} p_i^2)$\n",
    "\n",
    "where $R$ is the number of unique species and $p_i$ is the proportion of fish belonging to species $i$. *(3 points for code, 1 point for answer)*"
   ]
  },
  {
   "cell_type": "code",
   "execution_count": 43,
   "id": "3a3344a0",
   "metadata": {},
   "outputs": [
    {
     "data": {
      "text/plain": [
       "WaterbodyType  region  \n",
       "Stream         Northern    8.450950e+09\n",
       "               Southern    3.670133e+09\n",
       "Lake           Southern    8.884888e+08\n",
       "Wetland        Central     4.505977e+08\n",
       "Stream         Central     2.725394e+08\n",
       "Lake           Central     5.492184e+07\n",
       "               Northern    1.818261e+07\n",
       "Wetland        Southern    0.000000e+00\n",
       "               Northern    0.000000e+00\n",
       "Name: Number Captured, dtype: float64"
      ]
     },
     "execution_count": 43,
     "metadata": {},
     "output_type": "execute_result"
    }
   ],
   "source": [
    "groups = data.groupby(['WaterbodyType', 'region', 'Species'])['Number Captured']\n",
    "groups = groups.sum().reset_index().drop(columns = 'Species')\n",
    "pi = lambda x: x['Number Captured']/np.sum(x['Number Captured'])\n",
    "groups = groups.groupby(['WaterbodyType','region'])\n",
    "simpson = 1/np.power(groups.apply(pi),2).droplevel(2)\n",
    "simpson.loc[(simpson < np.inf) & ~(simpson.isnull())].groupby(['WaterbodyType','region']).sum().sort_values(ascending = False)"
   ]
  },
  {
   "cell_type": "markdown",
   "id": "84b6fe62",
   "metadata": {},
   "source": [
    "The Northern Stream has the greatest diversity of fish species. The Northern Lake has the least diversity of fish species."
   ]
  }
 ],
 "metadata": {
  "kernelspec": {
   "display_name": "Python 3",
   "language": "python",
   "name": "python3"
  },
  "language_info": {
   "codemirror_mode": {
    "name": "ipython",
    "version": 3
   },
   "file_extension": ".py",
   "mimetype": "text/x-python",
   "name": "python",
   "nbconvert_exporter": "python",
   "pygments_lexer": "ipython3",
   "version": "3.8.8"
  }
 },
 "nbformat": 4,
 "nbformat_minor": 5
}
