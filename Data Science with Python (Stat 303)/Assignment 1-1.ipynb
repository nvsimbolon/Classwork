{
 "cells": [
  {
   "cell_type": "markdown",
   "id": "53f7812b",
   "metadata": {},
   "source": [
    "## US University Ranks"
   ]
  },
  {
   "cell_type": "code",
   "execution_count": 40,
   "id": "6bf056e2",
   "metadata": {},
   "outputs": [],
   "source": [
    "import pandas as pd\n",
    "univ = pd.read_csv('univ.dat', skipfooter = 0)"
   ]
  },
  {
   "cell_type": "markdown",
   "id": "9c2053be",
   "metadata": {},
   "source": [
    "#### 2a: How many universities are there in the data set?"
   ]
  },
  {
   "cell_type": "code",
   "execution_count": 41,
   "id": "9ba1a257",
   "metadata": {},
   "outputs": [
    {
     "data": {
      "text/html": [
       "<div>\n",
       "<style scoped>\n",
       "    .dataframe tbody tr th:only-of-type {\n",
       "        vertical-align: middle;\n",
       "    }\n",
       "\n",
       "    .dataframe tbody tr th {\n",
       "        vertical-align: top;\n",
       "    }\n",
       "\n",
       "    .dataframe thead th {\n",
       "        text-align: right;\n",
       "    }\n",
       "</style>\n",
       "<table border=\"1\" class=\"dataframe\">\n",
       "  <thead>\n",
       "    <tr style=\"text-align: right;\">\n",
       "      <th></th>\n",
       "      <th>Rank</th>\n",
       "      <th>Tuition and fees</th>\n",
       "      <th>Undergrad Enrollment</th>\n",
       "    </tr>\n",
       "  </thead>\n",
       "  <tbody>\n",
       "    <tr>\n",
       "      <th>count</th>\n",
       "      <td>231.000000</td>\n",
       "      <td>231.000000</td>\n",
       "      <td>231.000000</td>\n",
       "    </tr>\n",
       "    <tr>\n",
       "      <th>mean</th>\n",
       "      <td>113.982684</td>\n",
       "      <td>33769.246753</td>\n",
       "      <td>14946.619048</td>\n",
       "    </tr>\n",
       "    <tr>\n",
       "      <th>std</th>\n",
       "      <td>65.995518</td>\n",
       "      <td>10756.733516</td>\n",
       "      <td>10569.664095</td>\n",
       "    </tr>\n",
       "    <tr>\n",
       "      <th>min</th>\n",
       "      <td>1.000000</td>\n",
       "      <td>5300.000000</td>\n",
       "      <td>1001.000000</td>\n",
       "    </tr>\n",
       "    <tr>\n",
       "      <th>25%</th>\n",
       "      <td>56.000000</td>\n",
       "      <td>25693.000000</td>\n",
       "      <td>6238.500000</td>\n",
       "    </tr>\n",
       "    <tr>\n",
       "      <th>50%</th>\n",
       "      <td>111.000000</td>\n",
       "      <td>31608.000000</td>\n",
       "      <td>12949.000000</td>\n",
       "    </tr>\n",
       "    <tr>\n",
       "      <th>75%</th>\n",
       "      <td>171.000000</td>\n",
       "      <td>42721.000000</td>\n",
       "      <td>22145.500000</td>\n",
       "    </tr>\n",
       "    <tr>\n",
       "      <th>max</th>\n",
       "      <td>220.000000</td>\n",
       "      <td>55056.000000</td>\n",
       "      <td>54513.000000</td>\n",
       "    </tr>\n",
       "  </tbody>\n",
       "</table>\n",
       "</div>"
      ],
      "text/plain": [
       "             Rank  Tuition and fees  Undergrad Enrollment\n",
       "count  231.000000        231.000000            231.000000\n",
       "mean   113.982684      33769.246753          14946.619048\n",
       "std     65.995518      10756.733516          10569.664095\n",
       "min      1.000000       5300.000000           1001.000000\n",
       "25%     56.000000      25693.000000           6238.500000\n",
       "50%    111.000000      31608.000000          12949.000000\n",
       "75%    171.000000      42721.000000          22145.500000\n",
       "max    220.000000      55056.000000          54513.000000"
      ]
     },
     "execution_count": 41,
     "metadata": {},
     "output_type": "execute_result"
    }
   ],
   "source": [
    "univ.describe()"
   ]
  },
  {
   "cell_type": "markdown",
   "id": "4cc1b870",
   "metadata": {},
   "source": [
    "According to the summary of the univ.dat data set above, there are 231 universities in this data set (see: count 231 observations in all columns)."
   ]
  },
  {
   "cell_type": "markdown",
   "id": "3fd12d81",
   "metadata": {},
   "source": [
    "#### 2b: Estimate the maximum tuition of the university among the set of 25%  universities with the least tuition and fees?"
   ]
  },
  {
   "cell_type": "code",
   "execution_count": 42,
   "id": "52c7c63d",
   "metadata": {
    "scrolled": true
   },
   "outputs": [
    {
     "data": {
      "text/plain": [
       "<AxesSubplot:>"
      ]
     },
     "execution_count": 42,
     "metadata": {},
     "output_type": "execute_result"
    },
    {
     "data": {
      "image/png": "[encoded data removed]",
      "text/plain": [
       "<Figure size 432x288 with 1 Axes>"
      ]
     },
     "metadata": {
      "needs_background": "light"
     },
     "output_type": "display_data"
    }
   ],
   "source": [
    "univ.boxplot(column = 'Tuition and fees')"
   ]
  },
  {
   "cell_type": "markdown",
   "id": "4f80a91f",
   "metadata": {},
   "source": [
    "According to the summary statistics, the maximum value for the lowest 25% of universities \"Tuition and fees\" is $25693. This statistics is reaffirmed by utilizing a boxplot of the \"Tuition and fees\" variable in the univ.dat data set, where the value appears to sit roughly between $20500 and $20600."
   ]
  },
  {
   "cell_type": "markdown",
   "id": "edea270b",
   "metadata": {},
   "source": [
    "#### 2c: How many universities share the ranking of 220?"
   ]
  },
  {
   "cell_type": "code",
   "execution_count": 43,
   "id": "722d02c8",
   "metadata": {
    "scrolled": true
   },
   "outputs": [
    {
     "data": {
      "text/html": [
       "<div>\n",
       "<style scoped>\n",
       "    .dataframe tbody tr th:only-of-type {\n",
       "        vertical-align: middle;\n",
       "    }\n",
       "\n",
       "    .dataframe tbody tr th {\n",
       "        vertical-align: top;\n",
       "    }\n",
       "\n",
       "    .dataframe thead th {\n",
       "        text-align: right;\n",
       "    }\n",
       "</style>\n",
       "<table border=\"1\" class=\"dataframe\">\n",
       "  <thead>\n",
       "    <tr style=\"text-align: right;\">\n",
       "      <th></th>\n",
       "      <th>Name</th>\n",
       "      <th>Location</th>\n",
       "      <th>Rank</th>\n",
       "      <th>Tuition and fees</th>\n",
       "      <th>Undergrad Enrollment</th>\n",
       "    </tr>\n",
       "  </thead>\n",
       "  <tbody>\n",
       "    <tr>\n",
       "      <th>219</th>\n",
       "      <td>Benedictine University</td>\n",
       "      <td>Lisle, IL</td>\n",
       "      <td>220.0</td>\n",
       "      <td>32170.0</td>\n",
       "      <td>3347.0</td>\n",
       "    </tr>\n",
       "    <tr>\n",
       "      <th>220</th>\n",
       "      <td>California State University--Fresno</td>\n",
       "      <td>Fresno, CA</td>\n",
       "      <td>220.0</td>\n",
       "      <td>17209.0</td>\n",
       "      <td>21482.0</td>\n",
       "    </tr>\n",
       "    <tr>\n",
       "      <th>221</th>\n",
       "      <td>Gardner-Webb University</td>\n",
       "      <td>Boiling Springs, NC</td>\n",
       "      <td>220.0</td>\n",
       "      <td>29850.0</td>\n",
       "      <td>2615.0</td>\n",
       "    </tr>\n",
       "    <tr>\n",
       "      <th>222</th>\n",
       "      <td>New Mexico State University</td>\n",
       "      <td>Las Cruces, NM</td>\n",
       "      <td>220.0</td>\n",
       "      <td>21234.0</td>\n",
       "      <td>12526.0</td>\n",
       "    </tr>\n",
       "    <tr>\n",
       "      <th>223</th>\n",
       "      <td>Shenandoah University</td>\n",
       "      <td>Winchester, VA</td>\n",
       "      <td>220.0</td>\n",
       "      <td>31322.0</td>\n",
       "      <td>2010.0</td>\n",
       "    </tr>\n",
       "    <tr>\n",
       "      <th>224</th>\n",
       "      <td>Tennessee Technological University</td>\n",
       "      <td>Cookeville, TN</td>\n",
       "      <td>220.0</td>\n",
       "      <td>24800.0</td>\n",
       "      <td>9801.0</td>\n",
       "    </tr>\n",
       "    <tr>\n",
       "      <th>225</th>\n",
       "      <td>University of Massachusetts--Boston</td>\n",
       "      <td>Boston, MA</td>\n",
       "      <td>220.0</td>\n",
       "      <td>32023.0</td>\n",
       "      <td>12949.0</td>\n",
       "    </tr>\n",
       "    <tr>\n",
       "      <th>226</th>\n",
       "      <td>University of Massachusetts--Dartmouth</td>\n",
       "      <td>North Dartmouth, MA</td>\n",
       "      <td>220.0</td>\n",
       "      <td>19270.0</td>\n",
       "      <td>7295.0</td>\n",
       "    </tr>\n",
       "    <tr>\n",
       "      <th>227</th>\n",
       "      <td>University of Missouri--St. Louis</td>\n",
       "      <td>St. Louis, MO</td>\n",
       "      <td>220.0</td>\n",
       "      <td>26277.0</td>\n",
       "      <td>13569.0</td>\n",
       "    </tr>\n",
       "    <tr>\n",
       "      <th>228</th>\n",
       "      <td>University of North Carolina--Greensboro</td>\n",
       "      <td>Greensboro, NC</td>\n",
       "      <td>220.0</td>\n",
       "      <td>21595.0</td>\n",
       "      <td>15951.0</td>\n",
       "    </tr>\n",
       "    <tr>\n",
       "      <th>229</th>\n",
       "      <td>University of Southern Mississippi</td>\n",
       "      <td>Hattiesburg, MS</td>\n",
       "      <td>220.0</td>\n",
       "      <td>16094.0</td>\n",
       "      <td>11840.0</td>\n",
       "    </tr>\n",
       "    <tr>\n",
       "      <th>230</th>\n",
       "      <td>Utah State University</td>\n",
       "      <td>Logan, UT</td>\n",
       "      <td>220.0</td>\n",
       "      <td>19772.0</td>\n",
       "      <td>25259.0</td>\n",
       "    </tr>\n",
       "  </tbody>\n",
       "</table>\n",
       "</div>"
      ],
      "text/plain": [
       "                                         Name             Location   Rank  \\\n",
       "219                    Benedictine University            Lisle, IL  220.0   \n",
       "220       California State University--Fresno           Fresno, CA  220.0   \n",
       "221                   Gardner-Webb University  Boiling Springs, NC  220.0   \n",
       "222               New Mexico State University       Las Cruces, NM  220.0   \n",
       "223                     Shenandoah University       Winchester, VA  220.0   \n",
       "224        Tennessee Technological University       Cookeville, TN  220.0   \n",
       "225       University of Massachusetts--Boston           Boston, MA  220.0   \n",
       "226    University of Massachusetts--Dartmouth  North Dartmouth, MA  220.0   \n",
       "227         University of Missouri--St. Louis        St. Louis, MO  220.0   \n",
       "228  University of North Carolina--Greensboro       Greensboro, NC  220.0   \n",
       "229        University of Southern Mississippi      Hattiesburg, MS  220.0   \n",
       "230                     Utah State University            Logan, UT  220.0   \n",
       "\n",
       "     Tuition and fees  Undergrad Enrollment  \n",
       "219           32170.0                3347.0  \n",
       "220           17209.0               21482.0  \n",
       "221           29850.0                2615.0  \n",
       "222           21234.0               12526.0  \n",
       "223           31322.0                2010.0  \n",
       "224           24800.0                9801.0  \n",
       "225           32023.0               12949.0  \n",
       "226           19270.0                7295.0  \n",
       "227           26277.0               13569.0  \n",
       "228           21595.0               15951.0  \n",
       "229           16094.0               11840.0  \n",
       "230           19772.0               25259.0  "
      ]
     },
     "execution_count": 43,
     "metadata": {},
     "output_type": "execute_result"
    }
   ],
   "source": [
    "univ[univ.Rank == 220]"
   ]
  },
  {
   "cell_type": "markdown",
   "id": "b6a9de41",
   "metadata": {},
   "source": [
    "By isolating and locating all observations/rows that contain a value of 220 in the \"Rank\" column, I can now see that rows 219 - 230, or 12 universities all share the ranking of 220."
   ]
  },
  {
   "cell_type": "markdown",
   "id": "c42ddbc9",
   "metadata": {},
   "source": [
    "#### 2d: Can you find the mean fee for an undergrad student in the US from the summary statistics? Justify your answer."
   ]
  },
  {
   "cell_type": "markdown",
   "id": "4ba34c92",
   "metadata": {},
   "source": [
    "With just the summary statistics, you cannot find the mean fee for an undergrad student in the US because the mean value provided above is just the mean tuition and fees for all universities in the US."
   ]
  },
  {
   "cell_type": "markdown",
   "id": "cdb88229",
   "metadata": {},
   "source": [
    "#### 3: Find the schools obtaining the maximum and minimum revenues by tuition fee. How much are the repective revenues?"
   ]
  },
  {
   "cell_type": "code",
   "execution_count": 44,
   "id": "4437d3d8",
   "metadata": {},
   "outputs": [],
   "source": [
    "univ['revenue'] = univ['Tuition and fees'] * univ['Undergrad Enrollment']"
   ]
  },
  {
   "cell_type": "code",
   "execution_count": 45,
   "id": "82534d16",
   "metadata": {},
   "outputs": [
    {
     "data": {
      "text/plain": [
       "Name                    Michigan State University\n",
       "Location                         East Lansing, MI\n",
       "Rank                                         82.0\n",
       "Tuition and fees                          39090.0\n",
       "Undergrad Enrollment                      39143.0\n",
       "revenue                              1530099870.0\n",
       "Name: 82, dtype: object"
      ]
     },
     "execution_count": 45,
     "metadata": {},
     "output_type": "execute_result"
    }
   ],
   "source": [
    "univ.iloc[univ['revenue'].argmax(),:]"
   ]
  },
  {
   "cell_type": "code",
   "execution_count": 46,
   "id": "7eb07ced",
   "metadata": {},
   "outputs": [
    {
     "data": {
      "text/plain": [
       "Name                    SUNY College of Environmental Science and Fore...\n",
       "Location                                                     Syracuse, NY\n",
       "Rank                                                                 99.0\n",
       "Tuition and fees                                                  17620.0\n",
       "Undergrad Enrollment                                               1839.0\n",
       "revenue                                                        32403180.0\n",
       "Name: 100, dtype: object"
      ]
     },
     "execution_count": 46,
     "metadata": {},
     "output_type": "execute_result"
    }
   ],
   "source": [
    "univ.iloc[univ['revenue'].argmin(),:]"
   ]
  },
  {
   "cell_type": "markdown",
   "id": "21923a56",
   "metadata": {},
   "source": [
    "By using the iloc and argmax() functions, I found that Michigan State University has the maximum tuition fee in the univ data set with $1530099870. Additionally, by using the iloc and argmin() functions, I found that SUNY College of Environmental Science and Forestry has the minimum tuition fee in the univ data set with $32403180."
   ]
  },
  {
   "cell_type": "markdown",
   "id": "70d1e154",
   "metadata": {},
   "source": []
  },
  {
   "cell_type": "markdown",
   "id": "9adb2fdc",
   "metadata": {},
   "source": [
    "#### 4: Find the average fee for an undergrad student in the US."
   ]
  },
  {
   "cell_type": "code",
   "execution_count": 108,
   "id": "618595ec",
   "metadata": {},
   "outputs": [
    {
     "data": {
      "text/plain": [
       "30845.32903298868"
      ]
     },
     "execution_count": 108,
     "metadata": {},
     "output_type": "execute_result"
    }
   ],
   "source": [
    "# Finding the mean of tuition_and_fees variable\n",
    "univ['revenue'].sum()/univ['Undergrad Enrollment'].sum()"
   ]
  },
  {
   "cell_type": "code",
   "execution_count": 49,
   "id": "5148df13",
   "metadata": {},
   "outputs": [
    {
     "data": {
      "text/html": [
       "<div>\n",
       "<style scoped>\n",
       "    .dataframe tbody tr th:only-of-type {\n",
       "        vertical-align: middle;\n",
       "    }\n",
       "\n",
       "    .dataframe tbody tr th {\n",
       "        vertical-align: top;\n",
       "    }\n",
       "\n",
       "    .dataframe thead th {\n",
       "        text-align: right;\n",
       "    }\n",
       "</style>\n",
       "<table border=\"1\" class=\"dataframe\">\n",
       "  <thead>\n",
       "    <tr style=\"text-align: right;\">\n",
       "      <th></th>\n",
       "      <th>Rank</th>\n",
       "      <th>Tuition and fees</th>\n",
       "      <th>Undergrad Enrollment</th>\n",
       "      <th>revenue</th>\n",
       "      <th>tuition_and_fees</th>\n",
       "    </tr>\n",
       "  </thead>\n",
       "  <tbody>\n",
       "    <tr>\n",
       "      <th>count</th>\n",
       "      <td>231.000000</td>\n",
       "      <td>231.000000</td>\n",
       "      <td>231.000000</td>\n",
       "      <td>2.310000e+02</td>\n",
       "      <td>231.000000</td>\n",
       "    </tr>\n",
       "    <tr>\n",
       "      <th>mean</th>\n",
       "      <td>113.982684</td>\n",
       "      <td>33769.246753</td>\n",
       "      <td>14946.619048</td>\n",
       "      <td>4.610334e+08</td>\n",
       "      <td>33769.246753</td>\n",
       "    </tr>\n",
       "    <tr>\n",
       "      <th>std</th>\n",
       "      <td>65.995518</td>\n",
       "      <td>10756.733516</td>\n",
       "      <td>10569.664095</td>\n",
       "      <td>3.150583e+08</td>\n",
       "      <td>10756.733516</td>\n",
       "    </tr>\n",
       "    <tr>\n",
       "      <th>min</th>\n",
       "      <td>1.000000</td>\n",
       "      <td>5300.000000</td>\n",
       "      <td>1001.000000</td>\n",
       "      <td>3.240318e+07</td>\n",
       "      <td>5300.000000</td>\n",
       "    </tr>\n",
       "    <tr>\n",
       "      <th>25%</th>\n",
       "      <td>56.000000</td>\n",
       "      <td>25693.000000</td>\n",
       "      <td>6238.500000</td>\n",
       "      <td>2.244614e+08</td>\n",
       "      <td>25693.000000</td>\n",
       "    </tr>\n",
       "    <tr>\n",
       "      <th>50%</th>\n",
       "      <td>111.000000</td>\n",
       "      <td>31608.000000</td>\n",
       "      <td>12949.000000</td>\n",
       "      <td>3.795070e+08</td>\n",
       "      <td>31608.000000</td>\n",
       "    </tr>\n",
       "    <tr>\n",
       "      <th>75%</th>\n",
       "      <td>171.000000</td>\n",
       "      <td>42721.000000</td>\n",
       "      <td>22145.500000</td>\n",
       "      <td>6.415063e+08</td>\n",
       "      <td>42721.000000</td>\n",
       "    </tr>\n",
       "    <tr>\n",
       "      <th>max</th>\n",
       "      <td>220.000000</td>\n",
       "      <td>55056.000000</td>\n",
       "      <td>54513.000000</td>\n",
       "      <td>1.530100e+09</td>\n",
       "      <td>55056.000000</td>\n",
       "    </tr>\n",
       "  </tbody>\n",
       "</table>\n",
       "</div>"
      ],
      "text/plain": [
       "             Rank  Tuition and fees  Undergrad Enrollment       revenue  \\\n",
       "count  231.000000        231.000000            231.000000  2.310000e+02   \n",
       "mean   113.982684      33769.246753          14946.619048  4.610334e+08   \n",
       "std     65.995518      10756.733516          10569.664095  3.150583e+08   \n",
       "min      1.000000       5300.000000           1001.000000  3.240318e+07   \n",
       "25%     56.000000      25693.000000           6238.500000  2.244614e+08   \n",
       "50%    111.000000      31608.000000          12949.000000  3.795070e+08   \n",
       "75%    171.000000      42721.000000          22145.500000  6.415063e+08   \n",
       "max    220.000000      55056.000000          54513.000000  1.530100e+09   \n",
       "\n",
       "       tuition_and_fees  \n",
       "count        231.000000  \n",
       "mean       33769.246753  \n",
       "std        10756.733516  \n",
       "min         5300.000000  \n",
       "25%        25693.000000  \n",
       "50%        31608.000000  \n",
       "75%        42721.000000  \n",
       "max        55056.000000  "
      ]
     },
     "execution_count": 49,
     "metadata": {},
     "output_type": "execute_result"
    }
   ],
   "source": [
    "univ.describe()"
   ]
  },
  {
   "cell_type": "markdown",
   "id": "18d3bf68",
   "metadata": {},
   "source": [
    "The average fee for an undergrad student in the US is approximately $30845.33."
   ]
  },
  {
   "cell_type": "markdown",
   "id": "eb3ba10a",
   "metadata": {},
   "source": [
    "## FIFA World Cup Attendance"
   ]
  },
  {
   "cell_type": "code",
   "execution_count": 50,
   "id": "7fe74365",
   "metadata": {},
   "outputs": [],
   "source": [
    "import ssl\n",
    "\n",
    "ssl._create_default_https_context = ssl._create_unverified_context"
   ]
  },
  {
   "cell_type": "code",
   "execution_count": 51,
   "id": "5e5e8057",
   "metadata": {},
   "outputs": [],
   "source": [
    "fifa = pd.read_html('https://en.wikipedia.org/wiki/FIFA_World_Cup', header = 1)"
   ]
  },
  {
   "cell_type": "markdown",
   "id": "b227d68d",
   "metadata": {},
   "source": [
    "#### 1: Identify and read the data table containing the number of people attending world cups from 1930 to 2018. Attendance for how many world cups is there in the table? Assume each row contains information about a unique world cup."
   ]
  },
  {
   "cell_type": "code",
   "execution_count": 52,
   "id": "28275ca2",
   "metadata": {},
   "outputs": [
    {
     "data": {
      "text/plain": [
       "24"
      ]
     },
     "execution_count": 52,
     "metadata": {},
     "output_type": "execute_result"
    }
   ],
   "source": [
    "len(fifa)"
   ]
  },
  {
   "cell_type": "code",
   "execution_count": 53,
   "id": "fb5fc94d",
   "metadata": {},
   "outputs": [],
   "source": [
    "fifa = fifa[2] # Returns the second table in the data frame"
   ]
  },
  {
   "cell_type": "code",
   "execution_count": 54,
   "id": "7957fa90",
   "metadata": {},
   "outputs": [],
   "source": [
    "fifa2 = fifa[:-1] # Removes the footer row because the row contains overall statistics about the columns and does not contain information about a unique world cup."
   ]
  },
  {
   "cell_type": "code",
   "execution_count": 55,
   "id": "c65704ab",
   "metadata": {},
   "outputs": [
    {
     "data": {
      "text/plain": [
       "21"
      ]
     },
     "execution_count": 55,
     "metadata": {},
     "output_type": "execute_result"
    }
   ],
   "source": [
    "fifa2.Year.count()"
   ]
  },
  {
   "cell_type": "markdown",
   "id": "bb8ae7fe",
   "metadata": {},
   "source": [
    "There are 21 unique world cups included in the FIFA World Cup data set. I utilized the .count() function to count how many years were observed in this data set."
   ]
  },
  {
   "cell_type": "markdown",
   "id": "e94577a5",
   "metadata": {},
   "source": [
    "#### 2: Which year’s FIFA world cup witnessed the highest average number of spectators per match? Who was the host country then? Which countries competed in the game with the highest number of spectators in that world cup?"
   ]
  },
  {
   "cell_type": "code",
   "execution_count": 56,
   "id": "656cb398",
   "metadata": {},
   "outputs": [
    {
     "data": {
      "text/plain": [
       "Year                                          1994\n",
       "Hosts                                United States\n",
       "Venues/Cities                                  9/9\n",
       "Totalattendance                            3587538\n",
       "Matches                                         52\n",
       "Avg.attendance                               68991\n",
       "Number                                       94194\n",
       "Venue              Rose Bowl, Pasadena, California\n",
       "Game(s)             Brazil 0–0 (3–2p) Italy, Final\n",
       "Name: 14, dtype: object"
      ]
     },
     "execution_count": 56,
     "metadata": {},
     "output_type": "execute_result"
    }
   ],
   "source": [
    "fifa2.iloc[fifa2['Avg.attendance'].argmax(),:]"
   ]
  },
  {
   "cell_type": "markdown",
   "id": "a4b94a0f",
   "metadata": {},
   "source": [
    "By utilizing the .iloc and .argmax functions, I found that the FIFA world cup with the highest average attendance per game was the 1994 World Cup hosted by the United States and held in Pasadena, California. Brazil and Italy competed in that game."
   ]
  },
  {
   "cell_type": "markdown",
   "id": "434d5b99",
   "metadata": {},
   "source": [
    "#### 3: Is the following statement true: 64 matches were played in at least 25% of the world cups. Justify your answer."
   ]
  },
  {
   "cell_type": "code",
   "execution_count": 57,
   "id": "26b289dd",
   "metadata": {},
   "outputs": [
    {
     "data": {
      "text/html": [
       "<div>\n",
       "<style scoped>\n",
       "    .dataframe tbody tr th:only-of-type {\n",
       "        vertical-align: middle;\n",
       "    }\n",
       "\n",
       "    .dataframe tbody tr th {\n",
       "        vertical-align: top;\n",
       "    }\n",
       "\n",
       "    .dataframe thead th {\n",
       "        text-align: right;\n",
       "    }\n",
       "</style>\n",
       "<table border=\"1\" class=\"dataframe\">\n",
       "  <thead>\n",
       "    <tr style=\"text-align: right;\">\n",
       "      <th></th>\n",
       "      <th>Totalattendance</th>\n",
       "      <th>Matches</th>\n",
       "      <th>Avg.attendance</th>\n",
       "    </tr>\n",
       "  </thead>\n",
       "  <tbody>\n",
       "    <tr>\n",
       "      <th>count</th>\n",
       "      <td>2.100000e+01</td>\n",
       "      <td>21.000000</td>\n",
       "      <td>21.000000</td>\n",
       "    </tr>\n",
       "    <tr>\n",
       "      <th>mean</th>\n",
       "      <td>1.930118e+06</td>\n",
       "      <td>42.857143</td>\n",
       "      <td>42147.238095</td>\n",
       "    </tr>\n",
       "    <tr>\n",
       "      <th>std</th>\n",
       "      <td>1.077834e+06</td>\n",
       "      <td>17.467930</td>\n",
       "      <td>12191.364566</td>\n",
       "    </tr>\n",
       "    <tr>\n",
       "      <th>min</th>\n",
       "      <td>3.630000e+05</td>\n",
       "      <td>17.000000</td>\n",
       "      <td>20872.000000</td>\n",
       "    </tr>\n",
       "    <tr>\n",
       "      <th>25%</th>\n",
       "      <td>8.931720e+05</td>\n",
       "      <td>32.000000</td>\n",
       "      <td>32808.000000</td>\n",
       "    </tr>\n",
       "    <tr>\n",
       "      <th>50%</th>\n",
       "      <td>1.865753e+06</td>\n",
       "      <td>38.000000</td>\n",
       "      <td>46039.000000</td>\n",
       "    </tr>\n",
       "    <tr>\n",
       "      <th>75%</th>\n",
       "      <td>2.785100e+06</td>\n",
       "      <td>64.000000</td>\n",
       "      <td>49099.000000</td>\n",
       "    </tr>\n",
       "    <tr>\n",
       "      <th>max</th>\n",
       "      <td>3.587538e+06</td>\n",
       "      <td>64.000000</td>\n",
       "      <td>68991.000000</td>\n",
       "    </tr>\n",
       "  </tbody>\n",
       "</table>\n",
       "</div>"
      ],
      "text/plain": [
       "       Totalattendance    Matches  Avg.attendance\n",
       "count     2.100000e+01  21.000000       21.000000\n",
       "mean      1.930118e+06  42.857143    42147.238095\n",
       "std       1.077834e+06  17.467930    12191.364566\n",
       "min       3.630000e+05  17.000000    20872.000000\n",
       "25%       8.931720e+05  32.000000    32808.000000\n",
       "50%       1.865753e+06  38.000000    46039.000000\n",
       "75%       2.785100e+06  64.000000    49099.000000\n",
       "max       3.587538e+06  64.000000    68991.000000"
      ]
     },
     "execution_count": 57,
     "metadata": {},
     "output_type": "execute_result"
    }
   ],
   "source": [
    "fifa2.describe()"
   ]
  },
  {
   "cell_type": "markdown",
   "id": "faef9d90",
   "metadata": {},
   "source": [
    "I would say that this statement is true. By examining the summary statistics of the FIFA World Cup data set, we can see that the value for the 75th percentile is 64 matches. Since the max number of matches for this particular data set is 64 matches as well, it is understood that the top 25% of world cups in this data set had 64 matches played."
   ]
  },
  {
   "cell_type": "markdown",
   "id": "80bb4492",
   "metadata": {},
   "source": [
    "#### 4: What is the median year of the world cups (or the median value of the ‘Year’ column)? Note that FIFA world cup has been played on every 4th year after the previous world cup, starting 1930 and until 2018. However, it was not played in 1942 and 1946, due to WWII. Assume the table contains data for all the world cups."
   ]
  },
  {
   "cell_type": "code",
   "execution_count": 61,
   "id": "272c42b5",
   "metadata": {},
   "outputs": [
    {
     "data": {
      "text/plain": [
       "Year                  1978.0\n",
       "Totalattendance    1865753.0\n",
       "Matches                 38.0\n",
       "Avg.attendance       46039.0\n",
       "dtype: float64"
      ]
     },
     "execution_count": 61,
     "metadata": {},
     "output_type": "execute_result"
    }
   ],
   "source": [
    "fifa2.median()"
   ]
  },
  {
   "cell_type": "markdown",
   "id": "ac2eb0b4",
   "metadata": {},
   "source": [
    "By utilizing the df.median() function, I found that the median value of the 'Year' column was the 1978 FIFA world cup."
   ]
  },
  {
   "cell_type": "markdown",
   "id": "7c39788a",
   "metadata": {},
   "source": [
    "#### 5: What is the average number of people attending a match across all world cups?"
   ]
  },
  {
   "cell_type": "code",
   "execution_count": 77,
   "id": "e66385db",
   "metadata": {},
   "outputs": [
    {
     "data": {
      "text/plain": [
       "45036.08666666667"
      ]
     },
     "execution_count": 77,
     "metadata": {},
     "output_type": "execute_result"
    }
   ],
   "source": [
    "fifa2['Totalattendance'].sum()/fifa2['Matches'].sum()"
   ]
  },
  {
   "cell_type": "markdown",
   "id": "5021414d",
   "metadata": {},
   "source": [
    "I found that the mean value of the number of people attending a match across all world cups is 45036 people."
   ]
  },
  {
   "cell_type": "markdown",
   "id": "bf75320c",
   "metadata": {},
   "source": [
    "## Movie Ratings"
   ]
  },
  {
   "cell_type": "markdown",
   "id": "919aa5e0",
   "metadata": {},
   "source": [
    "#### 1: How many movies are there in the dataset? Drop all columns except 'Title', 'US Gross', 'Worldwide Gross', ‘US DVD Sales’, 'Production Budget', and ’IMDB Rating'."
   ]
  },
  {
   "cell_type": "code",
   "execution_count": 69,
   "id": "166ee4b7",
   "metadata": {},
   "outputs": [],
   "source": [
    "movies = pd.read_json('https://raw.githubusercontent.com/vega/vega-datasets/master/data/movies.json')"
   ]
  },
  {
   "cell_type": "code",
   "execution_count": 73,
   "id": "9beeced7",
   "metadata": {},
   "outputs": [
    {
     "data": {
      "text/plain": [
       "3200"
      ]
     },
     "execution_count": 73,
     "metadata": {},
     "output_type": "execute_result"
    }
   ],
   "source": [
    "movies.Title.count()"
   ]
  },
  {
   "cell_type": "code",
   "execution_count": 84,
   "id": "474c8f3c",
   "metadata": {},
   "outputs": [],
   "source": [
    "movies = movies.drop(columns = ['Release Date', 'MPAA Rating', 'Running Time min', 'Distributor', 'Source', 'Major Genre', 'Creative Type', 'Director', 'Rotten Tomatoes Rating', 'IMDB Votes'])"
   ]
  },
  {
   "cell_type": "markdown",
   "id": "aa4c06ca",
   "metadata": {},
   "source": [
    "According to the df.Title.count() function, there are 3200 movies in this data set in total. Additionally, I dropped the indicated columns."
   ]
  },
  {
   "cell_type": "markdown",
   "id": "be5a3144",
   "metadata": {},
   "source": [
    "#### 2: What is the mean ROI? Which movie has the maximum ROI? Is it the one with minimum production budget?"
   ]
  },
  {
   "cell_type": "code",
   "execution_count": 85,
   "id": "b75e4cb0",
   "metadata": {},
   "outputs": [],
   "source": [
    "movies['ROI'] = (movies['Worldwide Gross'] - movies['Production Budget'])/movies['Production Budget']"
   ]
  },
  {
   "cell_type": "code",
   "execution_count": 86,
   "id": "4ff7f852",
   "metadata": {},
   "outputs": [
    {
     "data": {
      "text/plain": [
       "US Gross             4.400209e+07\n",
       "Worldwide Gross      8.534340e+07\n",
       "US DVD Sales         3.490155e+07\n",
       "Production Budget    3.106917e+07\n",
       "IMDB Rating          6.283467e+00\n",
       "ROI                  1.055750e+01\n",
       "dtype: float64"
      ]
     },
     "execution_count": 86,
     "metadata": {},
     "output_type": "execute_result"
    }
   ],
   "source": [
    "movies.mean()"
   ]
  },
  {
   "cell_type": "code",
   "execution_count": 87,
   "id": "11b837c7",
   "metadata": {},
   "outputs": [
    {
     "data": {
      "text/plain": [
       "Title                Paranormal Activity\n",
       "US Gross                     107918810.0\n",
       "Worldwide Gross              193770453.0\n",
       "US DVD Sales                  14051496.0\n",
       "Production Budget                15000.0\n",
       "IMDB Rating                          6.7\n",
       "ROI                           12917.0302\n",
       "Name: 2526, dtype: object"
      ]
     },
     "execution_count": 87,
     "metadata": {},
     "output_type": "execute_result"
    }
   ],
   "source": [
    "movies.iloc[movies['ROI'].argmax(),:]"
   ]
  },
  {
   "cell_type": "code",
   "execution_count": 88,
   "id": "e80ebd9b",
   "metadata": {},
   "outputs": [
    {
     "data": {
      "text/plain": [
       "Title                 Tarnation\n",
       "US Gross               592014.0\n",
       "Worldwide Gross       1162014.0\n",
       "US DVD Sales                NaN\n",
       "Production Budget         218.0\n",
       "IMDB Rating                 7.1\n",
       "ROI                  5329.33945\n",
       "Name: 2920, dtype: object"
      ]
     },
     "execution_count": 88,
     "metadata": {},
     "output_type": "execute_result"
    }
   ],
   "source": [
    "movies.iloc[movies['Production Budget'].argmin(),:]"
   ]
  },
  {
   "cell_type": "markdown",
   "id": "fc2f31b9",
   "metadata": {},
   "source": [
    "The mean ROI is 10.56 for this data set, and the movie that has the maximum ROI is \"Paranormal Activity\" with an ROI of 12917.0302. Alternatively, the movie with the lowest production budget is \"Tarnation\" with a production budget of $218."
   ]
  },
  {
   "cell_type": "markdown",
   "id": "f5ef0826",
   "metadata": {},
   "source": [
    "#### 3: What is the ROI of the movie with the maximum IMDB rating? Is it in the top 25% movies in terms of ROI? Is it in the bottom 25% movies in terms of production budget?"
   ]
  },
  {
   "cell_type": "code",
   "execution_count": 99,
   "id": "9b3cec87",
   "metadata": {},
   "outputs": [
    {
     "data": {
      "text/plain": [
       "Title                The Godfather\n",
       "US Gross               134966411.0\n",
       "Worldwide Gross        268500000.0\n",
       "US DVD Sales                   NaN\n",
       "Production Budget        7000000.0\n",
       "IMDB Rating                    9.2\n",
       "ROI                      37.357143\n",
       "gross_difference       133533589.0\n",
       "Name: 369, dtype: object"
      ]
     },
     "execution_count": 99,
     "metadata": {},
     "output_type": "execute_result"
    }
   ],
   "source": [
    "movies.iloc[movies['IMDB Rating'].argmax(),:]"
   ]
  },
  {
   "cell_type": "code",
   "execution_count": 100,
   "id": "a127d76e",
   "metadata": {},
   "outputs": [
    {
     "data": {
      "text/html": [
       "<div>\n",
       "<style scoped>\n",
       "    .dataframe tbody tr th:only-of-type {\n",
       "        vertical-align: middle;\n",
       "    }\n",
       "\n",
       "    .dataframe tbody tr th {\n",
       "        vertical-align: top;\n",
       "    }\n",
       "\n",
       "    .dataframe thead th {\n",
       "        text-align: right;\n",
       "    }\n",
       "</style>\n",
       "<table border=\"1\" class=\"dataframe\">\n",
       "  <thead>\n",
       "    <tr style=\"text-align: right;\">\n",
       "      <th></th>\n",
       "      <th>US Gross</th>\n",
       "      <th>Worldwide Gross</th>\n",
       "      <th>US DVD Sales</th>\n",
       "      <th>Production Budget</th>\n",
       "      <th>IMDB Rating</th>\n",
       "      <th>ROI</th>\n",
       "      <th>gross_difference</th>\n",
       "    </tr>\n",
       "  </thead>\n",
       "  <tbody>\n",
       "    <tr>\n",
       "      <th>count</th>\n",
       "      <td>3.194000e+03</td>\n",
       "      <td>3.194000e+03</td>\n",
       "      <td>5.640000e+02</td>\n",
       "      <td>3.200000e+03</td>\n",
       "      <td>2988.000000</td>\n",
       "      <td>3193.000000</td>\n",
       "      <td>3.194000e+03</td>\n",
       "    </tr>\n",
       "    <tr>\n",
       "      <th>mean</th>\n",
       "      <td>4.400209e+07</td>\n",
       "      <td>8.534340e+07</td>\n",
       "      <td>3.490155e+07</td>\n",
       "      <td>3.106917e+07</td>\n",
       "      <td>6.283467</td>\n",
       "      <td>10.557496</td>\n",
       "      <td>4.134131e+07</td>\n",
       "    </tr>\n",
       "    <tr>\n",
       "      <th>std</th>\n",
       "      <td>6.255531e+07</td>\n",
       "      <td>1.499473e+08</td>\n",
       "      <td>4.589512e+07</td>\n",
       "      <td>3.558591e+07</td>\n",
       "      <td>1.252290</td>\n",
       "      <td>250.087423</td>\n",
       "      <td>9.363655e+07</td>\n",
       "    </tr>\n",
       "    <tr>\n",
       "      <th>min</th>\n",
       "      <td>0.000000e+00</td>\n",
       "      <td>0.000000e+00</td>\n",
       "      <td>6.184540e+05</td>\n",
       "      <td>2.180000e+02</td>\n",
       "      <td>1.400000</td>\n",
       "      <td>-1.000000</td>\n",
       "      <td>0.000000e+00</td>\n",
       "    </tr>\n",
       "    <tr>\n",
       "      <th>25%</th>\n",
       "      <td>5.493221e+06</td>\n",
       "      <td>8.031285e+06</td>\n",
       "      <td>9.906211e+06</td>\n",
       "      <td>6.575000e+06</td>\n",
       "      <td>5.600000</td>\n",
       "      <td>-0.321833</td>\n",
       "      <td>0.000000e+00</td>\n",
       "    </tr>\n",
       "    <tr>\n",
       "      <th>50%</th>\n",
       "      <td>2.201947e+07</td>\n",
       "      <td>3.116893e+07</td>\n",
       "      <td>2.033156e+07</td>\n",
       "      <td>2.000000e+07</td>\n",
       "      <td>6.400000</td>\n",
       "      <td>0.815780</td>\n",
       "      <td>2.689910e+06</td>\n",
       "    </tr>\n",
       "    <tr>\n",
       "      <th>75%</th>\n",
       "      <td>5.609176e+07</td>\n",
       "      <td>9.728380e+07</td>\n",
       "      <td>3.779422e+07</td>\n",
       "      <td>4.200000e+07</td>\n",
       "      <td>7.200000</td>\n",
       "      <td>2.961429</td>\n",
       "      <td>4.269355e+07</td>\n",
       "    </tr>\n",
       "    <tr>\n",
       "      <th>max</th>\n",
       "      <td>7.601676e+08</td>\n",
       "      <td>2.767891e+09</td>\n",
       "      <td>3.525821e+08</td>\n",
       "      <td>3.000000e+08</td>\n",
       "      <td>9.200000</td>\n",
       "      <td>12917.030200</td>\n",
       "      <td>2.007724e+09</td>\n",
       "    </tr>\n",
       "  </tbody>\n",
       "</table>\n",
       "</div>"
      ],
      "text/plain": [
       "           US Gross  Worldwide Gross  US DVD Sales  Production Budget  \\\n",
       "count  3.194000e+03     3.194000e+03  5.640000e+02       3.200000e+03   \n",
       "mean   4.400209e+07     8.534340e+07  3.490155e+07       3.106917e+07   \n",
       "std    6.255531e+07     1.499473e+08  4.589512e+07       3.558591e+07   \n",
       "min    0.000000e+00     0.000000e+00  6.184540e+05       2.180000e+02   \n",
       "25%    5.493221e+06     8.031285e+06  9.906211e+06       6.575000e+06   \n",
       "50%    2.201947e+07     3.116893e+07  2.033156e+07       2.000000e+07   \n",
       "75%    5.609176e+07     9.728380e+07  3.779422e+07       4.200000e+07   \n",
       "max    7.601676e+08     2.767891e+09  3.525821e+08       3.000000e+08   \n",
       "\n",
       "       IMDB Rating           ROI  gross_difference  \n",
       "count  2988.000000   3193.000000      3.194000e+03  \n",
       "mean      6.283467     10.557496      4.134131e+07  \n",
       "std       1.252290    250.087423      9.363655e+07  \n",
       "min       1.400000     -1.000000      0.000000e+00  \n",
       "25%       5.600000     -0.321833      0.000000e+00  \n",
       "50%       6.400000      0.815780      2.689910e+06  \n",
       "75%       7.200000      2.961429      4.269355e+07  \n",
       "max       9.200000  12917.030200      2.007724e+09  "
      ]
     },
     "execution_count": 100,
     "metadata": {},
     "output_type": "execute_result"
    }
   ],
   "source": [
    "movies.describe()"
   ]
  },
  {
   "cell_type": "markdown",
   "id": "35c4a973",
   "metadata": {},
   "source": [
    "The ROI of the movie with the maximum IMDB rating (9.2) is \"The Godfather\" with an ROI of 37.36. Yes, \"The Godfather\" has an ROI that places it in the top 25% of movies. And regarding production budget, \"The Godfather\" is just out of the bottom 25% of movies, so the answer is no."
   ]
  },
  {
   "cell_type": "markdown",
   "id": "7e62f7e8",
   "metadata": {},
   "source": [
    "#### 4: What is the median difference between worldwide gross and US gross? Which movie has the highest difference?"
   ]
  },
  {
   "cell_type": "code",
   "execution_count": 91,
   "id": "0f5a083d",
   "metadata": {},
   "outputs": [],
   "source": [
    "movies['gross_difference'] = movies['Worldwide Gross'] - movies['US Gross']"
   ]
  },
  {
   "cell_type": "code",
   "execution_count": 93,
   "id": "827736b1",
   "metadata": {},
   "outputs": [
    {
     "data": {
      "text/plain": [
       "2689909.5"
      ]
     },
     "execution_count": 93,
     "metadata": {},
     "output_type": "execute_result"
    }
   ],
   "source": [
    "movies.gross_difference.median()"
   ]
  },
  {
   "cell_type": "code",
   "execution_count": 96,
   "id": "fc3418b1",
   "metadata": {},
   "outputs": [
    {
     "data": {
      "text/plain": [
       "Title                      Avatar\n",
       "US Gross              760167650.0\n",
       "Worldwide Gross      2767891499.0\n",
       "US DVD Sales          146153933.0\n",
       "Production Budget     237000000.0\n",
       "IMDB Rating                   8.3\n",
       "ROI                     10.678867\n",
       "gross_difference     2007723849.0\n",
       "Name: 1234, dtype: object"
      ]
     },
     "execution_count": 96,
     "metadata": {},
     "output_type": "execute_result"
    }
   ],
   "source": [
    "movies.iloc[movies['gross_difference'].argmax(),:]"
   ]
  },
  {
   "cell_type": "markdown",
   "id": "26c58221",
   "metadata": {},
   "source": [
    "The median difference between worldwide gross and US gross is $2689909.50. The movie with the highest differnce is the movie \"Avatar\"."
   ]
  },
  {
   "cell_type": "markdown",
   "id": "6e3bfb1a",
   "metadata": {},
   "source": [
    "#### 5: Find the US DVD sales of the movie with the highest DVD sales, as a percentage of the total DVD sales of the rest of the movies. Round the percentage to the nearest integer."
   ]
  },
  {
   "cell_type": "code",
   "execution_count": 101,
   "id": "e602238e",
   "metadata": {},
   "outputs": [
    {
     "data": {
      "text/plain": [
       "Title                The Chronicles of Narnia: The Lion, the Witch ...\n",
       "US Gross                                                   291710957.0\n",
       "Worldwide Gross                                            748806957.0\n",
       "US DVD Sales                                               352582053.0\n",
       "Production Budget                                          180000000.0\n",
       "IMDB Rating                                                        NaN\n",
       "ROI                                                           3.160039\n",
       "gross_difference                                           457096000.0\n",
       "Name: 2239, dtype: object"
      ]
     },
     "execution_count": 101,
     "metadata": {},
     "output_type": "execute_result"
    }
   ],
   "source": [
    "movies.iloc[movies['US DVD Sales'].argmax(),:]"
   ]
  },
  {
   "cell_type": "code",
   "execution_count": 105,
   "id": "aa3a2179",
   "metadata": {},
   "outputs": [
    {
     "data": {
      "text/plain": [
       "0.018238363997524085"
      ]
     },
     "execution_count": 105,
     "metadata": {},
     "output_type": "execute_result"
    }
   ],
   "source": [
    "movies['US DVD Sales'].max()/(movies['US DVD Sales'].sum() - movies['US DVD Sales'].max())"
   ]
  },
  {
   "cell_type": "markdown",
   "id": "d39c0c71",
   "metadata": {},
   "source": [
    "The US DVD sales of \"The Chronicals of Narnia\" is roughly 2% of total DVD sales."
   ]
  },
  {
   "cell_type": "markdown",
   "id": "46d921f7",
   "metadata": {},
   "source": [
    "#### 6: Do majority of the movies have IMDB ratings higher than average? Justify your answer."
   ]
  },
  {
   "cell_type": "code",
   "execution_count": 106,
   "id": "b3cfa2de",
   "metadata": {},
   "outputs": [
    {
     "data": {
      "text/html": [
       "<div>\n",
       "<style scoped>\n",
       "    .dataframe tbody tr th:only-of-type {\n",
       "        vertical-align: middle;\n",
       "    }\n",
       "\n",
       "    .dataframe tbody tr th {\n",
       "        vertical-align: top;\n",
       "    }\n",
       "\n",
       "    .dataframe thead th {\n",
       "        text-align: right;\n",
       "    }\n",
       "</style>\n",
       "<table border=\"1\" class=\"dataframe\">\n",
       "  <thead>\n",
       "    <tr style=\"text-align: right;\">\n",
       "      <th></th>\n",
       "      <th>US Gross</th>\n",
       "      <th>Worldwide Gross</th>\n",
       "      <th>US DVD Sales</th>\n",
       "      <th>Production Budget</th>\n",
       "      <th>IMDB Rating</th>\n",
       "      <th>ROI</th>\n",
       "      <th>gross_difference</th>\n",
       "    </tr>\n",
       "  </thead>\n",
       "  <tbody>\n",
       "    <tr>\n",
       "      <th>count</th>\n",
       "      <td>3.194000e+03</td>\n",
       "      <td>3.194000e+03</td>\n",
       "      <td>5.640000e+02</td>\n",
       "      <td>3.200000e+03</td>\n",
       "      <td>2988.000000</td>\n",
       "      <td>3193.000000</td>\n",
       "      <td>3.194000e+03</td>\n",
       "    </tr>\n",
       "    <tr>\n",
       "      <th>mean</th>\n",
       "      <td>4.400209e+07</td>\n",
       "      <td>8.534340e+07</td>\n",
       "      <td>3.490155e+07</td>\n",
       "      <td>3.106917e+07</td>\n",
       "      <td>6.283467</td>\n",
       "      <td>10.557496</td>\n",
       "      <td>4.134131e+07</td>\n",
       "    </tr>\n",
       "    <tr>\n",
       "      <th>std</th>\n",
       "      <td>6.255531e+07</td>\n",
       "      <td>1.499473e+08</td>\n",
       "      <td>4.589512e+07</td>\n",
       "      <td>3.558591e+07</td>\n",
       "      <td>1.252290</td>\n",
       "      <td>250.087423</td>\n",
       "      <td>9.363655e+07</td>\n",
       "    </tr>\n",
       "    <tr>\n",
       "      <th>min</th>\n",
       "      <td>0.000000e+00</td>\n",
       "      <td>0.000000e+00</td>\n",
       "      <td>6.184540e+05</td>\n",
       "      <td>2.180000e+02</td>\n",
       "      <td>1.400000</td>\n",
       "      <td>-1.000000</td>\n",
       "      <td>0.000000e+00</td>\n",
       "    </tr>\n",
       "    <tr>\n",
       "      <th>25%</th>\n",
       "      <td>5.493221e+06</td>\n",
       "      <td>8.031285e+06</td>\n",
       "      <td>9.906211e+06</td>\n",
       "      <td>6.575000e+06</td>\n",
       "      <td>5.600000</td>\n",
       "      <td>-0.321833</td>\n",
       "      <td>0.000000e+00</td>\n",
       "    </tr>\n",
       "    <tr>\n",
       "      <th>50%</th>\n",
       "      <td>2.201947e+07</td>\n",
       "      <td>3.116893e+07</td>\n",
       "      <td>2.033156e+07</td>\n",
       "      <td>2.000000e+07</td>\n",
       "      <td>6.400000</td>\n",
       "      <td>0.815780</td>\n",
       "      <td>2.689910e+06</td>\n",
       "    </tr>\n",
       "    <tr>\n",
       "      <th>75%</th>\n",
       "      <td>5.609176e+07</td>\n",
       "      <td>9.728380e+07</td>\n",
       "      <td>3.779422e+07</td>\n",
       "      <td>4.200000e+07</td>\n",
       "      <td>7.200000</td>\n",
       "      <td>2.961429</td>\n",
       "      <td>4.269355e+07</td>\n",
       "    </tr>\n",
       "    <tr>\n",
       "      <th>max</th>\n",
       "      <td>7.601676e+08</td>\n",
       "      <td>2.767891e+09</td>\n",
       "      <td>3.525821e+08</td>\n",
       "      <td>3.000000e+08</td>\n",
       "      <td>9.200000</td>\n",
       "      <td>12917.030200</td>\n",
       "      <td>2.007724e+09</td>\n",
       "    </tr>\n",
       "  </tbody>\n",
       "</table>\n",
       "</div>"
      ],
      "text/plain": [
       "           US Gross  Worldwide Gross  US DVD Sales  Production Budget  \\\n",
       "count  3.194000e+03     3.194000e+03  5.640000e+02       3.200000e+03   \n",
       "mean   4.400209e+07     8.534340e+07  3.490155e+07       3.106917e+07   \n",
       "std    6.255531e+07     1.499473e+08  4.589512e+07       3.558591e+07   \n",
       "min    0.000000e+00     0.000000e+00  6.184540e+05       2.180000e+02   \n",
       "25%    5.493221e+06     8.031285e+06  9.906211e+06       6.575000e+06   \n",
       "50%    2.201947e+07     3.116893e+07  2.033156e+07       2.000000e+07   \n",
       "75%    5.609176e+07     9.728380e+07  3.779422e+07       4.200000e+07   \n",
       "max    7.601676e+08     2.767891e+09  3.525821e+08       3.000000e+08   \n",
       "\n",
       "       IMDB Rating           ROI  gross_difference  \n",
       "count  2988.000000   3193.000000      3.194000e+03  \n",
       "mean      6.283467     10.557496      4.134131e+07  \n",
       "std       1.252290    250.087423      9.363655e+07  \n",
       "min       1.400000     -1.000000      0.000000e+00  \n",
       "25%       5.600000     -0.321833      0.000000e+00  \n",
       "50%       6.400000      0.815780      2.689910e+06  \n",
       "75%       7.200000      2.961429      4.269355e+07  \n",
       "max       9.200000  12917.030200      2.007724e+09  "
      ]
     },
     "execution_count": 106,
     "metadata": {},
     "output_type": "execute_result"
    }
   ],
   "source": [
    "movies.describe()"
   ]
  },
  {
   "cell_type": "markdown",
   "id": "d1f97a9d",
   "metadata": {},
   "source": [
    "Since the median is higher than the mean (6.4 > 6.28), that means that the distribution for IMDB ratings is skewed left and the majority of movies do have IMDB ratings higher than average."
   ]
  }
 ],
 "metadata": {
  "kernelspec": {
   "display_name": "Python 3",
   "language": "python",
   "name": "python3"
  },
  "language_info": {
   "codemirror_mode": {
    "name": "ipython",
    "version": 3
   },
   "file_extension": ".py",
   "mimetype": "text/x-python",
   "name": "python",
   "nbconvert_exporter": "python",
   "pygments_lexer": "ipython3",
   "version": "3.8.8"
  }
 },
 "nbformat": 4,
 "nbformat_minor": 5
}
